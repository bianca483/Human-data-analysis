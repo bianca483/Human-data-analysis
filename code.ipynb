{
  "nbformat": 4,
  "nbformat_minor": 0,
  "metadata": {
    "colab": {
      "name": "HDA_ultimo.ipynb",
      "provenance": [],
      "collapsed_sections": [
        "s30O4MX4_0Ew",
        "P_2qUnYOu7E9"
      ]
    },
    "kernelspec": {
      "name": "python3",
      "display_name": "Python 3"
    }
  },
  "cells": [
    {
      "cell_type": "code",
      "metadata": {
        "id": "931rqwU1uHRW",
        "colab": {
          "base_uri": "https://localhost:8080/",
          "height": 313
        },
        "outputId": "25d2a4af-bc73-460c-cd01-9ef0def8efef"
      },
      "source": [
        "import pandas as pd\n",
        "import tensorflow as tf\n",
        "import numpy as np\n",
        "from os import listdir\n",
        "from scipy.signal import medfilt\n",
        "#from tqdm import tqdm\n",
        "from scipy.io import loadmat\n",
        "\n",
        "from sklearn.metrics import precision_recall_fscore_support, roc_curve, auc, accuracy_score, precision_recall_curve\n",
        "import matplotlib.pyplot as plt\n",
        "import keras\n",
        "from utils import *\n",
        "\n",
        "from keras.models import Sequential,Input,Model\n",
        "from keras.layers import Dense, Dropout, Flatten\n",
        "from keras.layers import Conv2D, MaxPooling2D\n",
        "from keras.layers.normalization import BatchNormalization\n",
        "from keras.layers.advanced_activations import LeakyReLU\n",
        "from tensorflow.keras.optimizers import SGD\n",
        "from sklearn.model_selection import KFold\n",
        "\n",
        "# Define the data folder location\n",
        "\n",
        "data_dir ='a-pressure-map-dataset-for-in-bed-posture-classification-1.0.0'.encode()\n",
        "\n",
        "dir='a-pressure-map-dataset-for-in-bed-posture-classification-1.0.0/experiment-i/'\n",
        "\n",
        "Fr = [] #Frames_label\n",
        "S = [] #Subjct_label\n",
        "P = [] # Position_label\n",
        "\n",
        "Fr, S,P = get_datasets(data_dir,dir)\n",
        "\n",
        "x_frames = np.array(Fr).astype(np.int)\n",
        "y_subject = np.array(S).astype(np.int)\n",
        "y_posture = np.array(P).astype(np.int)\n",
        "\n",
        "#apply filter\n",
        "x_frames = filter(x_frames)\n",
        "\n",
        "#delete same frames with too few data\n",
        "x_frames,y_subject,y_posture = remove(x_frames,y_subject,y_posture)\n",
        "\n",
        "\n",
        "def split(x_frames, y_subject, y_posture):\n",
        "    X_train, X_test, y_train_sub, y_test_sub, y_train_pos, y_test_pos = train_test_split(x_frames, y_subject,y_posture,test_size=0.25, random_state=42)\n",
        "\n",
        "    X_train, X_val, y_train_sub, y_val_sub, y_train_pos, y_val_pos = train_test_split(X_train, y_train_sub, y_train_pos, test_size=0.25, random_state=42)\n",
        "\n",
        "    x_train = np.array(X_train).astype(np.int)\n",
        "    x_val = np.array(X_val).astype(np.int)\n",
        "    x_test = np.array(X_test).astype(np.int)\n",
        "\n",
        "    y_train_sub = np.array(y_train_sub).astype(np.int)\n",
        "    y_val_sub = np.array(y_val_sub).astype(np.int)\n",
        "    y_test_sub = np.array(y_test_sub).astype(np.int)\n",
        "\n",
        "    y_train_pos = np.array(y_train_pos).astype(np.int)\n",
        "    y_val_pos = np.array(y_val_pos).astype(np.int)\n",
        "    y_test_pos = np.array(y_test_pos).astype(np.int)\n",
        "\n",
        "    print(\"x_train shape: \" + str(x_train.shape))\n",
        "    print(\"x_test shape: \" + str(x_test.shape))\n",
        "    print(\"x_valid shape: \" + str(x_val.shape))\n",
        "\n",
        "    print(\"y_train_sub shape: \" + str(y_train_sub.shape))\n",
        "    print(\"y_test_sub shape: \" + str(y_test_sub.shape))\n",
        "    print(\"y_valid _subshape: \" + str(y_val_sub.shape))\n",
        "\n",
        "    print(\"y_train_pos shape: \" + str(y_train_pos.shape))\n",
        "    print(\"y_test_pos shape: \" + str(y_test_pos.shape))\n",
        "    print(\"y_valid _pos shape: \" + str(y_val_pos.shape))\n",
        "\n",
        "    return x_train, x_test, x_val, y_train_sub, y_test_sub, y_val_sub, y_train_pos, y_test_pos, y_val_pos\n",
        "\n",
        "#split\n",
        "x_train, x_test, x_val, y_train_sub, y_test_sub, y_val_sub, y_train_pos, y_test_pos, y_val_pos = split(x_frames,y_subject,y_posture)\n",
        "\n",
        "#normalization\n",
        "x_train, x_val, x_test = normalization(x_train,x_val,x_test)\n",
        "\n",
        "#reshape to n,64,32\n",
        "x_train, x_val, x_test = reshape(x_train,x_val,x_test)\n",
        "\n",
        "#apply one hot encode\n",
        "y_train_sub,y_test_sub,y_val_sub,y_train_pos,y_test_pos,y_val_pos = hot_encode(y_train_sub,y_test_sub,y_val_sub,y_train_pos,y_test_pos,y_val_pos)\n"
      ],
      "execution_count": null,
      "outputs": [
        {
          "output_type": "stream",
          "text": [
            "x_train shape: (11253, 2048)\n",
            "x_test shape: (5002, 2048)\n",
            "x_valid shape: (3751, 2048)\n",
            "y_train_sub shape: (11253,)\n",
            "y_test_sub shape: (5002,)\n",
            "y_valid _subshape: (3751,)\n",
            "y_train_pos shape: (11253,)\n",
            "y_test_pos shape: (5002,)\n",
            "y_valid _pos shape: (3751,)\n",
            "x_train_n1 (11253, 64, 32, 1)\n",
            "x_test_n1 (5002, 64, 32, 1)\n",
            "x_valid_n1 (3751, 64, 32, 1)\n",
            "(11253, 14)\n",
            "(5002, 14)\n",
            "(3751, 14)\n",
            "(11253, 4)\n",
            "(5002, 4)\n",
            "(3751, 4)\n"
          ],
          "name": "stdout"
        }
      ]
    },
    {
      "cell_type": "markdown",
      "metadata": {
        "id": "s30O4MX4_0Ew"
      },
      "source": [
        "# Subject identification"
      ]
    },
    {
      "cell_type": "code",
      "metadata": {
        "id": "UDe2U_J0AAIH"
      },
      "source": [
        "def model_subject_experiment_one(x_train,x_val,x_test,y_train_sub,y_val_sub,y_test_sub):\n",
        "\n",
        "\n",
        "    x_input = Input(shape=(64, 32, 1))\n",
        "    x = Conv2D(32, kernel_size=(3, 3), strides=1, padding='same')(x_input)\n",
        "    x = BatchNormalization()(x)\n",
        "    x = MaxPooling2D(pool_size=(3, 3))(x)\n",
        "    x = LeakyReLU(alpha=0.2)(x)\n",
        "    x = Dropout(0.1)(x)\n",
        "\n",
        "    x = Conv2D(64, kernel_size=(3, 3), strides=1, padding='same')(x)\n",
        "    x = BatchNormalization()(x)\n",
        "    x = MaxPooling2D(pool_size=(3, 3))(x)\n",
        "    x = LeakyReLU(alpha=0.2)(x)\n",
        "    x = Dropout(0.2)(x)\n",
        "\n",
        "    x = Conv2D(128, kernel_size=(3, 3), strides=1, padding='same')(x)\n",
        "    x = BatchNormalization()(x)\n",
        "    x = LeakyReLU(alpha=0.2)(x)\n",
        "    x = Dropout(0.3)(x)\n",
        "\n",
        "    x = Conv2D(256, kernel_size=(3, 3), strides=1, padding='same')(x)\n",
        "    x = BatchNormalization()(x)\n",
        "    x = LeakyReLU(alpha=0.2)(x)\n",
        "    x = Dropout(0.4)(x)\n",
        "\n",
        "    x = Flatten()(x)\n",
        "\n",
        "    x = Dense(units=256)(x)\n",
        "    x = Dropout(0.5)(x)\n",
        "\n",
        "    x = Dense(units=256)(x)\n",
        "    x = Dropout(0.5)(x)\n",
        "\n",
        "    output1 = Dense(units=14, activation='softmax', name='subject')(x)\n",
        "\n",
        "    model = Model(inputs=x_input, outputs=[output1])\n",
        "\n",
        "    opt = keras.optimizers.Adam(learning_rate=0.00002)\n",
        "    model.compile(optimizer=opt, loss=['categorical_crossentropy','categorical_crossentropy'], metrics=['accuracy'])\n",
        "    model.summary()\n",
        "\n",
        "    history = model.fit(x_train, y_train_sub, epochs=20, validation_data=(x_val, y_val_sub), verbose=1)\n",
        "\n",
        "    score = model.evaluate(x_val, y_val_sub, verbose=0)\n",
        "    print('Validazion loss subject:', score[0])\n",
        "    print('validation accuracy subject:', score[1])\n",
        "\n",
        "    plt.plot(history.history['accuracy'], label='accuracy')\n",
        "    plt.plot(history.history['val_accuracy'], label='val_accuracy')\n",
        "    plt.xlabel('Epoch')\n",
        "    plt.ylabel('Accuracy')\n",
        "    plt.ylim([0, 1])\n",
        "    plt.legend(loc='lower right')\n",
        "    plt.show()\n",
        "\n",
        "    plt.plot(history.history['loss'], label='loss')\n",
        "    plt.plot(history.history['val_loss'], label='val_loss')\n",
        "    plt.xlabel('Epoch')\n",
        "    plt.ylabel('Loss')\n",
        "    plt.ylim([0, 1])\n",
        "    plt.legend(loc='upper right')\n",
        "    plt.title('loss subject')\n",
        "    plt.show()\n",
        "\n",
        "    y_predict_sub = model.predict(x_test)\n",
        "\n",
        "\n",
        "    y_pred = [np.argmax(p) for p in y_predict_sub]\n",
        "    y_true = [np.argmax(p) for p in y_test_sub]\n",
        "\n",
        "    accuracy = metrics.accuracy_score(y_true, y_pred)\n",
        "    print('Test Accuracy subject',accuracy)\n",
        "\n",
        "    confusion_matrix = metrics.confusion_matrix(y_true, y_pred)\n",
        "\n",
        "    plt.figure(figsize=(10, 8))\n",
        "    labels = range(1, 14)\n",
        "    sb.heatmap(confusion_matrix, annot=True, fmt=\"d\", cmap=plt.cm.Blues, xticklabels=labels, yticklabels=labels);\n",
        "\n",
        "    cnn_f1 = metrics.f1_score(y_true, y_pred, average=\"weighted\")\n",
        "    print(\"F1 score: {}\".format(cnn_f1))\n",
        "\n",
        "    return history,model"
      ],
      "execution_count": null,
      "outputs": []
    },
    {
      "cell_type": "code",
      "metadata": {
        "id": "gqlyjbRG1BoM",
        "colab": {
          "base_uri": "https://localhost:8080/"
        },
        "outputId": "89377d45-fd36-48b7-a80f-22ff85b70fbf"
      },
      "source": [
        "#ho aumentato un drop-out\n",
        "history_sub, model_sub =model_subject_experiment_one(x_train,x_val,x_test,y_train_sub,y_val_sub,y_test_sub)"
      ],
      "execution_count": null,
      "outputs": [
        {
          "output_type": "stream",
          "text": [
            "Model: \"model_17\"\n",
            "_________________________________________________________________\n",
            "Layer (type)                 Output Shape              Param #   \n",
            "=================================================================\n",
            "input_17 (InputLayer)        (None, 64, 32, 1)         0         \n",
            "_________________________________________________________________\n",
            "conv2d_65 (Conv2D)           (None, 64, 32, 32)        320       \n",
            "_________________________________________________________________\n",
            "batch_normalization_65 (Batc (None, 64, 32, 32)        128       \n",
            "_________________________________________________________________\n",
            "max_pooling2d_33 (MaxPooling (None, 21, 10, 32)        0         \n",
            "_________________________________________________________________\n",
            "leaky_re_lu_65 (LeakyReLU)   (None, 21, 10, 32)        0         \n",
            "_________________________________________________________________\n",
            "conv2d_66 (Conv2D)           (None, 21, 10, 64)        18496     \n",
            "_________________________________________________________________\n",
            "batch_normalization_66 (Batc (None, 21, 10, 64)        256       \n",
            "_________________________________________________________________\n",
            "max_pooling2d_34 (MaxPooling (None, 7, 3, 64)          0         \n",
            "_________________________________________________________________\n",
            "leaky_re_lu_66 (LeakyReLU)   (None, 7, 3, 64)          0         \n",
            "_________________________________________________________________\n",
            "conv2d_67 (Conv2D)           (None, 7, 3, 128)         73856     \n",
            "_________________________________________________________________\n",
            "batch_normalization_67 (Batc (None, 7, 3, 128)         512       \n",
            "_________________________________________________________________\n",
            "leaky_re_lu_67 (LeakyReLU)   (None, 7, 3, 128)         0         \n",
            "_________________________________________________________________\n",
            "conv2d_68 (Conv2D)           (None, 7, 3, 256)         295168    \n",
            "_________________________________________________________________\n",
            "batch_normalization_68 (Batc (None, 7, 3, 256)         1024      \n",
            "_________________________________________________________________\n",
            "leaky_re_lu_68 (LeakyReLU)   (None, 7, 3, 256)         0         \n",
            "_________________________________________________________________\n",
            "flatten_17 (Flatten)         (None, 5376)              0         \n",
            "_________________________________________________________________\n",
            "dense_25 (Dense)             (None, 256)               1376512   \n",
            "_________________________________________________________________\n",
            "dropout_25 (Dropout)         (None, 256)               0         \n",
            "_________________________________________________________________\n",
            "dense_26 (Dense)             (None, 256)               65792     \n",
            "_________________________________________________________________\n",
            "dropout_26 (Dropout)         (None, 256)               0         \n",
            "_________________________________________________________________\n",
            "subject (Dense)              (None, 14)                3598      \n",
            "=================================================================\n",
            "Total params: 1,835,662\n",
            "Trainable params: 1,834,702\n",
            "Non-trainable params: 960\n",
            "_________________________________________________________________\n",
            "Train on 12803 samples, validate on 3201 samples\n",
            "Epoch 1/20\n",
            "12803/12803 [==============================] - 76s 6ms/step - loss: 1.9236 - accuracy: 0.4413 - val_loss: 3.9263 - val_accuracy: 0.0606\n",
            "Epoch 2/20\n",
            "12803/12803 [==============================] - 74s 6ms/step - loss: 0.6529 - accuracy: 0.8254 - val_loss: 0.3845 - val_accuracy: 0.9431\n",
            "Epoch 3/20\n",
            "12803/12803 [==============================] - 75s 6ms/step - loss: 0.2961 - accuracy: 0.9388 - val_loss: 0.1000 - val_accuracy: 0.9897\n",
            "Epoch 4/20\n",
            "12803/12803 [==============================] - 74s 6ms/step - loss: 0.1700 - accuracy: 0.9695 - val_loss: 0.0587 - val_accuracy: 0.9909\n",
            "Epoch 5/20\n",
            "12803/12803 [==============================] - 75s 6ms/step - loss: 0.1053 - accuracy: 0.9834 - val_loss: 0.0388 - val_accuracy: 0.9931\n",
            "Epoch 6/20\n",
            "12803/12803 [==============================] - 77s 6ms/step - loss: 0.0779 - accuracy: 0.9852 - val_loss: 0.0329 - val_accuracy: 0.9938\n",
            "Epoch 7/20\n",
            "12803/12803 [==============================] - 74s 6ms/step - loss: 0.0583 - accuracy: 0.9887 - val_loss: 0.0320 - val_accuracy: 0.9941\n",
            "Epoch 8/20\n",
            "12803/12803 [==============================] - 74s 6ms/step - loss: 0.0440 - accuracy: 0.9908 - val_loss: 0.0282 - val_accuracy: 0.9953\n",
            "Epoch 9/20\n",
            "12803/12803 [==============================] - 73s 6ms/step - loss: 0.0352 - accuracy: 0.9921 - val_loss: 0.0275 - val_accuracy: 0.9950\n",
            "Epoch 10/20\n",
            "12803/12803 [==============================] - 74s 6ms/step - loss: 0.0274 - accuracy: 0.9941 - val_loss: 0.0267 - val_accuracy: 0.9956\n",
            "Epoch 11/20\n",
            "12803/12803 [==============================] - 74s 6ms/step - loss: 0.0251 - accuracy: 0.9949 - val_loss: 0.0370 - val_accuracy: 0.9963\n",
            "Epoch 12/20\n",
            "12803/12803 [==============================] - 74s 6ms/step - loss: 0.0223 - accuracy: 0.9949 - val_loss: 0.0338 - val_accuracy: 0.9944\n",
            "Epoch 13/20\n",
            "12803/12803 [==============================] - 74s 6ms/step - loss: 0.0185 - accuracy: 0.9969 - val_loss: 0.0333 - val_accuracy: 0.9944\n",
            "Epoch 14/20\n",
            "12803/12803 [==============================] - 74s 6ms/step - loss: 0.0140 - accuracy: 0.9966 - val_loss: 0.0351 - val_accuracy: 0.9953\n",
            "Epoch 15/20\n",
            "12803/12803 [==============================] - 75s 6ms/step - loss: 0.0099 - accuracy: 0.9980 - val_loss: 0.0274 - val_accuracy: 0.9963\n",
            "Epoch 16/20\n",
            "12803/12803 [==============================] - 73s 6ms/step - loss: 0.0114 - accuracy: 0.9975 - val_loss: 0.0266 - val_accuracy: 0.9959\n",
            "Epoch 17/20\n",
            "12803/12803 [==============================] - 73s 6ms/step - loss: 0.0100 - accuracy: 0.9978 - val_loss: 0.0270 - val_accuracy: 0.9963\n",
            "Epoch 18/20\n",
            "12803/12803 [==============================] - 73s 6ms/step - loss: 0.0118 - accuracy: 0.9974 - val_loss: 0.0294 - val_accuracy: 0.9959\n",
            "Epoch 19/20\n",
            "12803/12803 [==============================] - 73s 6ms/step - loss: 0.0081 - accuracy: 0.9981 - val_loss: 0.0410 - val_accuracy: 0.9953\n",
            "Epoch 20/20\n",
            "12803/12803 [==============================] - 74s 6ms/step - loss: 0.0092 - accuracy: 0.9975 - val_loss: 0.0321 - val_accuracy: 0.9959\n",
            "Validazion loss subject: 0.03214690559482206\n",
            "validation accuracy subject: 0.995938777923584\n"
          ],
          "name": "stdout"
        },
        {
          "output_type": "display_data",
          "data": {
            "image/png": "[encoded data removed]",
            "text/plain": [
              "<Figure size 432x288 with 1 Axes>"
            ]
          },
          "metadata": {
            "tags": [],
            "needs_background": "light"
          }
        },
        {
          "output_type": "display_data",
          "data": {
            "image/png": "[encoded data removed]",
            "text/plain": [
              "<Figure size 432x288 with 1 Axes>"
            ]
          },
          "metadata": {
            "tags": [],
            "needs_background": "light"
          }
        },
        {
          "output_type": "stream",
          "text": [
            "Test Accuracy subject 0.9972513743128436\n",
            "F1 score: 0.9972514082249188\n"
          ],
          "name": "stdout"
        },
        {
          "output_type": "display_data",
          "data": {
            "image/png": "[encoded data removed]",
            "text/plain": [
              "<Figure size 720x576 with 2 Axes>"
            ]
          },
          "metadata": {
            "tags": [],
            "needs_background": "light"
          }
        }
      ]
    },
    {
      "cell_type": "code",
      "metadata": {
        "id": "OBd5hKe0HXE_"
      },
      "source": [
        "def model_subject_experiment_one(x_train,x_val,x_test,y_train_sub,y_val_sub,y_test_sub):\n",
        "    from tensorflow.keras import regularizers\n",
        "\n",
        "    x_input = Input(shape=(64, 32, 1))\n",
        "    x = Conv2D(32, kernel_size=(3, 3), strides=1, padding='same')(x_input)\n",
        "    x = BatchNormalization()(x)\n",
        "    x = MaxPooling2D(pool_size=(3, 3))(x)\n",
        "    x = LeakyReLU(alpha=0.2)(x)\n",
        "    x = Dropout(0.1)(x)\n",
        "\n",
        "    x = Conv2D(64, kernel_size=(3, 3), strides=1, padding='same')(x)\n",
        "    x = BatchNormalization()(x)\n",
        "    x = MaxPooling2D(pool_size=(3, 3))(x)\n",
        "    x = LeakyReLU(alpha=0.2)(x)\n",
        "    x = Dropout(0.2)(x)\n",
        "\n",
        "    x = Conv2D(128, kernel_size=(3, 3), strides=1, padding='same')(x)\n",
        "    x = BatchNormalization()(x)\n",
        "    x = LeakyReLU(alpha=0.2)(x)\n",
        "    x = Dropout(0.3)(x)\n",
        "\n",
        "    x = Conv2D(256, kernel_size=(3, 3), strides=1, padding='same')(x)\n",
        "    x = BatchNormalization()(x)\n",
        "    x = LeakyReLU(alpha=0.2)(x)\n",
        "    x = Dropout(0.4)(x)\n",
        "\n",
        "\n",
        "    x = Flatten()(x)\n",
        "    \n",
        "    x = Dense(units=256)(x)\n",
        "    x = Dropout(0.5)(x)\n",
        "\n",
        "    output1 = Dense(units=14, activation='softmax', name='subject')(x)\n",
        "\n",
        "    model = Model(inputs=x_input, outputs=[output1])\n",
        "\n",
        "    opt = keras.optimizers.Adam(learning_rate=0.00002)\n",
        "    loss_list = ['categorical_crossentropy']\n",
        "    model.compile(optimizer=opt,loss=loss_list, metrics=['accuracy'])\n",
        "    model.summary()\n",
        "\n",
        "    history = model.fit(x_train, y_train_sub, epochs=30,batch_size=33 ,validation_data=(x_val, y_val_sub), verbose=1)\n",
        "\n",
        "    score = model.evaluate(x_val, y_val_sub, verbose=0)\n",
        "    print('Validazion loss subject:', score[0])\n",
        "    print('validation accuracy subject:', score[1])\n",
        "\n",
        "    plt.plot(history.history['accuracy'], label='accuracy')\n",
        "    plt.plot(history.history['val_accuracy'], label='val_accuracy')\n",
        "    plt.xlabel('Epoch')\n",
        "    plt.ylabel('Accuracy')\n",
        "    plt.ylim([0, 1])\n",
        "    plt.legend(loc='lower right')\n",
        "    plt.show()\n",
        "\n",
        "    plt.plot(history.history['loss'], label='loss')\n",
        "    plt.plot(history.history['val_loss'], label='val_loss')\n",
        "    plt.xlabel('Epoch')\n",
        "    plt.ylabel('Loss')\n",
        "    plt.ylim([0, 1])\n",
        "    plt.legend(loc='upper right')\n",
        "    plt.title('loss subject')\n",
        "    plt.show()\n",
        "\n",
        "    y_predict_sub = model.predict(x_test)\n",
        "\n",
        "\n",
        "    y_pred = [np.argmax(p) for p in y_predict_sub]\n",
        "    y_true = [np.argmax(p) for p in y_test_sub]\n",
        "\n",
        "    accuracy = metrics.accuracy_score(y_true, y_pred)\n",
        "    print('Test Accuracy subject',accuracy)\n",
        "\n",
        "    confusion_matrix = metrics.confusion_matrix(y_true, y_pred)\n",
        "\n",
        "    plt.figure(figsize=(10, 8))\n",
        "    labels = range(1, 14)\n",
        "    sb.heatmap(confusion_matrix, annot=True, fmt=\"d\", cmap=plt.cm.Blues, xticklabels=labels, yticklabels=labels);\n",
        "\n",
        "    cnn_f1 = metrics.f1_score(y_true, y_pred, average=\"weighted\")\n",
        "    print(\"F1 score: {}\".format(cnn_f1))\n",
        "\n",
        "    return history,model"
      ],
      "execution_count": null,
      "outputs": []
    },
    {
      "cell_type": "code",
      "metadata": {
        "id": "RHHdadnwHaIt",
        "colab": {
          "base_uri": "https://localhost:8080/"
        },
        "outputId": "0f943788-ccaa-44e2-f944-e0d49a6dbf7d"
      },
      "source": [
        "history_sub_1, model_sub_1=model_subject_experiment_one(x_train,x_val,x_test,y_train_sub,y_val_sub,y_test_sub)"
      ],
      "execution_count": null,
      "outputs": [
        {
          "output_type": "stream",
          "text": [
            "Model: \"model_14\"\n",
            "_________________________________________________________________\n",
            "Layer (type)                 Output Shape              Param #   \n",
            "=================================================================\n",
            "input_18 (InputLayer)        (None, 64, 32, 1)         0         \n",
            "_________________________________________________________________\n",
            "conv2d_65 (Conv2D)           (None, 64, 32, 32)        320       \n",
            "_________________________________________________________________\n",
            "batch_normalization_65 (Batc (None, 64, 32, 32)        128       \n",
            "_________________________________________________________________\n",
            "max_pooling2d_33 (MaxPooling (None, 21, 10, 32)        0         \n",
            "_________________________________________________________________\n",
            "leaky_re_lu_65 (LeakyReLU)   (None, 21, 10, 32)        0         \n",
            "_________________________________________________________________\n",
            "dropout_90 (Dropout)         (None, 21, 10, 32)        0         \n",
            "_________________________________________________________________\n",
            "conv2d_66 (Conv2D)           (None, 21, 10, 64)        18496     \n",
            "_________________________________________________________________\n",
            "batch_normalization_66 (Batc (None, 21, 10, 64)        256       \n",
            "_________________________________________________________________\n",
            "max_pooling2d_34 (MaxPooling (None, 7, 3, 64)          0         \n",
            "_________________________________________________________________\n",
            "leaky_re_lu_66 (LeakyReLU)   (None, 7, 3, 64)          0         \n",
            "_________________________________________________________________\n",
            "dropout_91 (Dropout)         (None, 7, 3, 64)          0         \n",
            "_________________________________________________________________\n",
            "conv2d_67 (Conv2D)           (None, 7, 3, 128)         73856     \n",
            "_________________________________________________________________\n",
            "batch_normalization_67 (Batc (None, 7, 3, 128)         512       \n",
            "_________________________________________________________________\n",
            "leaky_re_lu_67 (LeakyReLU)   (None, 7, 3, 128)         0         \n",
            "_________________________________________________________________\n",
            "dropout_92 (Dropout)         (None, 7, 3, 128)         0         \n",
            "_________________________________________________________________\n",
            "conv2d_68 (Conv2D)           (None, 7, 3, 256)         295168    \n",
            "_________________________________________________________________\n",
            "batch_normalization_68 (Batc (None, 7, 3, 256)         1024      \n",
            "_________________________________________________________________\n",
            "leaky_re_lu_68 (LeakyReLU)   (None, 7, 3, 256)         0         \n",
            "_________________________________________________________________\n",
            "dropout_93 (Dropout)         (None, 7, 3, 256)         0         \n",
            "_________________________________________________________________\n",
            "flatten_14 (Flatten)         (None, 5376)              0         \n",
            "_________________________________________________________________\n",
            "dense_26 (Dense)             (None, 256)               1376512   \n",
            "_________________________________________________________________\n",
            "dropout_94 (Dropout)         (None, 256)               0         \n",
            "_________________________________________________________________\n",
            "subject (Dense)              (None, 14)                3598      \n",
            "=================================================================\n",
            "Total params: 1,769,870\n",
            "Trainable params: 1,768,910\n",
            "Non-trainable params: 960\n",
            "_________________________________________________________________\n",
            "Train on 11253 samples, validate on 3751 samples\n",
            "Epoch 1/30\n",
            "11253/11253 [==============================] - 61s 5ms/step - loss: 3.4012 - accuracy: 0.1813 - val_loss: 3.7425 - val_accuracy: 0.1037\n",
            "Epoch 2/30\n",
            "11253/11253 [==============================] - 60s 5ms/step - loss: 2.6685 - accuracy: 0.2819 - val_loss: 2.1941 - val_accuracy: 0.3154\n",
            "Epoch 3/30\n",
            "11253/11253 [==============================] - 60s 5ms/step - loss: 2.3039 - accuracy: 0.3539 - val_loss: 1.1427 - val_accuracy: 0.6652\n",
            "Epoch 4/30\n",
            "11253/11253 [==============================] - 60s 5ms/step - loss: 2.0207 - accuracy: 0.4142 - val_loss: 0.9015 - val_accuracy: 0.7787\n",
            "Epoch 5/30\n",
            "11253/11253 [==============================] - 60s 5ms/step - loss: 1.7464 - accuracy: 0.4790 - val_loss: 0.7917 - val_accuracy: 0.7881\n",
            "Epoch 6/30\n",
            "11253/11253 [==============================] - 60s 5ms/step - loss: 1.5737 - accuracy: 0.5239 - val_loss: 0.6357 - val_accuracy: 0.8339\n",
            "Epoch 7/30\n",
            "11253/11253 [==============================] - 60s 5ms/step - loss: 1.4114 - accuracy: 0.5663 - val_loss: 0.5192 - val_accuracy: 0.8694\n",
            "Epoch 8/30\n",
            "11253/11253 [==============================] - 61s 5ms/step - loss: 1.2939 - accuracy: 0.6041 - val_loss: 0.4970 - val_accuracy: 0.8606\n",
            "Epoch 9/30\n",
            "11253/11253 [==============================] - 62s 6ms/step - loss: 1.1642 - accuracy: 0.6344 - val_loss: 0.3848 - val_accuracy: 0.9006\n",
            "Epoch 10/30\n",
            "11253/11253 [==============================] - 61s 5ms/step - loss: 1.0668 - accuracy: 0.6698 - val_loss: 0.3646 - val_accuracy: 0.9014\n",
            "Epoch 11/30\n",
            "11253/11253 [==============================] - 62s 5ms/step - loss: 0.9694 - accuracy: 0.6964 - val_loss: 0.2924 - val_accuracy: 0.9302\n",
            "Epoch 12/30\n",
            "11253/11253 [==============================] - 62s 5ms/step - loss: 0.8920 - accuracy: 0.7168 - val_loss: 0.2648 - val_accuracy: 0.9379\n",
            "Epoch 13/30\n",
            "11253/11253 [==============================] - 62s 6ms/step - loss: 0.8020 - accuracy: 0.7544 - val_loss: 0.2100 - val_accuracy: 0.9523\n",
            "Epoch 14/30\n",
            "11253/11253 [==============================] - 62s 5ms/step - loss: 0.7524 - accuracy: 0.7626 - val_loss: 0.1824 - val_accuracy: 0.9656\n",
            "Epoch 15/30\n",
            "11253/11253 [==============================] - 62s 5ms/step - loss: 0.6848 - accuracy: 0.7855 - val_loss: 0.1669 - val_accuracy: 0.9608\n",
            "Epoch 16/30\n",
            "11253/11253 [==============================] - 62s 6ms/step - loss: 0.6266 - accuracy: 0.8041 - val_loss: 0.1443 - val_accuracy: 0.9707\n",
            "Epoch 17/30\n",
            "11253/11253 [==============================] - 62s 5ms/step - loss: 0.5775 - accuracy: 0.8200 - val_loss: 0.1264 - val_accuracy: 0.9771\n",
            "Epoch 18/30\n",
            "11253/11253 [==============================] - 65s 6ms/step - loss: 0.5461 - accuracy: 0.8294 - val_loss: 0.1173 - val_accuracy: 0.9816\n",
            "Epoch 19/30\n",
            "11253/11253 [==============================] - 62s 5ms/step - loss: 0.4859 - accuracy: 0.8488 - val_loss: 0.1014 - val_accuracy: 0.9843\n",
            "Epoch 20/30\n",
            "11253/11253 [==============================] - 62s 5ms/step - loss: 0.4840 - accuracy: 0.8524 - val_loss: 0.0994 - val_accuracy: 0.9827\n",
            "Epoch 21/30\n",
            "11253/11253 [==============================] - 62s 6ms/step - loss: 0.4214 - accuracy: 0.8720 - val_loss: 0.0806 - val_accuracy: 0.9877\n",
            "Epoch 22/30\n",
            "11253/11253 [==============================] - 62s 5ms/step - loss: 0.3990 - accuracy: 0.8759 - val_loss: 0.0790 - val_accuracy: 0.9864\n",
            "Epoch 23/30\n",
            "11253/11253 [==============================] - 62s 5ms/step - loss: 0.3680 - accuracy: 0.8889 - val_loss: 0.0734 - val_accuracy: 0.9880\n",
            "Epoch 24/30\n",
            "11253/11253 [==============================] - 62s 5ms/step - loss: 0.3732 - accuracy: 0.8912 - val_loss: 0.0798 - val_accuracy: 0.9835\n",
            "Epoch 25/30\n",
            "11253/11253 [==============================] - 62s 5ms/step - loss: 0.3289 - accuracy: 0.9036 - val_loss: 0.0703 - val_accuracy: 0.9867\n",
            "Epoch 26/30\n",
            "11253/11253 [==============================] - 62s 6ms/step - loss: 0.3162 - accuracy: 0.9077 - val_loss: 0.0613 - val_accuracy: 0.9888\n",
            "Epoch 27/30\n",
            "11253/11253 [==============================] - 61s 5ms/step - loss: 0.2825 - accuracy: 0.9165 - val_loss: 0.0569 - val_accuracy: 0.9904\n",
            "Epoch 28/30\n",
            "11253/11253 [==============================] - 63s 6ms/step - loss: 0.2665 - accuracy: 0.9241 - val_loss: 0.0716 - val_accuracy: 0.9864\n",
            "Epoch 29/30\n",
            "11253/11253 [==============================] - 60s 5ms/step - loss: 0.2579 - accuracy: 0.9249 - val_loss: 0.0609 - val_accuracy: 0.9883\n",
            "Epoch 30/30\n",
            "11253/11253 [==============================] - 61s 5ms/step - loss: 0.2413 - accuracy: 0.9314 - val_loss: 0.0659 - val_accuracy: 0.9867\n",
            "Validazion loss subject: 0.06588187515133842\n",
            "validation accuracy subject: 0.986670196056366\n"
          ],
          "name": "stdout"
        },
        {
          "output_type": "display_data",
          "data": {
            "image/png": "[encoded data removed]",
            "text/plain": [
              "<Figure size 432x288 with 1 Axes>"
            ]
          },
          "metadata": {
            "tags": [],
            "needs_background": "light"
          }
        },
        {
          "output_type": "display_data",
          "data": {
            "image/png": "[encoded data removed]",
            "text/plain": [
              "<Figure size 432x288 with 1 Axes>"
            ]
          },
          "metadata": {
            "tags": [],
            "needs_background": "light"
          }
        },
        {
          "output_type": "stream",
          "text": [
            "Test Accuracy subject 0.9890043982407037\n",
            "F1 score: 0.9889959007196636\n"
          ],
          "name": "stdout"
        },
        {
          "output_type": "display_data",
          "data": {
            "image/png": "[encoded data removed]",
            "text/plain": [
              "<Figure size 720x576 with 2 Axes>"
            ]
          },
          "metadata": {
            "tags": [],
            "needs_background": "light"
          }
        }
      ]
    },
    {
      "cell_type": "code",
      "metadata": {
        "id": "KKDX7DKnSlUb"
      },
      "source": [
        "def model_subject_experiment_one(x_train,x_val,x_test,y_train_sub,y_val_sub,y_test_sub):\n",
        "    from tensorflow.keras import regularizers\n",
        "\n",
        "    x_input = Input(shape=(64, 32, 1))\n",
        "    x = Conv2D(32, kernel_size=(3, 3), strides=1, padding='same')(x_input)\n",
        "    x = BatchNormalization()(x)\n",
        "    x = MaxPooling2D(pool_size=(3, 3))(x)\n",
        "    x = LeakyReLU(alpha=0.2)(x)\n",
        "    x = Dropout(0.1)(x)\n",
        "\n",
        "    x = Conv2D(64, kernel_size=(3, 3), strides=1, padding='same')(x)\n",
        "    x = BatchNormalization()(x)\n",
        "    x = MaxPooling2D(pool_size=(3, 3))(x)\n",
        "    x = LeakyReLU(alpha=0.2)(x)\n",
        "    x = Dropout(0.2)(x)\n",
        "\n",
        "    x = Conv2D(128, kernel_size=(3, 3), strides=1, padding='same')(x)\n",
        "    x = BatchNormalization()(x)\n",
        "    x = LeakyReLU(alpha=0.2)(x)\n",
        "    x = Dropout(0.3)(x)\n",
        "\n",
        "    x = Conv2D(256, kernel_size=(3, 3), strides=1, padding='same')(x)\n",
        "    x = BatchNormalization()(x)\n",
        "    x = LeakyReLU(alpha=0.2)(x)\n",
        "    x = Dropout(0.4)(x)\n",
        "\n",
        "\n",
        "    x = Flatten()(x)\n",
        "\n",
        "    x = Dense(units=256)(x)\n",
        "    x = Dropout(0.5)(x)\n",
        "    \n",
        "    x = Dense(units=256)(x)\n",
        "    x = Dropout(0.5)(x)\n",
        "\n",
        "    output1 = Dense(units=14, activation='softmax', name='subject')(x)\n",
        "\n",
        "    model = Model(inputs=x_input, outputs=[output1])\n",
        "\n",
        "    opt = keras.optimizers.Adam(learning_rate=0.00002)\n",
        "    loss_list = ['categorical_crossentropy']\n",
        "    model.compile(optimizer=opt,loss=loss_list, metrics=['accuracy'])\n",
        "    model.summary()\n",
        "\n",
        "    history = model.fit(x_train, y_train_sub, epochs=30,batch_size=33 ,validation_data=(x_val, y_val_sub), verbose=1)\n",
        "\n",
        "    score = model.evaluate(x_val, y_val_sub, verbose=0)\n",
        "    print('Validazion loss subject:', score[0])\n",
        "    print('validation accuracy subject:', score[1])\n",
        "\n",
        "    plt.plot(history.history['accuracy'], label='accuracy')\n",
        "    plt.plot(history.history['val_accuracy'], label='val_accuracy')\n",
        "    plt.xlabel('Epoch')\n",
        "    plt.ylabel('Accuracy')\n",
        "    plt.ylim([0, 1])\n",
        "    plt.legend(loc='lower right')\n",
        "    plt.show()\n",
        "\n",
        "    plt.plot(history.history['loss'], label='loss')\n",
        "    plt.plot(history.history['val_loss'], label='val_loss')\n",
        "    plt.xlabel('Epoch')\n",
        "    plt.ylabel('Loss')\n",
        "    plt.ylim([0, 1])\n",
        "    plt.legend(loc='upper right')\n",
        "    plt.title('loss subject')\n",
        "    plt.show()\n",
        "\n",
        "    y_predict_sub = model.predict(x_test)\n",
        "\n",
        "\n",
        "    y_pred = [np.argmax(p) for p in y_predict_sub]\n",
        "    y_true = [np.argmax(p) for p in y_test_sub]\n",
        "\n",
        "    accuracy = metrics.accuracy_score(y_true, y_pred)\n",
        "    print('Test Accuracy subject',accuracy)\n",
        "\n",
        "    confusion_matrix = metrics.confusion_matrix(y_true, y_pred)\n",
        "\n",
        "    plt.figure(figsize=(10, 8))\n",
        "    labels = range(1, 14)\n",
        "    sb.heatmap(confusion_matrix, annot=True, fmt=\"d\", cmap=plt.cm.Blues, xticklabels=labels, yticklabels=labels);\n",
        "\n",
        "    cnn_f1 = metrics.f1_score(y_true, y_pred, average=\"weighted\")\n",
        "    print(\"F1 score: {}\".format(cnn_f1))\n",
        "\n",
        "    return history,model"
      ],
      "execution_count": null,
      "outputs": []
    },
    {
      "cell_type": "code",
      "metadata": {
        "id": "VygTXLz3SvSc",
        "colab": {
          "base_uri": "https://localhost:8080/"
        },
        "outputId": "bdaa382b-3fbb-4526-cf7d-8f160c570295"
      },
      "source": [
        "history_sub_2, model_sub_2=model_subject_experiment_one(x_train,x_val,x_test,y_train_sub,y_val_sub,y_test_sub)"
      ],
      "execution_count": null,
      "outputs": [
        {
          "output_type": "stream",
          "text": [
            "Model: \"model_19\"\n",
            "_________________________________________________________________\n",
            "Layer (type)                 Output Shape              Param #   \n",
            "=================================================================\n",
            "input_23 (InputLayer)        (None, 64, 32, 1)         0         \n",
            "_________________________________________________________________\n",
            "conv2d_84 (Conv2D)           (None, 64, 32, 32)        320       \n",
            "_________________________________________________________________\n",
            "batch_normalization_84 (Batc (None, 64, 32, 32)        128       \n",
            "_________________________________________________________________\n",
            "max_pooling2d_43 (MaxPooling (None, 21, 10, 32)        0         \n",
            "_________________________________________________________________\n",
            "leaky_re_lu_84 (LeakyReLU)   (None, 21, 10, 32)        0         \n",
            "_________________________________________________________________\n",
            "dropout_117 (Dropout)        (None, 21, 10, 32)        0         \n",
            "_________________________________________________________________\n",
            "conv2d_85 (Conv2D)           (None, 21, 10, 64)        18496     \n",
            "_________________________________________________________________\n",
            "batch_normalization_85 (Batc (None, 21, 10, 64)        256       \n",
            "_________________________________________________________________\n",
            "max_pooling2d_44 (MaxPooling (None, 7, 3, 64)          0         \n",
            "_________________________________________________________________\n",
            "leaky_re_lu_85 (LeakyReLU)   (None, 7, 3, 64)          0         \n",
            "_________________________________________________________________\n",
            "dropout_118 (Dropout)        (None, 7, 3, 64)          0         \n",
            "_________________________________________________________________\n",
            "conv2d_86 (Conv2D)           (None, 7, 3, 128)         73856     \n",
            "_________________________________________________________________\n",
            "batch_normalization_86 (Batc (None, 7, 3, 128)         512       \n",
            "_________________________________________________________________\n",
            "leaky_re_lu_86 (LeakyReLU)   (None, 7, 3, 128)         0         \n",
            "_________________________________________________________________\n",
            "dropout_119 (Dropout)        (None, 7, 3, 128)         0         \n",
            "_________________________________________________________________\n",
            "conv2d_87 (Conv2D)           (None, 7, 3, 256)         295168    \n",
            "_________________________________________________________________\n",
            "batch_normalization_87 (Batc (None, 7, 3, 256)         1024      \n",
            "_________________________________________________________________\n",
            "leaky_re_lu_87 (LeakyReLU)   (None, 7, 3, 256)         0         \n",
            "_________________________________________________________________\n",
            "dropout_120 (Dropout)        (None, 7, 3, 256)         0         \n",
            "_________________________________________________________________\n",
            "flatten_19 (Flatten)         (None, 5376)              0         \n",
            "_________________________________________________________________\n",
            "dense_34 (Dense)             (None, 256)               1376512   \n",
            "_________________________________________________________________\n",
            "dropout_121 (Dropout)        (None, 256)               0         \n",
            "_________________________________________________________________\n",
            "dense_35 (Dense)             (None, 256)               65792     \n",
            "_________________________________________________________________\n",
            "dropout_122 (Dropout)        (None, 256)               0         \n",
            "_________________________________________________________________\n",
            "subject (Dense)              (None, 14)                3598      \n",
            "=================================================================\n",
            "Total params: 1,835,662\n",
            "Trainable params: 1,834,702\n",
            "Non-trainable params: 960\n",
            "_________________________________________________________________\n",
            "Train on 11253 samples, validate on 3751 samples\n",
            "Epoch 1/30\n",
            "11253/11253 [==============================] - 63s 6ms/step - loss: 4.8456 - accuracy: 0.1311 - val_loss: 3.4399 - val_accuracy: 0.1037\n",
            "Epoch 2/30\n",
            "11253/11253 [==============================] - 62s 5ms/step - loss: 3.8685 - accuracy: 0.1922 - val_loss: 2.3572 - val_accuracy: 0.2218\n",
            "Epoch 3/30\n",
            "11253/11253 [==============================] - 62s 5ms/step - loss: 3.4833 - accuracy: 0.2365 - val_loss: 1.3659 - val_accuracy: 0.5793\n",
            "Epoch 4/30\n",
            "11253/11253 [==============================] - 62s 5ms/step - loss: 3.1407 - accuracy: 0.2789 - val_loss: 1.1959 - val_accuracy: 0.6268\n",
            "Epoch 5/30\n",
            "11253/11253 [==============================] - 62s 6ms/step - loss: 2.8826 - accuracy: 0.3145 - val_loss: 1.0427 - val_accuracy: 0.6961\n",
            "Epoch 6/30\n",
            "11253/11253 [==============================] - 63s 6ms/step - loss: 2.6518 - accuracy: 0.3466 - val_loss: 0.9550 - val_accuracy: 0.7214\n",
            "Epoch 7/30\n",
            "11253/11253 [==============================] - 63s 6ms/step - loss: 2.4687 - accuracy: 0.3815 - val_loss: 0.8685 - val_accuracy: 0.7529\n",
            "Epoch 8/30\n",
            "11253/11253 [==============================] - 65s 6ms/step - loss: 2.3191 - accuracy: 0.4015 - val_loss: 0.8119 - val_accuracy: 0.7681\n",
            "Epoch 9/30\n",
            " 9339/11253 [=======================>......] - ETA: 9s - loss: 2.1657 - accuracy: 0.4310 "
          ],
          "name": "stdout"
        },
        {
          "output_type": "error",
          "ename": "KeyboardInterrupt",
          "evalue": "ignored",
          "traceback": [
            "\u001b[0;31m---------------------------------------------------------------------------\u001b[0m",
            "\u001b[0;31mKeyboardInterrupt\u001b[0m                         Traceback (most recent call last)",
            "\u001b[0;32m<ipython-input-78-9d3e94cf5d97>\u001b[0m in \u001b[0;36m<module>\u001b[0;34m()\u001b[0m\n\u001b[0;32m----> 1\u001b[0;31m \u001b[0mhistory_sub_2\u001b[0m\u001b[0;34m,\u001b[0m \u001b[0mmodel_sub_2\u001b[0m\u001b[0;34m=\u001b[0m\u001b[0mmodel_subject_experiment_one\u001b[0m\u001b[0;34m(\u001b[0m\u001b[0mx_train\u001b[0m\u001b[0;34m,\u001b[0m\u001b[0mx_val\u001b[0m\u001b[0;34m,\u001b[0m\u001b[0mx_test\u001b[0m\u001b[0;34m,\u001b[0m\u001b[0my_train_sub\u001b[0m\u001b[0;34m,\u001b[0m\u001b[0my_val_sub\u001b[0m\u001b[0;34m,\u001b[0m\u001b[0my_test_sub\u001b[0m\u001b[0;34m)\u001b[0m\u001b[0;34m\u001b[0m\u001b[0;34m\u001b[0m\u001b[0m\n\u001b[0m",
            "\u001b[0;32m<ipython-input-77-8b70ab3563b8>\u001b[0m in \u001b[0;36mmodel_subject_experiment_one\u001b[0;34m(x_train, x_val, x_test, y_train_sub, y_val_sub, y_test_sub)\u001b[0m\n\u001b[1;32m     43\u001b[0m     \u001b[0mmodel\u001b[0m\u001b[0;34m.\u001b[0m\u001b[0msummary\u001b[0m\u001b[0;34m(\u001b[0m\u001b[0;34m)\u001b[0m\u001b[0;34m\u001b[0m\u001b[0;34m\u001b[0m\u001b[0m\n\u001b[1;32m     44\u001b[0m \u001b[0;34m\u001b[0m\u001b[0m\n\u001b[0;32m---> 45\u001b[0;31m     \u001b[0mhistory\u001b[0m \u001b[0;34m=\u001b[0m \u001b[0mmodel\u001b[0m\u001b[0;34m.\u001b[0m\u001b[0mfit\u001b[0m\u001b[0;34m(\u001b[0m\u001b[0mx_train\u001b[0m\u001b[0;34m,\u001b[0m \u001b[0my_train_sub\u001b[0m\u001b[0;34m,\u001b[0m \u001b[0mepochs\u001b[0m\u001b[0;34m=\u001b[0m\u001b[0;36m30\u001b[0m\u001b[0;34m,\u001b[0m\u001b[0mbatch_size\u001b[0m\u001b[0;34m=\u001b[0m\u001b[0;36m33\u001b[0m \u001b[0;34m,\u001b[0m\u001b[0mvalidation_data\u001b[0m\u001b[0;34m=\u001b[0m\u001b[0;34m(\u001b[0m\u001b[0mx_val\u001b[0m\u001b[0;34m,\u001b[0m \u001b[0my_val_sub\u001b[0m\u001b[0;34m)\u001b[0m\u001b[0;34m,\u001b[0m \u001b[0mverbose\u001b[0m\u001b[0;34m=\u001b[0m\u001b[0;36m1\u001b[0m\u001b[0;34m)\u001b[0m\u001b[0;34m\u001b[0m\u001b[0;34m\u001b[0m\u001b[0m\n\u001b[0m\u001b[1;32m     46\u001b[0m \u001b[0;34m\u001b[0m\u001b[0m\n\u001b[1;32m     47\u001b[0m     \u001b[0mscore\u001b[0m \u001b[0;34m=\u001b[0m \u001b[0mmodel\u001b[0m\u001b[0;34m.\u001b[0m\u001b[0mevaluate\u001b[0m\u001b[0;34m(\u001b[0m\u001b[0mx_val\u001b[0m\u001b[0;34m,\u001b[0m \u001b[0my_val_sub\u001b[0m\u001b[0;34m,\u001b[0m \u001b[0mverbose\u001b[0m\u001b[0;34m=\u001b[0m\u001b[0;36m0\u001b[0m\u001b[0;34m)\u001b[0m\u001b[0;34m\u001b[0m\u001b[0;34m\u001b[0m\u001b[0m\n",
            "\u001b[0;32m/usr/local/lib/python3.6/dist-packages/keras/engine/training.py\u001b[0m in \u001b[0;36mfit\u001b[0;34m(self, x, y, batch_size, epochs, verbose, callbacks, validation_split, validation_data, shuffle, class_weight, sample_weight, initial_epoch, steps_per_epoch, validation_steps, validation_freq, max_queue_size, workers, use_multiprocessing, **kwargs)\u001b[0m\n\u001b[1;32m   1237\u001b[0m                                         \u001b[0msteps_per_epoch\u001b[0m\u001b[0;34m=\u001b[0m\u001b[0msteps_per_epoch\u001b[0m\u001b[0;34m,\u001b[0m\u001b[0;34m\u001b[0m\u001b[0;34m\u001b[0m\u001b[0m\n\u001b[1;32m   1238\u001b[0m                                         \u001b[0mvalidation_steps\u001b[0m\u001b[0;34m=\u001b[0m\u001b[0mvalidation_steps\u001b[0m\u001b[0;34m,\u001b[0m\u001b[0;34m\u001b[0m\u001b[0;34m\u001b[0m\u001b[0m\n\u001b[0;32m-> 1239\u001b[0;31m                                         validation_freq=validation_freq)\n\u001b[0m\u001b[1;32m   1240\u001b[0m \u001b[0;34m\u001b[0m\u001b[0m\n\u001b[1;32m   1241\u001b[0m     def evaluate(self,\n",
            "\u001b[0;32m/usr/local/lib/python3.6/dist-packages/keras/engine/training_arrays.py\u001b[0m in \u001b[0;36mfit_loop\u001b[0;34m(model, fit_function, fit_inputs, out_labels, batch_size, epochs, verbose, callbacks, val_function, val_inputs, shuffle, initial_epoch, steps_per_epoch, validation_steps, validation_freq)\u001b[0m\n\u001b[1;32m    194\u001b[0m                     \u001b[0mins_batch\u001b[0m\u001b[0;34m[\u001b[0m\u001b[0mi\u001b[0m\u001b[0;34m]\u001b[0m \u001b[0;34m=\u001b[0m \u001b[0mins_batch\u001b[0m\u001b[0;34m[\u001b[0m\u001b[0mi\u001b[0m\u001b[0;34m]\u001b[0m\u001b[0;34m.\u001b[0m\u001b[0mtoarray\u001b[0m\u001b[0;34m(\u001b[0m\u001b[0;34m)\u001b[0m\u001b[0;34m\u001b[0m\u001b[0;34m\u001b[0m\u001b[0m\n\u001b[1;32m    195\u001b[0m \u001b[0;34m\u001b[0m\u001b[0m\n\u001b[0;32m--> 196\u001b[0;31m                 \u001b[0mouts\u001b[0m \u001b[0;34m=\u001b[0m \u001b[0mfit_function\u001b[0m\u001b[0;34m(\u001b[0m\u001b[0mins_batch\u001b[0m\u001b[0;34m)\u001b[0m\u001b[0;34m\u001b[0m\u001b[0;34m\u001b[0m\u001b[0m\n\u001b[0m\u001b[1;32m    197\u001b[0m                 \u001b[0mouts\u001b[0m \u001b[0;34m=\u001b[0m \u001b[0mto_list\u001b[0m\u001b[0;34m(\u001b[0m\u001b[0mouts\u001b[0m\u001b[0;34m)\u001b[0m\u001b[0;34m\u001b[0m\u001b[0;34m\u001b[0m\u001b[0m\n\u001b[1;32m    198\u001b[0m                 \u001b[0;32mfor\u001b[0m \u001b[0ml\u001b[0m\u001b[0;34m,\u001b[0m \u001b[0mo\u001b[0m \u001b[0;32min\u001b[0m \u001b[0mzip\u001b[0m\u001b[0;34m(\u001b[0m\u001b[0mout_labels\u001b[0m\u001b[0;34m,\u001b[0m \u001b[0mouts\u001b[0m\u001b[0;34m)\u001b[0m\u001b[0;34m:\u001b[0m\u001b[0;34m\u001b[0m\u001b[0;34m\u001b[0m\u001b[0m\n",
            "\u001b[0;32m/usr/local/lib/python3.6/dist-packages/tensorflow/python/keras/backend.py\u001b[0m in \u001b[0;36m__call__\u001b[0;34m(self, inputs)\u001b[0m\n\u001b[1;32m   3790\u001b[0m         \u001b[0mvalue\u001b[0m \u001b[0;34m=\u001b[0m \u001b[0mmath_ops\u001b[0m\u001b[0;34m.\u001b[0m\u001b[0mcast\u001b[0m\u001b[0;34m(\u001b[0m\u001b[0mvalue\u001b[0m\u001b[0;34m,\u001b[0m \u001b[0mtensor\u001b[0m\u001b[0;34m.\u001b[0m\u001b[0mdtype\u001b[0m\u001b[0;34m)\u001b[0m\u001b[0;34m\u001b[0m\u001b[0;34m\u001b[0m\u001b[0m\n\u001b[1;32m   3791\u001b[0m       \u001b[0mconverted_inputs\u001b[0m\u001b[0;34m.\u001b[0m\u001b[0mappend\u001b[0m\u001b[0;34m(\u001b[0m\u001b[0mvalue\u001b[0m\u001b[0;34m)\u001b[0m\u001b[0;34m\u001b[0m\u001b[0;34m\u001b[0m\u001b[0m\n\u001b[0;32m-> 3792\u001b[0;31m     \u001b[0moutputs\u001b[0m \u001b[0;34m=\u001b[0m \u001b[0mself\u001b[0m\u001b[0;34m.\u001b[0m\u001b[0m_graph_fn\u001b[0m\u001b[0;34m(\u001b[0m\u001b[0;34m*\u001b[0m\u001b[0mconverted_inputs\u001b[0m\u001b[0;34m)\u001b[0m\u001b[0;34m\u001b[0m\u001b[0;34m\u001b[0m\u001b[0m\n\u001b[0m\u001b[1;32m   3793\u001b[0m \u001b[0;34m\u001b[0m\u001b[0m\n\u001b[1;32m   3794\u001b[0m     \u001b[0;31m# EagerTensor.numpy() will often make a copy to ensure memory safety.\u001b[0m\u001b[0;34m\u001b[0m\u001b[0;34m\u001b[0m\u001b[0;34m\u001b[0m\u001b[0m\n",
            "\u001b[0;32m/usr/local/lib/python3.6/dist-packages/tensorflow/python/eager/function.py\u001b[0m in \u001b[0;36m__call__\u001b[0;34m(self, *args, **kwargs)\u001b[0m\n\u001b[1;32m   1603\u001b[0m       \u001b[0mTypeError\u001b[0m\u001b[0;34m:\u001b[0m \u001b[0mFor\u001b[0m \u001b[0minvalid\u001b[0m \u001b[0mpositional\u001b[0m\u001b[0;34m/\u001b[0m\u001b[0mkeyword\u001b[0m \u001b[0margument\u001b[0m \u001b[0mcombinations\u001b[0m\u001b[0;34m.\u001b[0m\u001b[0;34m\u001b[0m\u001b[0;34m\u001b[0m\u001b[0m\n\u001b[1;32m   1604\u001b[0m     \"\"\"\n\u001b[0;32m-> 1605\u001b[0;31m     \u001b[0;32mreturn\u001b[0m \u001b[0mself\u001b[0m\u001b[0;34m.\u001b[0m\u001b[0m_call_impl\u001b[0m\u001b[0;34m(\u001b[0m\u001b[0margs\u001b[0m\u001b[0;34m,\u001b[0m \u001b[0mkwargs\u001b[0m\u001b[0;34m)\u001b[0m\u001b[0;34m\u001b[0m\u001b[0;34m\u001b[0m\u001b[0m\n\u001b[0m\u001b[1;32m   1606\u001b[0m \u001b[0;34m\u001b[0m\u001b[0m\n\u001b[1;32m   1607\u001b[0m   \u001b[0;32mdef\u001b[0m \u001b[0m_call_impl\u001b[0m\u001b[0;34m(\u001b[0m\u001b[0mself\u001b[0m\u001b[0;34m,\u001b[0m \u001b[0margs\u001b[0m\u001b[0;34m,\u001b[0m \u001b[0mkwargs\u001b[0m\u001b[0;34m,\u001b[0m \u001b[0mcancellation_manager\u001b[0m\u001b[0;34m=\u001b[0m\u001b[0;32mNone\u001b[0m\u001b[0;34m)\u001b[0m\u001b[0;34m:\u001b[0m\u001b[0;34m\u001b[0m\u001b[0;34m\u001b[0m\u001b[0m\n",
            "\u001b[0;32m/usr/local/lib/python3.6/dist-packages/tensorflow/python/eager/function.py\u001b[0m in \u001b[0;36m_call_impl\u001b[0;34m(self, args, kwargs, cancellation_manager)\u001b[0m\n\u001b[1;32m   1643\u001b[0m       raise TypeError(\"Keyword arguments {} unknown. Expected {}.\".format(\n\u001b[1;32m   1644\u001b[0m           list(kwargs.keys()), list(self._arg_keywords)))\n\u001b[0;32m-> 1645\u001b[0;31m     \u001b[0;32mreturn\u001b[0m \u001b[0mself\u001b[0m\u001b[0;34m.\u001b[0m\u001b[0m_call_flat\u001b[0m\u001b[0;34m(\u001b[0m\u001b[0margs\u001b[0m\u001b[0;34m,\u001b[0m \u001b[0mself\u001b[0m\u001b[0;34m.\u001b[0m\u001b[0mcaptured_inputs\u001b[0m\u001b[0;34m,\u001b[0m \u001b[0mcancellation_manager\u001b[0m\u001b[0;34m)\u001b[0m\u001b[0;34m\u001b[0m\u001b[0;34m\u001b[0m\u001b[0m\n\u001b[0m\u001b[1;32m   1646\u001b[0m \u001b[0;34m\u001b[0m\u001b[0m\n\u001b[1;32m   1647\u001b[0m   \u001b[0;32mdef\u001b[0m \u001b[0m_filtered_call\u001b[0m\u001b[0;34m(\u001b[0m\u001b[0mself\u001b[0m\u001b[0;34m,\u001b[0m \u001b[0margs\u001b[0m\u001b[0;34m,\u001b[0m \u001b[0mkwargs\u001b[0m\u001b[0;34m)\u001b[0m\u001b[0;34m:\u001b[0m\u001b[0;34m\u001b[0m\u001b[0;34m\u001b[0m\u001b[0m\n",
            "\u001b[0;32m/usr/local/lib/python3.6/dist-packages/tensorflow/python/eager/function.py\u001b[0m in \u001b[0;36m_call_flat\u001b[0;34m(self, args, captured_inputs, cancellation_manager)\u001b[0m\n\u001b[1;32m   1744\u001b[0m       \u001b[0;31m# No tape is watching; skip to running the function.\u001b[0m\u001b[0;34m\u001b[0m\u001b[0;34m\u001b[0m\u001b[0;34m\u001b[0m\u001b[0m\n\u001b[1;32m   1745\u001b[0m       return self._build_call_outputs(self._inference_function.call(\n\u001b[0;32m-> 1746\u001b[0;31m           ctx, args, cancellation_manager=cancellation_manager))\n\u001b[0m\u001b[1;32m   1747\u001b[0m     forward_backward = self._select_forward_and_backward_functions(\n\u001b[1;32m   1748\u001b[0m         \u001b[0margs\u001b[0m\u001b[0;34m,\u001b[0m\u001b[0;34m\u001b[0m\u001b[0;34m\u001b[0m\u001b[0m\n",
            "\u001b[0;32m/usr/local/lib/python3.6/dist-packages/tensorflow/python/eager/function.py\u001b[0m in \u001b[0;36mcall\u001b[0;34m(self, ctx, args, cancellation_manager)\u001b[0m\n\u001b[1;32m    596\u001b[0m               \u001b[0minputs\u001b[0m\u001b[0;34m=\u001b[0m\u001b[0margs\u001b[0m\u001b[0;34m,\u001b[0m\u001b[0;34m\u001b[0m\u001b[0;34m\u001b[0m\u001b[0m\n\u001b[1;32m    597\u001b[0m               \u001b[0mattrs\u001b[0m\u001b[0;34m=\u001b[0m\u001b[0mattrs\u001b[0m\u001b[0;34m,\u001b[0m\u001b[0;34m\u001b[0m\u001b[0;34m\u001b[0m\u001b[0m\n\u001b[0;32m--> 598\u001b[0;31m               ctx=ctx)\n\u001b[0m\u001b[1;32m    599\u001b[0m         \u001b[0;32melse\u001b[0m\u001b[0;34m:\u001b[0m\u001b[0;34m\u001b[0m\u001b[0;34m\u001b[0m\u001b[0m\n\u001b[1;32m    600\u001b[0m           outputs = execute.execute_with_cancellation(\n",
            "\u001b[0;32m/usr/local/lib/python3.6/dist-packages/tensorflow/python/eager/execute.py\u001b[0m in \u001b[0;36mquick_execute\u001b[0;34m(op_name, num_outputs, inputs, attrs, ctx, name)\u001b[0m\n\u001b[1;32m     58\u001b[0m     \u001b[0mctx\u001b[0m\u001b[0;34m.\u001b[0m\u001b[0mensure_initialized\u001b[0m\u001b[0;34m(\u001b[0m\u001b[0;34m)\u001b[0m\u001b[0;34m\u001b[0m\u001b[0;34m\u001b[0m\u001b[0m\n\u001b[1;32m     59\u001b[0m     tensors = pywrap_tfe.TFE_Py_Execute(ctx._handle, device_name, op_name,\n\u001b[0;32m---> 60\u001b[0;31m                                         inputs, attrs, num_outputs)\n\u001b[0m\u001b[1;32m     61\u001b[0m   \u001b[0;32mexcept\u001b[0m \u001b[0mcore\u001b[0m\u001b[0;34m.\u001b[0m\u001b[0m_NotOkStatusException\u001b[0m \u001b[0;32mas\u001b[0m \u001b[0me\u001b[0m\u001b[0;34m:\u001b[0m\u001b[0;34m\u001b[0m\u001b[0;34m\u001b[0m\u001b[0m\n\u001b[1;32m     62\u001b[0m     \u001b[0;32mif\u001b[0m \u001b[0mname\u001b[0m \u001b[0;32mis\u001b[0m \u001b[0;32mnot\u001b[0m \u001b[0;32mNone\u001b[0m\u001b[0;34m:\u001b[0m\u001b[0;34m\u001b[0m\u001b[0;34m\u001b[0m\u001b[0m\n",
            "\u001b[0;31mKeyboardInterrupt\u001b[0m: "
          ]
        }
      ]
    },
    {
      "cell_type": "markdown",
      "metadata": {
        "id": "QtrWJbei_5h3"
      },
      "source": [
        "# Posture classification"
      ]
    },
    {
      "cell_type": "code",
      "metadata": {
        "id": "Sf8PgNYJ9Y32"
      },
      "source": [
        "def model_posture_experiment_one(x_train,x_val,x_test,y_train_pos,y_val_pos,y_test_pos):\n",
        "\n",
        "\n",
        "    x_input = Input(shape=(64, 32, 1))\n",
        "    x = Conv2D(32, kernel_size=(3, 3), strides=1, padding='same')(x_input)\n",
        "    x = BatchNormalization()(x)\n",
        "    x = MaxPooling2D(pool_size=(3, 3))(x)\n",
        "    x = LeakyReLU(alpha=0.2)(x)\n",
        "    x = Dropout(0.1)(x)\n",
        "\n",
        "    x = Conv2D(64, kernel_size=(3, 3), strides=1, padding='same')(x)\n",
        "    x = BatchNormalization()(x)\n",
        "    x = MaxPooling2D(pool_size=(3, 3))(x)\n",
        "    x = LeakyReLU(alpha=0.2)(x)\n",
        "    x = Dropout(0.2)(x)\n",
        "\n",
        "    x = Conv2D(128, kernel_size=(3, 3), strides=1, padding='same')(x)\n",
        "    x = BatchNormalization()(x)\n",
        "    x = LeakyReLU(alpha=0.2)(x)\n",
        "    x = Dropout(0.3)(x)\n",
        "\n",
        "    x = Conv2D(256, kernel_size=(3, 3), strides=1, padding='same')(x)\n",
        "    x = BatchNormalization()(x)\n",
        "    x = LeakyReLU(alpha=0.2)(x)\n",
        "    x = Dropout(0.4)(x)\n",
        "\n",
        "    x = Flatten()(x)\n",
        "\n",
        "    x = Dense(units=256)(x)\n",
        "    x = Dropout(0.5)(x)\n",
        "\n",
        "    output1 = Dense(units=4, activation='softmax', name='subject')(x)\n",
        "    model = Model(inputs=x_input, outputs=[output1])\n",
        "\n",
        "    opt = keras.optimizers.Adam(learning_rate=0.00002)\n",
        "    model.compile(optimizer=opt, loss='categorical_crossentropy', metrics=['accuracy'])\n",
        "    model.summary()\n",
        "\n",
        "    history = model.fit(x_train, y_train_pos, epochs=30,batch_size=33, validation_data=(x_val, y_val_pos), verbose=1)\n",
        "\n",
        "    score = model.evaluate(x_val, y_val_pos, verbose=0)\n",
        "    print('Validation loss posture:', score[0])\n",
        "    print('Validation accuracy posture:', score[1])\n",
        "\n",
        "    plt.plot(history.history['accuracy'], label='accuracy')\n",
        "    plt.plot(history.history['val_accuracy'], label='val_accuracy')\n",
        "    plt.xlabel('Epoch')\n",
        "    plt.ylabel('Accuracy')\n",
        "    plt.ylim([0, 1])\n",
        "    plt.legend(loc='lower right')\n",
        "    plt.show()\n",
        "\n",
        "    plt.plot(history.history['loss'], label='loss')\n",
        "    plt.plot(history.history['val_loss'], label='val_loss')\n",
        "    plt.xlabel('Epoch')\n",
        "    plt.ylabel('Loss')\n",
        "    plt.ylim([0, 1])\n",
        "    plt.legend(loc='upper right')\n",
        "    plt.title('loss subject')\n",
        "    plt.show()\n",
        "\n",
        "    y_predict_pos = model.predict(x_test)\n",
        "\n",
        "    y_pred = [np.argmax(p) for p in y_predict_pos]\n",
        "    y_true = [np.argmax(p) for p in y_test_pos]\n",
        "\n",
        "    accuracy = metrics.accuracy_score(y_true, y_pred)\n",
        "    print('Test Accuracy Posture',accuracy)\n",
        "\n",
        "    confusion_matrix = metrics.confusion_matrix(y_true, y_pred)\n",
        "\n",
        "    plt.figure(figsize=(5, 3))\n",
        "    labels = ['Supine','Right','Left']\n",
        "    sb.heatmap(confusion_matrix, annot=True, fmt=\"d\", cmap=plt.cm.Blues, xticklabels=labels, yticklabels=labels);\n",
        "\n",
        "    cnn_f1 = metrics.f1_score(y_true, y_pred, average=\"weighted\")\n",
        "    print(\"F1 score: {}\".format(cnn_f1))\n",
        "    return history,model"
      ],
      "execution_count": null,
      "outputs": []
    },
    {
      "cell_type": "code",
      "metadata": {
        "id": "dmQbKwo81ED8",
        "colab": {
          "base_uri": "https://localhost:8080/"
        },
        "outputId": "d8441398-82ad-4f45-ca69-eba32a86f55f"
      },
      "source": [
        "history_p, model_p = model_posture_experiment_one(x_train,x_val,x_test,y_train_pos,y_val_pos,y_test_pos)"
      ],
      "execution_count": null,
      "outputs": [
        {
          "output_type": "stream",
          "text": [
            "Model: \"model_18\"\n",
            "_________________________________________________________________\n",
            "Layer (type)                 Output Shape              Param #   \n",
            "=================================================================\n",
            "input_22 (InputLayer)        (None, 64, 32, 1)         0         \n",
            "_________________________________________________________________\n",
            "conv2d_80 (Conv2D)           (None, 64, 32, 32)        320       \n",
            "_________________________________________________________________\n",
            "batch_normalization_80 (Batc (None, 64, 32, 32)        128       \n",
            "_________________________________________________________________\n",
            "max_pooling2d_41 (MaxPooling (None, 21, 10, 32)        0         \n",
            "_________________________________________________________________\n",
            "leaky_re_lu_80 (LeakyReLU)   (None, 21, 10, 32)        0         \n",
            "_________________________________________________________________\n",
            "dropout_112 (Dropout)        (None, 21, 10, 32)        0         \n",
            "_________________________________________________________________\n",
            "conv2d_81 (Conv2D)           (None, 21, 10, 64)        18496     \n",
            "_________________________________________________________________\n",
            "batch_normalization_81 (Batc (None, 21, 10, 64)        256       \n",
            "_________________________________________________________________\n",
            "max_pooling2d_42 (MaxPooling (None, 7, 3, 64)          0         \n",
            "_________________________________________________________________\n",
            "leaky_re_lu_81 (LeakyReLU)   (None, 7, 3, 64)          0         \n",
            "_________________________________________________________________\n",
            "dropout_113 (Dropout)        (None, 7, 3, 64)          0         \n",
            "_________________________________________________________________\n",
            "conv2d_82 (Conv2D)           (None, 7, 3, 128)         73856     \n",
            "_________________________________________________________________\n",
            "batch_normalization_82 (Batc (None, 7, 3, 128)         512       \n",
            "_________________________________________________________________\n",
            "leaky_re_lu_82 (LeakyReLU)   (None, 7, 3, 128)         0         \n",
            "_________________________________________________________________\n",
            "dropout_114 (Dropout)        (None, 7, 3, 128)         0         \n",
            "_________________________________________________________________\n",
            "conv2d_83 (Conv2D)           (None, 7, 3, 256)         295168    \n",
            "_________________________________________________________________\n",
            "batch_normalization_83 (Batc (None, 7, 3, 256)         1024      \n",
            "_________________________________________________________________\n",
            "leaky_re_lu_83 (LeakyReLU)   (None, 7, 3, 256)         0         \n",
            "_________________________________________________________________\n",
            "dropout_115 (Dropout)        (None, 7, 3, 256)         0         \n",
            "_________________________________________________________________\n",
            "flatten_18 (Flatten)         (None, 5376)              0         \n",
            "_________________________________________________________________\n",
            "dense_33 (Dense)             (None, 256)               1376512   \n",
            "_________________________________________________________________\n",
            "dropout_116 (Dropout)        (None, 256)               0         \n",
            "_________________________________________________________________\n",
            "subject (Dense)              (None, 4)                 1028      \n",
            "=================================================================\n",
            "Total params: 1,767,300\n",
            "Trainable params: 1,766,340\n",
            "Non-trainable params: 960\n",
            "_________________________________________________________________\n",
            "Train on 11253 samples, validate on 3751 samples\n",
            "Epoch 1/30\n",
            "11253/11253 [==============================] - 62s 6ms/step - loss: 0.7658 - accuracy: 0.7534 - val_loss: 1.1650 - val_accuracy: 0.2650\n",
            "Epoch 2/30\n",
            "11253/11253 [==============================] - 62s 6ms/step - loss: 0.2563 - accuracy: 0.9199 - val_loss: 0.2049 - val_accuracy: 0.9368\n",
            "Epoch 3/30\n",
            "11253/11253 [==============================] - 62s 6ms/step - loss: 0.1695 - accuracy: 0.9537 - val_loss: 0.0651 - val_accuracy: 0.9845\n",
            "Epoch 4/30\n",
            "11253/11253 [==============================] - 62s 6ms/step - loss: 0.1217 - accuracy: 0.9686 - val_loss: 0.0467 - val_accuracy: 0.9912\n",
            "Epoch 5/30\n",
            "11253/11253 [==============================] - 63s 6ms/step - loss: 0.0966 - accuracy: 0.9761 - val_loss: 0.0422 - val_accuracy: 0.9947\n",
            "Epoch 6/30\n",
            "11253/11253 [==============================] - 63s 6ms/step - loss: 0.0918 - accuracy: 0.9820 - val_loss: 0.0413 - val_accuracy: 0.9949\n",
            "Epoch 7/30\n",
            "11253/11253 [==============================] - 65s 6ms/step - loss: 0.0893 - accuracy: 0.9828 - val_loss: 0.0418 - val_accuracy: 0.9947\n",
            "Epoch 8/30\n",
            "11253/11253 [==============================] - 62s 6ms/step - loss: 0.0731 - accuracy: 0.9862 - val_loss: 0.0418 - val_accuracy: 0.9949\n",
            "Epoch 9/30\n",
            "11253/11253 [==============================] - 63s 6ms/step - loss: 0.0793 - accuracy: 0.9865 - val_loss: 0.0399 - val_accuracy: 0.9947\n",
            "Epoch 10/30\n",
            "11253/11253 [==============================] - 62s 6ms/step - loss: 0.0713 - accuracy: 0.9871 - val_loss: 0.0397 - val_accuracy: 0.9947\n",
            "Epoch 11/30\n",
            "11253/11253 [==============================] - 62s 5ms/step - loss: 0.0681 - accuracy: 0.9882 - val_loss: 0.0419 - val_accuracy: 0.9949\n",
            "Epoch 12/30\n",
            "11253/11253 [==============================] - 61s 5ms/step - loss: 0.0651 - accuracy: 0.9892 - val_loss: 0.0392 - val_accuracy: 0.9947\n",
            "Epoch 13/30\n",
            "11253/11253 [==============================] - 61s 5ms/step - loss: 0.0666 - accuracy: 0.9878 - val_loss: 0.0369 - val_accuracy: 0.9952\n",
            "Epoch 14/30\n",
            "11253/11253 [==============================] - 61s 5ms/step - loss: 0.0691 - accuracy: 0.9878 - val_loss: 0.0387 - val_accuracy: 0.9947\n",
            "Epoch 15/30\n",
            "11253/11253 [==============================] - 61s 5ms/step - loss: 0.0573 - accuracy: 0.9903 - val_loss: 0.0405 - val_accuracy: 0.9949\n",
            "Epoch 16/30\n",
            "11253/11253 [==============================] - 61s 5ms/step - loss: 0.0601 - accuracy: 0.9887 - val_loss: 0.0411 - val_accuracy: 0.9947\n",
            "Epoch 17/30\n",
            "11253/11253 [==============================] - 62s 5ms/step - loss: 0.0617 - accuracy: 0.9889 - val_loss: 0.0363 - val_accuracy: 0.9949\n",
            "Epoch 18/30\n",
            "11253/11253 [==============================] - 60s 5ms/step - loss: 0.0560 - accuracy: 0.9900 - val_loss: 0.0377 - val_accuracy: 0.9949\n",
            "Epoch 19/30\n",
            "11253/11253 [==============================] - 59s 5ms/step - loss: 0.0549 - accuracy: 0.9910 - val_loss: 0.0366 - val_accuracy: 0.9949\n",
            "Epoch 20/30\n",
            "11253/11253 [==============================] - 59s 5ms/step - loss: 0.0543 - accuracy: 0.9911 - val_loss: 0.0386 - val_accuracy: 0.9944\n",
            "Epoch 21/30\n",
            "11253/11253 [==============================] - 60s 5ms/step - loss: 0.0582 - accuracy: 0.9902 - val_loss: 0.0390 - val_accuracy: 0.9944\n",
            "Epoch 22/30\n",
            "11253/11253 [==============================] - 60s 5ms/step - loss: 0.0519 - accuracy: 0.9909 - val_loss: 0.0372 - val_accuracy: 0.9947\n",
            "Epoch 23/30\n",
            "11253/11253 [==============================] - 60s 5ms/step - loss: 0.0508 - accuracy: 0.9918 - val_loss: 0.0388 - val_accuracy: 0.9941\n",
            "Epoch 24/30\n",
            "11253/11253 [==============================] - 60s 5ms/step - loss: 0.0550 - accuracy: 0.9917 - val_loss: 0.0377 - val_accuracy: 0.9949\n",
            "Epoch 25/30\n",
            "11253/11253 [==============================] - 60s 5ms/step - loss: 0.0572 - accuracy: 0.9917 - val_loss: 0.0402 - val_accuracy: 0.9947\n",
            "Epoch 26/30\n",
            "11253/11253 [==============================] - 62s 6ms/step - loss: 0.0459 - accuracy: 0.9918 - val_loss: 0.0419 - val_accuracy: 0.9947\n",
            "Epoch 27/30\n",
            "11253/11253 [==============================] - 63s 6ms/step - loss: 0.0537 - accuracy: 0.9913 - val_loss: 0.0370 - val_accuracy: 0.9949\n",
            "Epoch 28/30\n",
            "11253/11253 [==============================] - 62s 5ms/step - loss: 0.0458 - accuracy: 0.9924 - val_loss: 0.0357 - val_accuracy: 0.9947\n",
            "Epoch 29/30\n",
            "11253/11253 [==============================] - 62s 5ms/step - loss: 0.0515 - accuracy: 0.9915 - val_loss: 0.0385 - val_accuracy: 0.9944\n",
            "Epoch 30/30\n",
            "11253/11253 [==============================] - 63s 6ms/step - loss: 0.0499 - accuracy: 0.9915 - val_loss: 0.0360 - val_accuracy: 0.9952\n",
            "Validation loss posture: 0.03597706630166723\n",
            "Validation accuracy posture: 0.9952012896537781\n"
          ],
          "name": "stdout"
        },
        {
          "output_type": "display_data",
          "data": {
            "image/png": "[encoded data removed]",
            "text/plain": [
              "<Figure size 432x288 with 1 Axes>"
            ]
          },
          "metadata": {
            "tags": [],
            "needs_background": "light"
          }
        },
        {
          "output_type": "display_data",
          "data": {
            "image/png": "[encoded data removed]",
            "text/plain": [
              "<Figure size 432x288 with 1 Axes>"
            ]
          },
          "metadata": {
            "tags": [],
            "needs_background": "light"
          }
        },
        {
          "output_type": "stream",
          "text": [
            "Test Accuracy Posture 0.9936025589764095\n",
            "F1 score: 0.9936050267995278\n"
          ],
          "name": "stdout"
        },
        {
          "output_type": "display_data",
          "data": {
            "image/png": "[encoded data removed]",
            "text/plain": [
              "<Figure size 360x216 with 2 Axes>"
            ]
          },
          "metadata": {
            "tags": [],
            "needs_background": "light"
          }
        }
      ]
    },
    {
      "cell_type": "markdown",
      "metadata": {
        "id": "kXhq2QaCzfVV"
      },
      "source": [
        "# Joint classification"
      ]
    },
    {
      "cell_type": "code",
      "metadata": {
        "id": "xpcqZmAm1zWq"
      },
      "source": [
        "def model_joint_subject_posture(x_train,x_val,x_test,y_train_sub,y_val_sub,y_test_sub,y_train_pos,y_val_pos,y_test_pos):\n",
        "    from tensorflow.keras import regularizers\n",
        "\n",
        "    x_input = Input(shape=(64, 32, 1))\n",
        "    x = Conv2D(32, kernel_size=(3, 3), strides=1, padding='same')(x_input)\n",
        "    x = BatchNormalization()(x)\n",
        "    x = MaxPooling2D(pool_size=(3, 3))(x)\n",
        "    x = LeakyReLU(alpha=0.2,)(x)\n",
        "    x = Dropout(0.1)(x)\n",
        "\n",
        "    x = Conv2D(64, kernel_size=(3, 3), strides=1, padding='same')(x)\n",
        "    x = BatchNormalization()(x)\n",
        "    x = MaxPooling2D(pool_size=(3, 3))(x)\n",
        "    x = LeakyReLU(alpha=0.2)(x)\n",
        "    x = Dropout(0.2)(x)\n",
        "\n",
        "    x = Conv2D(128, kernel_size=(3, 3), strides=1, padding='same')(x)\n",
        "    x = BatchNormalization()(x)\n",
        "    x = LeakyReLU(alpha=0.2)(x)\n",
        "    x = Dropout(0.3)(x)\n",
        "\n",
        "    x = Conv2D(256, kernel_size=(3, 3), strides=1, padding='same')(x)\n",
        "    x = BatchNormalization()(x)\n",
        "    x = LeakyReLU(alpha=0.2)(x)\n",
        "    x = Dropout(0.4)(x)\n",
        "\n",
        "\n",
        "    x = Flatten()(x)\n",
        "\n",
        "    x = Dense(units=256)(x)\n",
        "    x = Dropout(0.5)(x)\n",
        "\n",
        "    x = Dense(units=256)(x)\n",
        "    x = Dropout(0.5)(x)\n",
        "\n",
        "    output1 = Dense(units=14, activation='softmax', name='subject')(x)\n",
        "    output2 = Dense(units=4, activation='softmax', name='position')(x)\n",
        "\n",
        "    model = Model(inputs=x_input, outputs=[output1, output2])\n",
        "\n",
        "    opt = keras.optimizers.Adam(learning_rate=0.00002)\n",
        "    loss_list = ['categorical_crossentropy','categorical_crossentropy']\n",
        "    model.compile(optimizer=opt, loss=loss_list, metrics=['accuracy'])\n",
        "    model.summary()\n",
        "\n",
        "    history = model.fit(x_train,[y_train_sub,y_train_pos], epochs=30,batch_size=33, validation_data=(x_val,[y_val_sub,y_val_pos]), verbose=1)\n",
        "\n",
        "    score = model.evaluate(x_val, [y_val_sub, y_val_pos], verbose=0)\n",
        "\n",
        "    print(score)\n",
        "    print('Validation loss:', score[0])\n",
        "    print('Validation  accuracy subject:', score[3])\n",
        "    print('Validation  accuracy posture:', score[4])\n",
        "\n",
        "    plt.plot(history.history['subject_accuracy'], label='accuracy')\n",
        "    plt.plot(history.history['val_subject_accuracy'], label='val_accuracy')\n",
        "    plt.xlabel('Epoch')\n",
        "    plt.ylabel('Accuracy')\n",
        "    plt.ylim([0.5, 1])\n",
        "    plt.legend(loc='upper right')\n",
        "\n",
        "    plt.plot(history.history['subject_loss'], label='accuracy')\n",
        "    plt.plot(history.history['val_subject_loss'], label='val_accuracy')\n",
        "    plt.xlabel('Epoch')\n",
        "    plt.ylabel('Accuracy')\n",
        "    plt.ylim([0, 1])\n",
        "    plt.legend(loc='upper right')\n",
        "\n",
        "    plt.plot(history.history['position_accuracy'], label='accuracy')\n",
        "    plt.plot(history.history['val_position_accuracy'], label='val_accuracy')\n",
        "    plt.xlabel('Epoch')\n",
        "    plt.ylabel('Accuracy')\n",
        "    plt.ylim([0.5, 1])\n",
        "    plt.legend(loc='upper right')\n",
        "\n",
        "    plt.plot(history.history['position_loss'], label='accuracy')\n",
        "    plt.plot(history.history['val_position_loss'], label='val_accuracy')\n",
        "    plt.xlabel('Epoch')\n",
        "    plt.ylabel('Accuracy')\n",
        "    plt.ylim([0, 1])\n",
        "    plt.legend(loc='upper right')\n",
        "\n",
        "\n",
        "\n",
        "    pred = model.predict(x_test)[0]\n",
        "    y_pred_subject = [np.argmax(p) for p in pred]\n",
        "    pred = model.predict(x_test)[1]\n",
        "    y_pred_posture = [np.argmax(p) for p in pred]\n",
        "\n",
        "    y_true_subject = [np.argmax(p) for p in y_test_sub]\n",
        "\n",
        "    y_true_posture = [np.argmax(p) for p in y_test_pos]\n",
        "\n",
        "    accuracy_sub = metrics.accuracy_score(y_true_subject, y_pred_subject)\n",
        "    print('subject classification accuracy:',accuracy_sub)\n",
        "\n",
        "    accuracy_posture = metrics.accuracy_score(y_true_posture, y_pred_posture)\n",
        "    print('posture classification accuracy:',accuracy_posture)\n",
        "\n",
        "\n",
        "    y_pred = []\n",
        "    y_true = []\n",
        "    l = y_pred_subject.shpae[0]\n",
        "\n",
        "    for i in range(578):\n",
        "        y_pred.append(str(y_pred_subject[i]) + \" \" + str(y_pred_posture[i]))\n",
        "        # print(str(y_pred_subject[i])+ \" \" +str(y_pred_posture[i]))\n",
        "        y_true.append(str(y_true_subject[i]) + \" \" + str(y_true_posture[i]))\n",
        "        # print(str(y_true_subject[i])+ \" \" +str(y_true_posture[i]))\n",
        "\n",
        "    accuracy_joint = metrics.accuracy_score(y_true, y_pred)\n",
        "    print('joint classification accuracy:',accuracy_joint)\n",
        "\n",
        "    f1_joint = metrics.f1_score(y_true, y_pred, average=\"weighted\")\n",
        "    print(\"joint classification F1 score: {}\".format(f1_joint))\n",
        "\n",
        "    return history,model\n",
        "\n",
        "\n"
      ],
      "execution_count": null,
      "outputs": []
    },
    {
      "cell_type": "code",
      "metadata": {
        "id": "o0lOVQ2LynXa",
        "colab": {
          "base_uri": "https://localhost:8080/",
          "height": 1000
        },
        "outputId": "3b43fff2-9dc7-4c61-9667-ddb17c995353"
      },
      "source": [
        "history_j,model_j= model_joint_subject_posture(x_train,x_val,x_test,y_train_sub, y_val_sub, y_test_sub, y_train_pos,y_val_pos,y_test_pos)"
      ],
      "execution_count": null,
      "outputs": [
        {
          "output_type": "stream",
          "text": [
            "Model: \"model_15\"\n",
            "__________________________________________________________________________________________________\n",
            "Layer (type)                    Output Shape         Param #     Connected to                     \n",
            "==================================================================================================\n",
            "input_19 (InputLayer)           (None, 64, 32, 1)    0                                            \n",
            "__________________________________________________________________________________________________\n",
            "conv2d_69 (Conv2D)              (None, 64, 32, 32)   320         input_19[0][0]                   \n",
            "__________________________________________________________________________________________________\n",
            "batch_normalization_69 (BatchNo (None, 64, 32, 32)   128         conv2d_69[0][0]                  \n",
            "__________________________________________________________________________________________________\n",
            "max_pooling2d_35 (MaxPooling2D) (None, 21, 10, 32)   0           batch_normalization_69[0][0]     \n",
            "__________________________________________________________________________________________________\n",
            "leaky_re_lu_69 (LeakyReLU)      (None, 21, 10, 32)   0           max_pooling2d_35[0][0]           \n",
            "__________________________________________________________________________________________________\n",
            "dropout_95 (Dropout)            (None, 21, 10, 32)   0           leaky_re_lu_69[0][0]             \n",
            "__________________________________________________________________________________________________\n",
            "conv2d_70 (Conv2D)              (None, 21, 10, 64)   18496       dropout_95[0][0]                 \n",
            "__________________________________________________________________________________________________\n",
            "batch_normalization_70 (BatchNo (None, 21, 10, 64)   256         conv2d_70[0][0]                  \n",
            "__________________________________________________________________________________________________\n",
            "max_pooling2d_36 (MaxPooling2D) (None, 7, 3, 64)     0           batch_normalization_70[0][0]     \n",
            "__________________________________________________________________________________________________\n",
            "leaky_re_lu_70 (LeakyReLU)      (None, 7, 3, 64)     0           max_pooling2d_36[0][0]           \n",
            "__________________________________________________________________________________________________\n",
            "dropout_96 (Dropout)            (None, 7, 3, 64)     0           leaky_re_lu_70[0][0]             \n",
            "__________________________________________________________________________________________________\n",
            "conv2d_71 (Conv2D)              (None, 7, 3, 128)    73856       dropout_96[0][0]                 \n",
            "__________________________________________________________________________________________________\n",
            "batch_normalization_71 (BatchNo (None, 7, 3, 128)    512         conv2d_71[0][0]                  \n",
            "__________________________________________________________________________________________________\n",
            "leaky_re_lu_71 (LeakyReLU)      (None, 7, 3, 128)    0           batch_normalization_71[0][0]     \n",
            "__________________________________________________________________________________________________\n",
            "dropout_97 (Dropout)            (None, 7, 3, 128)    0           leaky_re_lu_71[0][0]             \n",
            "__________________________________________________________________________________________________\n",
            "conv2d_72 (Conv2D)              (None, 7, 3, 256)    295168      dropout_97[0][0]                 \n",
            "__________________________________________________________________________________________________\n",
            "batch_normalization_72 (BatchNo (None, 7, 3, 256)    1024        conv2d_72[0][0]                  \n",
            "__________________________________________________________________________________________________\n",
            "leaky_re_lu_72 (LeakyReLU)      (None, 7, 3, 256)    0           batch_normalization_72[0][0]     \n",
            "__________________________________________________________________________________________________\n",
            "dropout_98 (Dropout)            (None, 7, 3, 256)    0           leaky_re_lu_72[0][0]             \n",
            "__________________________________________________________________________________________________\n",
            "flatten_15 (Flatten)            (None, 5376)         0           dropout_98[0][0]                 \n",
            "__________________________________________________________________________________________________\n",
            "dense_27 (Dense)                (None, 256)          1376512     flatten_15[0][0]                 \n",
            "__________________________________________________________________________________________________\n",
            "dropout_99 (Dropout)            (None, 256)          0           dense_27[0][0]                   \n",
            "__________________________________________________________________________________________________\n",
            "dense_28 (Dense)                (None, 256)          65792       dropout_99[0][0]                 \n",
            "__________________________________________________________________________________________________\n",
            "dropout_100 (Dropout)           (None, 256)          0           dense_28[0][0]                   \n",
            "__________________________________________________________________________________________________\n",
            "subject (Dense)                 (None, 14)           3598        dropout_100[0][0]                \n",
            "__________________________________________________________________________________________________\n",
            "position (Dense)                (None, 4)            1028        dropout_100[0][0]                \n",
            "==================================================================================================\n",
            "Total params: 1,836,690\n",
            "Trainable params: 1,835,730\n",
            "Non-trainable params: 960\n",
            "__________________________________________________________________________________________________\n",
            "Train on 11253 samples, validate on 3751 samples\n",
            "Epoch 1/30\n",
            "11253/11253 [==============================] - 62s 6ms/step - loss: 6.5626 - subject_loss: 4.9570 - position_loss: 1.6057 - subject_accuracy: 0.1158 - position_accuracy: 0.5771 - val_loss: 4.3488 - val_subject_loss: 3.2668 - val_position_loss: 1.0810 - val_subject_accuracy: 0.1037 - val_position_accuracy: 0.5172\n",
            "Epoch 2/30\n",
            "11253/11253 [==============================] - 62s 5ms/step - loss: 4.9575 - subject_loss: 4.1445 - position_loss: 0.8130 - subject_accuracy: 0.1728 - position_accuracy: 0.7620 - val_loss: 2.7007 - val_subject_loss: 2.3618 - val_position_loss: 0.3378 - val_subject_accuracy: 0.2007 - val_position_accuracy: 0.8776\n",
            "Epoch 3/30\n",
            "11253/11253 [==============================] - 62s 5ms/step - loss: 4.3226 - subject_loss: 3.7269 - position_loss: 0.5957 - subject_accuracy: 0.2194 - position_accuracy: 0.8207 - val_loss: 1.5572 - val_subject_loss: 1.4395 - val_position_loss: 0.1169 - val_subject_accuracy: 0.5886 - val_position_accuracy: 0.9608\n",
            "Epoch 4/30\n",
            "11253/11253 [==============================] - 62s 5ms/step - loss: 3.9175 - subject_loss: 3.4426 - position_loss: 0.4749 - subject_accuracy: 0.2458 - position_accuracy: 0.8609 - val_loss: 1.3220 - val_subject_loss: 1.2448 - val_position_loss: 0.0764 - val_subject_accuracy: 0.6278 - val_position_accuracy: 0.9739\n",
            "Epoch 5/30\n",
            "11253/11253 [==============================] - 63s 6ms/step - loss: 3.5282 - subject_loss: 3.1337 - position_loss: 0.3946 - subject_accuracy: 0.2824 - position_accuracy: 0.8807 - val_loss: 1.1646 - val_subject_loss: 1.0960 - val_position_loss: 0.0677 - val_subject_accuracy: 0.6939 - val_position_accuracy: 0.9840\n",
            "Epoch 6/30\n",
            "11253/11253 [==============================] - 63s 6ms/step - loss: 3.2653 - subject_loss: 2.9127 - position_loss: 0.3526 - subject_accuracy: 0.3168 - position_accuracy: 0.8949 - val_loss: 1.0481 - val_subject_loss: 0.9925 - val_position_loss: 0.0548 - val_subject_accuracy: 0.7238 - val_position_accuracy: 0.9909\n",
            "Epoch 7/30\n",
            "11253/11253 [==============================] - 64s 6ms/step - loss: 3.0130 - subject_loss: 2.7001 - position_loss: 0.3129 - subject_accuracy: 0.3403 - position_accuracy: 0.9059 - val_loss: 0.9409 - val_subject_loss: 0.8854 - val_position_loss: 0.0548 - val_subject_accuracy: 0.7390 - val_position_accuracy: 0.9875\n",
            "Epoch 8/30\n",
            "11253/11253 [==============================] - 64s 6ms/step - loss: 2.8114 - subject_loss: 2.5304 - position_loss: 0.2810 - subject_accuracy: 0.3765 - position_accuracy: 0.9172 - val_loss: 0.8323 - val_subject_loss: 0.7875 - val_position_loss: 0.0442 - val_subject_accuracy: 0.7958 - val_position_accuracy: 0.9915\n",
            "Epoch 9/30\n",
            "11253/11253 [==============================] - 63s 6ms/step - loss: 2.6431 - subject_loss: 2.3812 - position_loss: 0.2619 - subject_accuracy: 0.3964 - position_accuracy: 0.9222 - val_loss: 0.7535 - val_subject_loss: 0.7121 - val_position_loss: 0.0408 - val_subject_accuracy: 0.8043 - val_position_accuracy: 0.9917\n",
            "Epoch 10/30\n",
            "11253/11253 [==============================] - 64s 6ms/step - loss: 2.4184 - subject_loss: 2.1728 - position_loss: 0.2456 - subject_accuracy: 0.4360 - position_accuracy: 0.9313 - val_loss: 0.6597 - val_subject_loss: 0.6204 - val_position_loss: 0.0387 - val_subject_accuracy: 0.8310 - val_position_accuracy: 0.9944\n",
            "Epoch 11/30\n",
            "11253/11253 [==============================] - 64s 6ms/step - loss: 2.2649 - subject_loss: 2.0353 - position_loss: 0.2296 - subject_accuracy: 0.4639 - position_accuracy: 0.9350 - val_loss: 0.5970 - val_subject_loss: 0.5590 - val_position_loss: 0.0375 - val_subject_accuracy: 0.8432 - val_position_accuracy: 0.9949\n",
            "Epoch 12/30\n",
            "11253/11253 [==============================] - 63s 6ms/step - loss: 2.1522 - subject_loss: 1.9212 - position_loss: 0.2311 - subject_accuracy: 0.4845 - position_accuracy: 0.9316 - val_loss: 0.5289 - val_subject_loss: 0.4906 - val_position_loss: 0.0378 - val_subject_accuracy: 0.8699 - val_position_accuracy: 0.9949\n",
            "Epoch 13/30\n",
            "11253/11253 [==============================] - 64s 6ms/step - loss: 1.9764 - subject_loss: 1.7765 - position_loss: 0.1998 - subject_accuracy: 0.5142 - position_accuracy: 0.9416 - val_loss: 0.4488 - val_subject_loss: 0.4119 - val_position_loss: 0.0364 - val_subject_accuracy: 0.8899 - val_position_accuracy: 0.9947\n",
            "Epoch 14/30\n",
            "11253/11253 [==============================] - 63s 6ms/step - loss: 1.8952 - subject_loss: 1.6957 - position_loss: 0.1995 - subject_accuracy: 0.5407 - position_accuracy: 0.9480 - val_loss: 0.4475 - val_subject_loss: 0.4108 - val_position_loss: 0.0363 - val_subject_accuracy: 0.8859 - val_position_accuracy: 0.9949\n",
            "Epoch 15/30\n",
            "11253/11253 [==============================] - 65s 6ms/step - loss: 1.7201 - subject_loss: 1.5335 - position_loss: 0.1866 - subject_accuracy: 0.5715 - position_accuracy: 0.9489 - val_loss: 0.3792 - val_subject_loss: 0.3424 - val_position_loss: 0.0364 - val_subject_accuracy: 0.9032 - val_position_accuracy: 0.9949\n",
            "Epoch 16/30\n",
            "11253/11253 [==============================] - 62s 6ms/step - loss: 1.6484 - subject_loss: 1.4650 - position_loss: 0.1833 - subject_accuracy: 0.5895 - position_accuracy: 0.9465 - val_loss: 0.3176 - val_subject_loss: 0.2808 - val_position_loss: 0.0364 - val_subject_accuracy: 0.9272 - val_position_accuracy: 0.9949\n",
            "Epoch 17/30\n",
            "11253/11253 [==============================] - 62s 6ms/step - loss: 1.5824 - subject_loss: 1.4094 - position_loss: 0.1730 - subject_accuracy: 0.6060 - position_accuracy: 0.9541 - val_loss: 0.2934 - val_subject_loss: 0.2565 - val_position_loss: 0.0364 - val_subject_accuracy: 0.9350 - val_position_accuracy: 0.9947\n",
            "Epoch 18/30\n",
            "11253/11253 [==============================] - 63s 6ms/step - loss: 1.4196 - subject_loss: 1.2633 - position_loss: 0.1563 - subject_accuracy: 0.6409 - position_accuracy: 0.9581 - val_loss: 0.2636 - val_subject_loss: 0.2271 - val_position_loss: 0.0361 - val_subject_accuracy: 0.9531 - val_position_accuracy: 0.9947\n",
            "Epoch 19/30\n",
            "11253/11253 [==============================] - 62s 5ms/step - loss: 1.3494 - subject_loss: 1.1956 - position_loss: 0.1538 - subject_accuracy: 0.6572 - position_accuracy: 0.9583 - val_loss: 0.2605 - val_subject_loss: 0.2245 - val_position_loss: 0.0357 - val_subject_accuracy: 0.9408 - val_position_accuracy: 0.9949\n",
            "Epoch 20/30\n",
            "11253/11253 [==============================] - 62s 5ms/step - loss: 1.2661 - subject_loss: 1.1212 - position_loss: 0.1449 - subject_accuracy: 0.6816 - position_accuracy: 0.9627 - val_loss: 0.2086 - val_subject_loss: 0.1732 - val_position_loss: 0.0351 - val_subject_accuracy: 0.9629 - val_position_accuracy: 0.9949\n",
            "Epoch 21/30\n",
            "11253/11253 [==============================] - 62s 5ms/step - loss: 1.2114 - subject_loss: 1.0641 - position_loss: 0.1473 - subject_accuracy: 0.6911 - position_accuracy: 0.9600 - val_loss: 0.1923 - val_subject_loss: 0.1570 - val_position_loss: 0.0349 - val_subject_accuracy: 0.9693 - val_position_accuracy: 0.9952\n",
            "Epoch 22/30\n",
            "11253/11253 [==============================] - 62s 5ms/step - loss: 1.1421 - subject_loss: 0.9889 - position_loss: 0.1533 - subject_accuracy: 0.7077 - position_accuracy: 0.9626 - val_loss: 0.1799 - val_subject_loss: 0.1428 - val_position_loss: 0.0367 - val_subject_accuracy: 0.9691 - val_position_accuracy: 0.9949\n",
            "Epoch 23/30\n",
            "11253/11253 [==============================] - 62s 6ms/step - loss: 1.0518 - subject_loss: 0.9153 - position_loss: 0.1364 - subject_accuracy: 0.7370 - position_accuracy: 0.9645 - val_loss: 0.1686 - val_subject_loss: 0.1317 - val_position_loss: 0.0366 - val_subject_accuracy: 0.9781 - val_position_accuracy: 0.9952\n",
            "Epoch 24/30\n",
            "11253/11253 [==============================] - 62s 6ms/step - loss: 0.9926 - subject_loss: 0.8404 - position_loss: 0.1523 - subject_accuracy: 0.7525 - position_accuracy: 0.9645 - val_loss: 0.1724 - val_subject_loss: 0.1353 - val_position_loss: 0.0367 - val_subject_accuracy: 0.9752 - val_position_accuracy: 0.9952\n",
            "Epoch 25/30\n",
            "11253/11253 [==============================] - 64s 6ms/step - loss: 0.9424 - subject_loss: 0.8155 - position_loss: 0.1269 - subject_accuracy: 0.7610 - position_accuracy: 0.9662 - val_loss: 0.1343 - val_subject_loss: 0.0974 - val_position_loss: 0.0365 - val_subject_accuracy: 0.9869 - val_position_accuracy: 0.9952\n",
            "Epoch 26/30\n",
            "11253/11253 [==============================] - 62s 6ms/step - loss: 0.8795 - subject_loss: 0.7474 - position_loss: 0.1322 - subject_accuracy: 0.7764 - position_accuracy: 0.9685 - val_loss: 0.1370 - val_subject_loss: 0.0993 - val_position_loss: 0.0374 - val_subject_accuracy: 0.9787 - val_position_accuracy: 0.9952\n",
            "Epoch 27/30\n",
            "11253/11253 [==============================] - 63s 6ms/step - loss: 0.8371 - subject_loss: 0.7018 - position_loss: 0.1353 - subject_accuracy: 0.7918 - position_accuracy: 0.9677 - val_loss: 0.1359 - val_subject_loss: 0.0983 - val_position_loss: 0.0372 - val_subject_accuracy: 0.9835 - val_position_accuracy: 0.9952\n",
            "Epoch 28/30\n",
            "11253/11253 [==============================] - 63s 6ms/step - loss: 0.8050 - subject_loss: 0.6778 - position_loss: 0.1271 - subject_accuracy: 0.8046 - position_accuracy: 0.9697 - val_loss: 0.1195 - val_subject_loss: 0.0807 - val_position_loss: 0.0384 - val_subject_accuracy: 0.9861 - val_position_accuracy: 0.9949\n",
            "Epoch 29/30\n",
            "11253/11253 [==============================] - 62s 6ms/step - loss: 0.7649 - subject_loss: 0.6381 - position_loss: 0.1269 - subject_accuracy: 0.8131 - position_accuracy: 0.9708 - val_loss: 0.1198 - val_subject_loss: 0.0797 - val_position_loss: 0.0398 - val_subject_accuracy: 0.9869 - val_position_accuracy: 0.9949\n",
            "Epoch 30/30\n",
            "11253/11253 [==============================] - 63s 6ms/step - loss: 0.7193 - subject_loss: 0.5964 - position_loss: 0.1229 - subject_accuracy: 0.8252 - position_accuracy: 0.9708 - val_loss: 0.1302 - val_subject_loss: 0.0908 - val_position_loss: 0.0390 - val_subject_accuracy: 0.9851 - val_position_accuracy: 0.9957\n",
            "[0.1301527026897583, 0.0904577225446701, 0.038846127688884735, 0.9850706458091736, 0.995734453201294]\n",
            "Validation loss: 0.1301527026897583\n",
            "Validation  accuracy subject: 0.9850706458091736\n",
            "Validation  accuracy posture: 0.995734453201294\n",
            "subject classification accuracy: 0.9878048780487805\n",
            "posture classification accuracy: 0.9936025589764095\n",
            "joint classification accuracy: 0.9844290657439446\n",
            "joint classification F1 score: 0.9845213960907213\n"
          ],
          "name": "stdout"
        },
        {
          "output_type": "display_data",
          "data": {
            "image/png": "[encoded data removed]",
            "text/plain": [
              "<Figure size 432x288 with 1 Axes>"
            ]
          },
          "metadata": {
            "tags": [],
            "needs_background": "light"
          }
        }
      ]
    },
    {
      "cell_type": "code",
      "metadata": {
        "id": "oAh2Y55s-xZr",
        "colab": {
          "base_uri": "https://localhost:8080/",
          "height": 300
        },
        "outputId": "273f9fba-43a4-4119-f53f-545451ec0ef7"
      },
      "source": [
        "    plt.plot(history_j.history['subject_accuracy'], label='accuracy')\n",
        "    plt.plot(history_j.history['val_subject_accuracy'], label='val_accuracy')\n",
        "    plt.xlabel('Epoch')\n",
        "    plt.ylabel('Accuracy')\n",
        "    plt.ylim([0, 1])\n",
        "    plt.legend(loc='lower right')"
      ],
      "execution_count": null,
      "outputs": [
        {
          "output_type": "execute_result",
          "data": {
            "text/plain": [
              "<matplotlib.legend.Legend at 0x7f572fa7ccc0>"
            ]
          },
          "metadata": {
            "tags": []
          },
          "execution_count": 63
        },
        {
          "output_type": "display_data",
          "data": {
            "image/png": "[encoded data removed]",
            "text/plain": [
              "<Figure size 432x288 with 1 Axes>"
            ]
          },
          "metadata": {
            "tags": [],
            "needs_background": "light"
          }
        }
      ]
    },
    {
      "cell_type": "code",
      "metadata": {
        "id": "VpXRULje-7jI",
        "colab": {
          "base_uri": "https://localhost:8080/",
          "height": 300
        },
        "outputId": "3b5d2e95-28b5-4f40-af44-c88608b01cd7"
      },
      "source": [
        "    plt.plot(history_j.history['subject_loss'], label='accuracy')\n",
        "    plt.plot(history_j.history['val_subject_loss'], label='val_accuracy')\n",
        "    plt.xlabel('Epoch')\n",
        "    plt.ylabel('Accuracy')\n",
        "    plt.ylim([0, 5])\n",
        "    plt.legend(loc='upper right')"
      ],
      "execution_count": null,
      "outputs": [
        {
          "output_type": "execute_result",
          "data": {
            "text/plain": [
              "<matplotlib.legend.Legend at 0x7f57309e5da0>"
            ]
          },
          "metadata": {
            "tags": []
          },
          "execution_count": 64
        },
        {
          "output_type": "display_data",
          "data": {
            "image/png": "[encoded data removed]",
            "text/plain": [
              "<Figure size 432x288 with 1 Axes>"
            ]
          },
          "metadata": {
            "tags": [],
            "needs_background": "light"
          }
        }
      ]
    },
    {
      "cell_type": "code",
      "metadata": {
        "id": "lnzO8Rmo_KGg",
        "colab": {
          "base_uri": "https://localhost:8080/",
          "height": 300
        },
        "outputId": "e22030ca-5ea5-462c-bf53-3f361adb3dd1"
      },
      "source": [
        "    plt.plot(history_j.history['position_accuracy'], label='accuracy')\n",
        "    plt.plot(history_j.history['val_position_accuracy'], label='val_accuracy')\n",
        "    plt.xlabel('Epoch')\n",
        "    plt.ylabel('Accuracy')\n",
        "    plt.ylim([0, 1])\n",
        "    plt.legend(loc='lower right')"
      ],
      "execution_count": null,
      "outputs": [
        {
          "output_type": "execute_result",
          "data": {
            "text/plain": [
              "<matplotlib.legend.Legend at 0x7f572f2c2550>"
            ]
          },
          "metadata": {
            "tags": []
          },
          "execution_count": 65
        },
        {
          "output_type": "display_data",
          "data": {
            "image/png": "[encoded data removed]",
            "text/plain": [
              "<Figure size 432x288 with 1 Axes>"
            ]
          },
          "metadata": {
            "tags": [],
            "needs_background": "light"
          }
        }
      ]
    },
    {
      "cell_type": "code",
      "metadata": {
        "id": "ulxgl_2S_Ue8",
        "colab": {
          "base_uri": "https://localhost:8080/",
          "height": 300
        },
        "outputId": "6422bd9e-3449-4a6b-f27a-cf513bdc360b"
      },
      "source": [
        "    plt.plot(history_j.history['position_loss'], label='accuracy')\n",
        "    plt.plot(history_j.history['val_position_loss'], label='val_accuracy')\n",
        "    plt.xlabel('Epoch')\n",
        "    plt.ylabel('Accuracy')\n",
        "    plt.ylim([0, 1])\n",
        "    plt.legend(loc='upper right')"
      ],
      "execution_count": null,
      "outputs": [
        {
          "output_type": "execute_result",
          "data": {
            "text/plain": [
              "<matplotlib.legend.Legend at 0x7f5731487e10>"
            ]
          },
          "metadata": {
            "tags": []
          },
          "execution_count": 66
        },
        {
          "output_type": "display_data",
          "data": {
            "image/png": "[encoded data removed]",
            "text/plain": [
              "<Figure size 432x288 with 1 Axes>"
            ]
          },
          "metadata": {
            "tags": [],
            "needs_background": "light"
          }
        }
      ]
    },
    {
      "cell_type": "code",
      "metadata": {
        "id": "LRtbFAETUned"
      },
      "source": [
        "def model_joint_subject_posture(x_train,x_val,x_test,y_train_sub,y_val_sub,y_test_sub,y_train_pos,y_val_pos,y_test_pos):\n",
        "    from tensorflow.keras import regularizers\n",
        "\n",
        "    x_input = Input(shape=(64, 32, 1))\n",
        "    x = Conv2D(32, kernel_size=(3, 3), strides=1, padding='same')(x_input)\n",
        "    x = BatchNormalization()(x)\n",
        "    x = MaxPooling2D(pool_size=(3, 3))(x)\n",
        "    x = LeakyReLU(alpha=0.2,)(x)\n",
        "    x = Dropout(0.1)(x)\n",
        "\n",
        "    x = Conv2D(64, kernel_size=(3, 3), strides=1, padding='same')(x)\n",
        "    x = BatchNormalization()(x)\n",
        "    x = MaxPooling2D(pool_size=(3, 3))(x)\n",
        "    x = LeakyReLU(alpha=0.2)(x)\n",
        "    x = Dropout(0.2)(x)\n",
        "\n",
        "    x = Conv2D(128, kernel_size=(3, 3), strides=1, padding='same')(x)\n",
        "    x = BatchNormalization()(x)\n",
        "    x = LeakyReLU(alpha=0.2)(x)\n",
        "    x = Dropout(0.3)(x)\n",
        "\n",
        "    x = Conv2D(256, kernel_size=(3, 3), strides=1, padding='same')(x)\n",
        "    x = BatchNormalization()(x)\n",
        "    x = LeakyReLU(alpha=0.2)(x)\n",
        "    x = Dropout(0.4)(x)\n",
        "\n",
        "\n",
        "    x = Flatten()(x)\n",
        "\n",
        "    x = Dense(units=256)(x)\n",
        "    x = Dropout(0.5)(x)\n",
        "\n",
        "    output1 = Dense(units=14, activation='softmax', name='subject')(x)\n",
        "    output2 = Dense(units=4, activation='softmax', name='position')(x)\n",
        "\n",
        "    model = Model(inputs=x_input, outputs=[output1, output2])\n",
        "\n",
        "    opt = keras.optimizers.Adam(learning_rate=0.00002)\n",
        "    loss_list = ['categorical_crossentropy','categorical_crossentropy']\n",
        "    model.compile(optimizer=opt, loss=loss_list, metrics=['accuracy'])\n",
        "    model.summary()\n",
        "\n",
        "    history = model.fit(x_train,[y_train_sub,y_train_pos], epochs=30,batch_size=33, validation_data=(x_val,[y_val_sub,y_val_pos]), verbose=1)\n",
        "\n",
        "    score = model.evaluate(x_val, [y_val_sub, y_val_pos], verbose=0)\n",
        "\n",
        "    print(score)\n",
        "    print('Validation loss:', score[0])\n",
        "    print('Validation  accuracy subject:', score[3])\n",
        "    print('Validation  accuracy posture:', score[4])\n",
        "\n",
        "    plt.plot(history.history['subject_accuracy'], label='accuracy')\n",
        "    plt.plot(history.history['val_subject_accuracy'], label='val_accuracy')\n",
        "    plt.xlabel('Epoch')\n",
        "    plt.ylabel('Accuracy')\n",
        "    plt.ylim([0.5, 1])\n",
        "    plt.legend(loc='upper right')\n",
        "\n",
        "    plt.plot(history.history['subject_loss'], label='accuracy')\n",
        "    plt.plot(history.history['val_subject_loss'], label='val_accuracy')\n",
        "    plt.xlabel('Epoch')\n",
        "    plt.ylabel('Accuracy')\n",
        "    plt.ylim([0, 1])\n",
        "    plt.legend(loc='upper right')\n",
        "\n",
        "    plt.plot(history.history['position_accuracy'], label='accuracy')\n",
        "    plt.plot(history.history['val_position_accuracy'], label='val_accuracy')\n",
        "    plt.xlabel('Epoch')\n",
        "    plt.ylabel('Accuracy')\n",
        "    plt.ylim([0.5, 1])\n",
        "    plt.legend(loc='upper right')\n",
        "\n",
        "    plt.plot(history.history['position_loss'], label='accuracy')\n",
        "    plt.plot(history.history['val_position_loss'], label='val_accuracy')\n",
        "    plt.xlabel('Epoch')\n",
        "    plt.ylabel('Accuracy')\n",
        "    plt.ylim([0, 1])\n",
        "    plt.legend(loc='upper right')\n",
        "\n",
        "\n",
        "\n",
        "    pred = model.predict(x_test)[0]\n",
        "    y_pred_subject = [np.argmax(p) for p in pred]\n",
        "    pred = model.predict(x_test)[1]\n",
        "    y_pred_posture = [np.argmax(p) for p in pred]\n",
        "\n",
        "    y_true_subject = [np.argmax(p) for p in y_test_sub]\n",
        "\n",
        "    y_true_posture = [np.argmax(p) for p in y_test_pos]\n",
        "\n",
        "    accuracy_sub = metrics.accuracy_score(y_true_subject, y_pred_subject)\n",
        "    print('subject classification accuracy:',accuracy_sub)\n",
        "\n",
        "    accuracy_posture = metrics.accuracy_score(y_true_posture, y_pred_posture)\n",
        "    print('posture classification accuracy:',accuracy_posture)\n",
        "\n",
        "\n",
        "    y_pred = []\n",
        "    y_true = []\n",
        "    l = len(y_pred_subject)\n",
        "\n",
        "    for i in range(l):\n",
        "        y_pred.append(str(y_pred_subject[i]) + \" \" + str(y_pred_posture[i]))\n",
        "        # print(str(y_pred_subject[i])+ \" \" +str(y_pred_posture[i]))\n",
        "        y_true.append(str(y_true_subject[i]) + \" \" + str(y_true_posture[i]))\n",
        "        # print(str(y_true_subject[i])+ \" \" +str(y_true_posture[i]))\n",
        "\n",
        "    accuracy_joint = metrics.accuracy_score(y_true, y_pred)\n",
        "    print('joint classification accuracy:',accuracy_joint)\n",
        "\n",
        "    f1_joint = metrics.f1_score(y_true, y_pred, average=\"weighted\")\n",
        "    print(\"joint classification F1 score: {}\".format(f1_joint))\n",
        "\n",
        "    return history,model\n",
        "\n"
      ],
      "execution_count": null,
      "outputs": []
    },
    {
      "cell_type": "code",
      "metadata": {
        "id": "fclyOX7jUoeR",
        "colab": {
          "base_uri": "https://localhost:8080/",
          "height": 1000
        },
        "outputId": "75a0ac91-8a5d-4adf-8c35-598208fe7ce5"
      },
      "source": [
        "history_j1,model_j1= model_joint_subject_posture(x_train,x_val,x_test,y_train_sub, y_val_sub, y_test_sub, y_train_pos,y_val_pos,y_test_pos)"
      ],
      "execution_count": null,
      "outputs": [
        {
          "output_type": "stream",
          "text": [
            "Model: \"model_25\"\n",
            "__________________________________________________________________________________________________\n",
            "Layer (type)                    Output Shape         Param #     Connected to                     \n",
            "==================================================================================================\n",
            "input_29 (InputLayer)           (None, 64, 32, 1)    0                                            \n",
            "__________________________________________________________________________________________________\n",
            "conv2d_108 (Conv2D)             (None, 64, 32, 32)   320         input_29[0][0]                   \n",
            "__________________________________________________________________________________________________\n",
            "batch_normalization_108 (BatchN (None, 64, 32, 32)   128         conv2d_108[0][0]                 \n",
            "__________________________________________________________________________________________________\n",
            "max_pooling2d_55 (MaxPooling2D) (None, 21, 10, 32)   0           batch_normalization_108[0][0]    \n",
            "__________________________________________________________________________________________________\n",
            "leaky_re_lu_108 (LeakyReLU)     (None, 21, 10, 32)   0           max_pooling2d_55[0][0]           \n",
            "__________________________________________________________________________________________________\n",
            "dropout_148 (Dropout)           (None, 21, 10, 32)   0           leaky_re_lu_108[0][0]            \n",
            "__________________________________________________________________________________________________\n",
            "conv2d_109 (Conv2D)             (None, 21, 10, 64)   18496       dropout_148[0][0]                \n",
            "__________________________________________________________________________________________________\n",
            "batch_normalization_109 (BatchN (None, 21, 10, 64)   256         conv2d_109[0][0]                 \n",
            "__________________________________________________________________________________________________\n",
            "max_pooling2d_56 (MaxPooling2D) (None, 7, 3, 64)     0           batch_normalization_109[0][0]    \n",
            "__________________________________________________________________________________________________\n",
            "leaky_re_lu_109 (LeakyReLU)     (None, 7, 3, 64)     0           max_pooling2d_56[0][0]           \n",
            "__________________________________________________________________________________________________\n",
            "dropout_149 (Dropout)           (None, 7, 3, 64)     0           leaky_re_lu_109[0][0]            \n",
            "__________________________________________________________________________________________________\n",
            "conv2d_110 (Conv2D)             (None, 7, 3, 128)    73856       dropout_149[0][0]                \n",
            "__________________________________________________________________________________________________\n",
            "batch_normalization_110 (BatchN (None, 7, 3, 128)    512         conv2d_110[0][0]                 \n",
            "__________________________________________________________________________________________________\n",
            "leaky_re_lu_110 (LeakyReLU)     (None, 7, 3, 128)    0           batch_normalization_110[0][0]    \n",
            "__________________________________________________________________________________________________\n",
            "dropout_150 (Dropout)           (None, 7, 3, 128)    0           leaky_re_lu_110[0][0]            \n",
            "__________________________________________________________________________________________________\n",
            "conv2d_111 (Conv2D)             (None, 7, 3, 256)    295168      dropout_150[0][0]                \n",
            "__________________________________________________________________________________________________\n",
            "batch_normalization_111 (BatchN (None, 7, 3, 256)    1024        conv2d_111[0][0]                 \n",
            "__________________________________________________________________________________________________\n",
            "leaky_re_lu_111 (LeakyReLU)     (None, 7, 3, 256)    0           batch_normalization_111[0][0]    \n",
            "__________________________________________________________________________________________________\n",
            "dropout_151 (Dropout)           (None, 7, 3, 256)    0           leaky_re_lu_111[0][0]            \n",
            "__________________________________________________________________________________________________\n",
            "flatten_25 (Flatten)            (None, 5376)         0           dropout_151[0][0]                \n",
            "__________________________________________________________________________________________________\n",
            "dense_41 (Dense)                (None, 256)          1376512     flatten_25[0][0]                 \n",
            "__________________________________________________________________________________________________\n",
            "dropout_152 (Dropout)           (None, 256)          0           dense_41[0][0]                   \n",
            "__________________________________________________________________________________________________\n",
            "subject (Dense)                 (None, 14)           3598        dropout_152[0][0]                \n",
            "__________________________________________________________________________________________________\n",
            "position (Dense)                (None, 4)            1028        dropout_152[0][0]                \n",
            "==================================================================================================\n",
            "Total params: 1,770,898\n",
            "Trainable params: 1,769,938\n",
            "Non-trainable params: 960\n",
            "__________________________________________________________________________________________________\n",
            "Train on 11253 samples, validate on 3751 samples\n",
            "Epoch 1/30\n",
            "11253/11253 [==============================] - 63s 6ms/step - loss: 4.5075 - subject_loss: 3.5706 - position_loss: 0.9369 - subject_accuracy: 0.1592 - position_accuracy: 0.6926 - val_loss: 4.5190 - val_subject_loss: 3.4701 - val_position_loss: 1.0483 - val_subject_accuracy: 0.1037 - val_position_accuracy: 0.6254\n",
            "Epoch 2/30\n",
            "11253/11253 [==============================] - 63s 6ms/step - loss: 3.2393 - subject_loss: 2.8416 - position_loss: 0.3977 - subject_accuracy: 0.2558 - position_accuracy: 0.8684 - val_loss: 2.6176 - val_subject_loss: 2.3102 - val_position_loss: 0.3063 - val_subject_accuracy: 0.2786 - val_position_accuracy: 0.8848\n",
            "Epoch 3/30\n",
            "11253/11253 [==============================] - 62s 6ms/step - loss: 2.6749 - subject_loss: 2.4012 - position_loss: 0.2737 - subject_accuracy: 0.3360 - position_accuracy: 0.9118 - val_loss: 1.2775 - val_subject_loss: 1.1716 - val_position_loss: 0.1052 - val_subject_accuracy: 0.6702 - val_position_accuracy: 0.9632\n",
            "Epoch 4/30\n",
            "11253/11253 [==============================] - 62s 6ms/step - loss: 2.3192 - subject_loss: 2.1153 - position_loss: 0.2039 - subject_accuracy: 0.3931 - position_accuracy: 0.9356 - val_loss: 1.0073 - val_subject_loss: 0.9420 - val_position_loss: 0.0647 - val_subject_accuracy: 0.7486 - val_position_accuracy: 0.9893\n",
            "Epoch 5/30\n",
            "11253/11253 [==============================] - 64s 6ms/step - loss: 2.0282 - subject_loss: 1.8505 - position_loss: 0.1777 - subject_accuracy: 0.4478 - position_accuracy: 0.9452 - val_loss: 0.8378 - val_subject_loss: 0.7825 - val_position_loss: 0.0547 - val_subject_accuracy: 0.7998 - val_position_accuracy: 0.9915\n",
            "Epoch 6/30\n",
            "11253/11253 [==============================] - 62s 6ms/step - loss: 1.8049 - subject_loss: 1.6588 - position_loss: 0.1461 - subject_accuracy: 0.4991 - position_accuracy: 0.9580 - val_loss: 0.7012 - val_subject_loss: 0.6554 - val_position_loss: 0.0454 - val_subject_accuracy: 0.8315 - val_position_accuracy: 0.9915\n",
            "Epoch 7/30\n",
            "11253/11253 [==============================] - 62s 6ms/step - loss: 1.6333 - subject_loss: 1.4889 - position_loss: 0.1444 - subject_accuracy: 0.5448 - position_accuracy: 0.9601 - val_loss: 0.6238 - val_subject_loss: 0.5817 - val_position_loss: 0.0417 - val_subject_accuracy: 0.8432 - val_position_accuracy: 0.9941\n",
            "Epoch 8/30\n",
            "11253/11253 [==============================] - 62s 6ms/step - loss: 1.4508 - subject_loss: 1.3244 - position_loss: 0.1263 - subject_accuracy: 0.5904 - position_accuracy: 0.9661 - val_loss: 0.5110 - val_subject_loss: 0.4695 - val_position_loss: 0.0410 - val_subject_accuracy: 0.8750 - val_position_accuracy: 0.9949\n",
            "Epoch 9/30\n",
            "11253/11253 [==============================] - 63s 6ms/step - loss: 1.3334 - subject_loss: 1.2171 - position_loss: 0.1163 - subject_accuracy: 0.6193 - position_accuracy: 0.9692 - val_loss: 0.4223 - val_subject_loss: 0.3809 - val_position_loss: 0.0410 - val_subject_accuracy: 0.9030 - val_position_accuracy: 0.9947\n",
            "Epoch 10/30\n",
            "11253/11253 [==============================] - 62s 6ms/step - loss: 1.2002 - subject_loss: 1.0948 - position_loss: 0.1055 - subject_accuracy: 0.6636 - position_accuracy: 0.9731 - val_loss: 0.3657 - val_subject_loss: 0.3243 - val_position_loss: 0.0409 - val_subject_accuracy: 0.9099 - val_position_accuracy: 0.9947\n",
            "Epoch 11/30\n",
            "11253/11253 [==============================] - 62s 6ms/step - loss: 1.0983 - subject_loss: 0.9971 - position_loss: 0.1012 - subject_accuracy: 0.6848 - position_accuracy: 0.9748 - val_loss: 0.3382 - val_subject_loss: 0.3003 - val_position_loss: 0.0373 - val_subject_accuracy: 0.9123 - val_position_accuracy: 0.9949\n",
            "Epoch 12/30\n",
            "11253/11253 [==============================] - 61s 5ms/step - loss: 0.9978 - subject_loss: 0.8982 - position_loss: 0.0996 - subject_accuracy: 0.7212 - position_accuracy: 0.9775 - val_loss: 0.2604 - val_subject_loss: 0.2246 - val_position_loss: 0.0354 - val_subject_accuracy: 0.9525 - val_position_accuracy: 0.9949\n",
            "Epoch 13/30\n",
            "11253/11253 [==============================] - 63s 6ms/step - loss: 0.9047 - subject_loss: 0.8111 - position_loss: 0.0936 - subject_accuracy: 0.7385 - position_accuracy: 0.9792 - val_loss: 0.2678 - val_subject_loss: 0.2301 - val_position_loss: 0.0372 - val_subject_accuracy: 0.9381 - val_position_accuracy: 0.9949\n",
            "Epoch 14/30\n",
            "11253/11253 [==============================] - 62s 6ms/step - loss: 0.8300 - subject_loss: 0.7433 - position_loss: 0.0867 - subject_accuracy: 0.7657 - position_accuracy: 0.9811 - val_loss: 0.2103 - val_subject_loss: 0.1736 - val_position_loss: 0.0363 - val_subject_accuracy: 0.9669 - val_position_accuracy: 0.9947\n",
            "Epoch 15/30\n",
            "11253/11253 [==============================] - 64s 6ms/step - loss: 0.7509 - subject_loss: 0.6672 - position_loss: 0.0837 - subject_accuracy: 0.7925 - position_accuracy: 0.9800 - val_loss: 0.1843 - val_subject_loss: 0.1491 - val_position_loss: 0.0348 - val_subject_accuracy: 0.9680 - val_position_accuracy: 0.9949\n",
            "Epoch 16/30\n",
            "11253/11253 [==============================] - 62s 6ms/step - loss: 0.6966 - subject_loss: 0.6127 - position_loss: 0.0838 - subject_accuracy: 0.8073 - position_accuracy: 0.9831 - val_loss: 0.1770 - val_subject_loss: 0.1416 - val_position_loss: 0.0350 - val_subject_accuracy: 0.9680 - val_position_accuracy: 0.9947\n",
            "Epoch 17/30\n",
            "11253/11253 [==============================] - 63s 6ms/step - loss: 0.6508 - subject_loss: 0.5757 - position_loss: 0.0751 - subject_accuracy: 0.8229 - position_accuracy: 0.9836 - val_loss: 0.1661 - val_subject_loss: 0.1308 - val_position_loss: 0.0349 - val_subject_accuracy: 0.9763 - val_position_accuracy: 0.9949\n",
            "Epoch 18/30\n",
            "11253/11253 [==============================] - 62s 6ms/step - loss: 0.6069 - subject_loss: 0.5232 - position_loss: 0.0837 - subject_accuracy: 0.8367 - position_accuracy: 0.9829 - val_loss: 0.1369 - val_subject_loss: 0.1015 - val_position_loss: 0.0351 - val_subject_accuracy: 0.9840 - val_position_accuracy: 0.9949\n",
            "Epoch 19/30\n",
            "11253/11253 [==============================] - 62s 6ms/step - loss: 0.5551 - subject_loss: 0.4781 - position_loss: 0.0770 - subject_accuracy: 0.8504 - position_accuracy: 0.9845 - val_loss: 0.1309 - val_subject_loss: 0.0955 - val_position_loss: 0.0351 - val_subject_accuracy: 0.9803 - val_position_accuracy: 0.9949\n",
            "Epoch 20/30\n",
            "11253/11253 [==============================] - 63s 6ms/step - loss: 0.5151 - subject_loss: 0.4362 - position_loss: 0.0789 - subject_accuracy: 0.8657 - position_accuracy: 0.9845 - val_loss: 0.1188 - val_subject_loss: 0.0844 - val_position_loss: 0.0341 - val_subject_accuracy: 0.9851 - val_position_accuracy: 0.9947\n",
            "Epoch 21/30\n",
            "11253/11253 [==============================] - 63s 6ms/step - loss: 0.4857 - subject_loss: 0.4075 - position_loss: 0.0782 - subject_accuracy: 0.8760 - position_accuracy: 0.9840 - val_loss: 0.1194 - val_subject_loss: 0.0848 - val_position_loss: 0.0343 - val_subject_accuracy: 0.9843 - val_position_accuracy: 0.9952\n",
            "Epoch 22/30\n",
            "11253/11253 [==============================] - 63s 6ms/step - loss: 0.4653 - subject_loss: 0.3920 - position_loss: 0.0734 - subject_accuracy: 0.8830 - position_accuracy: 0.9851 - val_loss: 0.1035 - val_subject_loss: 0.0702 - val_position_loss: 0.0329 - val_subject_accuracy: 0.9888 - val_position_accuracy: 0.9949\n",
            "Epoch 23/30\n",
            "11253/11253 [==============================] - 63s 6ms/step - loss: 0.4168 - subject_loss: 0.3451 - position_loss: 0.0717 - subject_accuracy: 0.8963 - position_accuracy: 0.9868 - val_loss: 0.0994 - val_subject_loss: 0.0646 - val_position_loss: 0.0345 - val_subject_accuracy: 0.9896 - val_position_accuracy: 0.9947\n",
            "Epoch 24/30\n",
            "11253/11253 [==============================] - 64s 6ms/step - loss: 0.4043 - subject_loss: 0.3349 - position_loss: 0.0694 - subject_accuracy: 0.9023 - position_accuracy: 0.9863 - val_loss: 0.1017 - val_subject_loss: 0.0686 - val_position_loss: 0.0328 - val_subject_accuracy: 0.9867 - val_position_accuracy: 0.9949\n",
            "Epoch 25/30\n",
            "11253/11253 [==============================] - 62s 6ms/step - loss: 0.3764 - subject_loss: 0.3102 - position_loss: 0.0662 - subject_accuracy: 0.9065 - position_accuracy: 0.9862 - val_loss: 0.1066 - val_subject_loss: 0.0730 - val_position_loss: 0.0334 - val_subject_accuracy: 0.9869 - val_position_accuracy: 0.9952\n",
            "Epoch 26/30\n",
            "11253/11253 [==============================] - 61s 5ms/step - loss: 0.3623 - subject_loss: 0.2949 - position_loss: 0.0674 - subject_accuracy: 0.9136 - position_accuracy: 0.9865 - val_loss: 0.0940 - val_subject_loss: 0.0597 - val_position_loss: 0.0340 - val_subject_accuracy: 0.9899 - val_position_accuracy: 0.9952\n",
            "Epoch 27/30\n",
            "11253/11253 [==============================] - 62s 5ms/step - loss: 0.3291 - subject_loss: 0.2635 - position_loss: 0.0656 - subject_accuracy: 0.9228 - position_accuracy: 0.9876 - val_loss: 0.0875 - val_subject_loss: 0.0534 - val_position_loss: 0.0338 - val_subject_accuracy: 0.9909 - val_position_accuracy: 0.9949\n",
            "Epoch 28/30\n",
            "11253/11253 [==============================] - 62s 5ms/step - loss: 0.3205 - subject_loss: 0.2571 - position_loss: 0.0634 - subject_accuracy: 0.9253 - position_accuracy: 0.9871 - val_loss: 0.0849 - val_subject_loss: 0.0512 - val_position_loss: 0.0335 - val_subject_accuracy: 0.9904 - val_position_accuracy: 0.9952\n",
            "Epoch 29/30\n",
            "11253/11253 [==============================] - 61s 5ms/step - loss: 0.3051 - subject_loss: 0.2379 - position_loss: 0.0672 - subject_accuracy: 0.9306 - position_accuracy: 0.9874 - val_loss: 0.0874 - val_subject_loss: 0.0545 - val_position_loss: 0.0327 - val_subject_accuracy: 0.9904 - val_position_accuracy: 0.9952\n",
            "Epoch 30/30\n",
            "11253/11253 [==============================] - 61s 5ms/step - loss: 0.2979 - subject_loss: 0.2336 - position_loss: 0.0644 - subject_accuracy: 0.9302 - position_accuracy: 0.9882 - val_loss: 0.0895 - val_subject_loss: 0.0563 - val_position_loss: 0.0330 - val_subject_accuracy: 0.9901 - val_position_accuracy: 0.9949\n",
            "[0.08952130789919929, 0.05607086047530174, 0.03286401182413101, 0.9901359677314758, 0.9949346780776978]\n",
            "Validation loss: 0.08952130789919929\n",
            "Validation  accuracy subject: 0.9901359677314758\n",
            "Validation  accuracy posture: 0.9949346780776978\n",
            "subject classification accuracy: 0.9914034386245502\n",
            "posture classification accuracy: 0.9936025589764095\n",
            "joint classification accuracy: 0.9872051179528188\n",
            "joint classification F1 score: 0.9871971438226127\n"
          ],
          "name": "stdout"
        },
        {
          "output_type": "display_data",
          "data": {
            "image/png": "[encoded data removed]",
            "text/plain": [
              "<Figure size 432x288 with 1 Axes>"
            ]
          },
          "metadata": {
            "tags": [],
            "needs_background": "light"
          }
        }
      ]
    },
    {
      "cell_type": "code",
      "metadata": {
        "id": "EPyVLQ9sf_gm",
        "colab": {
          "base_uri": "https://localhost:8080/",
          "height": 300
        },
        "outputId": "cbd89252-7332-4552-bb67-1950d2e62e78"
      },
      "source": [
        "    plt.plot(history_j1.history['subject_accuracy'], label='accuracy')\n",
        "    plt.plot(history_j1.history['val_subject_accuracy'], label='val_accuracy')\n",
        "    plt.xlabel('Epoch')\n",
        "    plt.ylabel('Accuracy')\n",
        "    plt.ylim([0, 1])\n",
        "    plt.legend(loc='lower right')"
      ],
      "execution_count": null,
      "outputs": [
        {
          "output_type": "execute_result",
          "data": {
            "text/plain": [
              "<matplotlib.legend.Legend at 0x7f572cb48e10>"
            ]
          },
          "metadata": {
            "tags": []
          },
          "execution_count": 96
        },
        {
          "output_type": "display_data",
          "data": {
            "image/png": "[encoded data removed]",
            "text/plain": [
              "<Figure size 432x288 with 1 Axes>"
            ]
          },
          "metadata": {
            "tags": [],
            "needs_background": "light"
          }
        }
      ]
    },
    {
      "cell_type": "code",
      "metadata": {
        "id": "xb_1dcQ-rMT2",
        "colab": {
          "base_uri": "https://localhost:8080/",
          "height": 300
        },
        "outputId": "35e866db-b071-474b-dda9-4ff4dd4f2153"
      },
      "source": [
        "    plt.plot(history_j1.history['subject_loss'], label='accuracy')\n",
        "    plt.plot(history_j1.history['val_subject_loss'], label='val_accuracy')\n",
        "    plt.xlabel('Epoch')\n",
        "    plt.ylabel('Accuracy')\n",
        "    plt.ylim([0, 5])\n",
        "    plt.legend(loc='upper right')"
      ],
      "execution_count": null,
      "outputs": [
        {
          "output_type": "execute_result",
          "data": {
            "text/plain": [
              "<matplotlib.legend.Legend at 0x7f572ec7e400>"
            ]
          },
          "metadata": {
            "tags": []
          },
          "execution_count": 98
        },
        {
          "output_type": "display_data",
          "data": {
            "image/png": "[encoded data removed]",
            "text/plain": [
              "<Figure size 432x288 with 1 Axes>"
            ]
          },
          "metadata": {
            "tags": [],
            "needs_background": "light"
          }
        }
      ]
    },
    {
      "cell_type": "code",
      "metadata": {
        "id": "WgMRVQKKrUhb",
        "colab": {
          "base_uri": "https://localhost:8080/",
          "height": 300
        },
        "outputId": "6e2490ca-582d-4588-ef06-7aab5ac89b09"
      },
      "source": [
        "    plt.plot(history_j1.history['position_accuracy'], label='accuracy')\n",
        "    plt.plot(history_j1.history['val_position_accuracy'], label='val_accuracy')\n",
        "    plt.xlabel('Epoch')\n",
        "    plt.ylabel('Accuracy')\n",
        "    plt.ylim([0, 1])\n",
        "    plt.legend(loc='lower right')"
      ],
      "execution_count": null,
      "outputs": [
        {
          "output_type": "execute_result",
          "data": {
            "text/plain": [
              "<matplotlib.legend.Legend at 0x7f572b27ce10>"
            ]
          },
          "metadata": {
            "tags": []
          },
          "execution_count": 99
        },
        {
          "output_type": "display_data",
          "data": {
            "image/png": "[encoded data removed]",
            "text/plain": [
              "<Figure size 432x288 with 1 Axes>"
            ]
          },
          "metadata": {
            "tags": [],
            "needs_background": "light"
          }
        }
      ]
    },
    {
      "cell_type": "code",
      "metadata": {
        "id": "acHQtnqorX2Q",
        "colab": {
          "base_uri": "https://localhost:8080/",
          "height": 300
        },
        "outputId": "294510c4-d234-46e0-ac69-d00fbf25a27d"
      },
      "source": [
        "    plt.plot(history_j1.history['position_loss'], label='accuracy')\n",
        "    plt.plot(history_j1.history['val_position_loss'], label='val_accuracy')\n",
        "    plt.xlabel('Epoch')\n",
        "    plt.ylabel('Accuracy')\n",
        "    plt.ylim([0, 1])\n",
        "    plt.legend(loc='upper right')"
      ],
      "execution_count": null,
      "outputs": [
        {
          "output_type": "execute_result",
          "data": {
            "text/plain": [
              "<matplotlib.legend.Legend at 0x7f5732ef0b00>"
            ]
          },
          "metadata": {
            "tags": []
          },
          "execution_count": 102
        },
        {
          "output_type": "display_data",
          "data": {
            "image/png": "[encoded data removed]",
            "text/plain": [
              "<Figure size 432x288 with 1 Axes>"
            ]
          },
          "metadata": {
            "tags": [],
            "needs_background": "light"
          }
        }
      ]
    },
    {
      "cell_type": "markdown",
      "metadata": {
        "id": "P_2qUnYOu7E9"
      },
      "source": [
        "#CNN\n",
        "\n"
      ]
    },
    {
      "cell_type": "code",
      "metadata": {
        "id": "QMG4RWjetqzR",
        "colab": {
          "base_uri": "https://localhost:8080/",
          "height": 34
        },
        "outputId": "e4b95d01-3f86-43a6-f1d7-64fba0f912d1"
      },
      "source": [
        "import keras"
      ],
      "execution_count": null,
      "outputs": [
        {
          "output_type": "stream",
          "text": [
            "Using TensorFlow backend.\n"
          ],
          "name": "stderr"
        }
      ]
    },
    {
      "cell_type": "code",
      "metadata": {
        "id": "j9AbEYz0tsrF"
      },
      "source": [
        "# layers used\n",
        "from keras.models import Sequential,Input,Model\n",
        "from keras.layers import Dense, Dropout, Flatten\n",
        "from keras.layers import Conv2D, MaxPooling2D\n",
        "from keras.layers.normalization import BatchNormalization\n",
        "from keras.layers.advanced_activations import LeakyReLU\n",
        "from keras.layers.advanced_activations import Softmax\n",
        "from tensorflow.keras.optimizers import SGD\n",
        "from sklearn.model_selection import KFold"
      ],
      "execution_count": null,
      "outputs": []
    },
    {
      "cell_type": "code",
      "metadata": {
        "id": "8qXU9S80tv0m"
      },
      "source": [
        "\n",
        "x_input = Input(shape=(32,64,1))\n",
        "x = Conv2D(32, kernel_size=(3,3),strides = 1, padding='same')(x_input)\n",
        "x = BatchNormalization()(x)\n",
        "x = MaxPooling2D(pool_size=(2, 2))(x)\n",
        "x= LeakyReLU(alpha=0.2)(x)\n",
        "\n",
        "x = Conv2D(64, kernel_size=(3,3),strides = 1, padding='same')(x)\n",
        "x = BatchNormalization()(x)\n",
        "x = MaxPooling2D(pool_size=(2, 2))(x)\n",
        "x= LeakyReLU(alpha=0.2)(x)\n",
        "\n",
        "\n",
        "x = Conv2D(128, kernel_size=(3,3),strides = 1, padding='same')(x)\n",
        "x = BatchNormalization()(x)\n",
        "x = LeakyReLU(alpha=0.2)(x)\n",
        "\n",
        "x = Conv2D(256, kernel_size=(3,3),strides = 1, padding='same')(x)\n",
        "x = BatchNormalization()(x)\n",
        "x = LeakyReLU(alpha=0.2)(x)\n",
        "\n",
        "x = Flatten()(x)\n",
        "x = Dense(units=256)(x)\n",
        "x= Dropout(0.5)(x)\n",
        "\n",
        "x = Dense(units=256)(x)\n",
        "x= Dropout(0.5)(x)\n",
        "\n",
        "output1 = Dense(units=14, activation='softmax', name = 'subject')(x)\n",
        "\n",
        "model= Model(inputs=x_input,outputs=[output1])"
      ],
      "execution_count": null,
      "outputs": []
    },
    {
      "cell_type": "code",
      "metadata": {
        "id": "_YNI1_rQtyo1"
      },
      "source": [
        "# Model compile\n",
        "#sgd = SGD(learning_rate=0.001,momentum=0.8)\n",
        "opt = keras.optimizers.Adam(learning_rate=0.00002)\n",
        "model.compile(optimizer=opt,loss='categorical_crossentropy',metrics=['accuracy'])"
      ],
      "execution_count": null,
      "outputs": []
    },
    {
      "cell_type": "code",
      "metadata": {
        "id": "klZfj3APt0y2",
        "colab": {
          "base_uri": "https://localhost:8080/",
          "height": 765
        },
        "outputId": "9f8c659c-4490-4729-b470-36825d138050"
      },
      "source": [
        "# summary of the model\n",
        "model.summary()"
      ],
      "execution_count": null,
      "outputs": [
        {
          "output_type": "stream",
          "text": [
            "Model: \"sequential_2\"\n",
            "_________________________________________________________________\n",
            "Layer (type)                 Output Shape              Param #   \n",
            "=================================================================\n",
            "conv2d_5 (Conv2D)            (None, 30, 62, 32)        320       \n",
            "_________________________________________________________________\n",
            "batch_normalization_5 (Batch (None, 30, 62, 32)        128       \n",
            "_________________________________________________________________\n",
            "max_pooling2d_3 (MaxPooling2 (None, 15, 31, 32)        0         \n",
            "_________________________________________________________________\n",
            "leaky_re_lu_5 (LeakyReLU)    (None, 15, 31, 32)        0         \n",
            "_________________________________________________________________\n",
            "conv2d_6 (Conv2D)            (None, 13, 29, 64)        18496     \n",
            "_________________________________________________________________\n",
            "batch_normalization_6 (Batch (None, 13, 29, 64)        256       \n",
            "_________________________________________________________________\n",
            "max_pooling2d_4 (MaxPooling2 (None, 6, 14, 64)         0         \n",
            "_________________________________________________________________\n",
            "leaky_re_lu_6 (LeakyReLU)    (None, 6, 14, 64)         0         \n",
            "_________________________________________________________________\n",
            "conv2d_7 (Conv2D)            (None, 4, 12, 128)        73856     \n",
            "_________________________________________________________________\n",
            "batch_normalization_7 (Batch (None, 4, 12, 128)        512       \n",
            "_________________________________________________________________\n",
            "leaky_re_lu_7 (LeakyReLU)    (None, 4, 12, 128)        0         \n",
            "_________________________________________________________________\n",
            "conv2d_8 (Conv2D)            (None, 2, 10, 256)        295168    \n",
            "_________________________________________________________________\n",
            "batch_normalization_8 (Batch (None, 2, 10, 256)        1024      \n",
            "_________________________________________________________________\n",
            "leaky_re_lu_8 (LeakyReLU)    (None, 2, 10, 256)        0         \n",
            "_________________________________________________________________\n",
            "flatten_2 (Flatten)          (None, 5120)              0         \n",
            "_________________________________________________________________\n",
            "dense_3 (Dense)              (None, 256)               1310976   \n",
            "_________________________________________________________________\n",
            "dropout_2 (Dropout)          (None, 256)               0         \n",
            "_________________________________________________________________\n",
            "dense_4 (Dense)              (None, 14)                3598      \n",
            "=================================================================\n",
            "Total params: 1,704,334\n",
            "Trainable params: 1,703,374\n",
            "Non-trainable params: 960\n",
            "_________________________________________________________________\n"
          ],
          "name": "stdout"
        }
      ]
    },
    {
      "cell_type": "code",
      "metadata": {
        "id": "aFkmeoVDt26V",
        "colab": {
          "base_uri": "https://localhost:8080/",
          "height": 394
        },
        "outputId": "4bd09197-0dc0-41b8-fb56-fdf5408bc9cf"
      },
      "source": [
        "# fitting the model drop out =0.5\n",
        "history = model.fit(x_train_n1, y_train_hot_sub, epochs=10, validation_data=(x_valid_n1, y_valid_hot_sub),verbose=1)"
      ],
      "execution_count": null,
      "outputs": [
        {
          "output_type": "stream",
          "text": [
            "Train on 12003 samples, validate on 3001 samples\n",
            "Epoch 1/10\n",
            "12003/12003 [==============================] - 74s 6ms/step - loss: 9.2370e-04 - accuracy: 1.0000 - val_loss: 0.0136 - val_accuracy: 0.9967\n",
            "Epoch 2/10\n",
            "12003/12003 [==============================] - 77s 6ms/step - loss: 6.4326e-04 - accuracy: 1.0000 - val_loss: 0.0204 - val_accuracy: 0.9953\n",
            "Epoch 3/10\n",
            "12003/12003 [==============================] - 73s 6ms/step - loss: 0.0013 - accuracy: 0.9998 - val_loss: 0.0154 - val_accuracy: 0.9967\n",
            "Epoch 4/10\n",
            "12003/12003 [==============================] - 73s 6ms/step - loss: 0.0021 - accuracy: 0.9996 - val_loss: 0.0159 - val_accuracy: 0.9957\n",
            "Epoch 5/10\n",
            "12003/12003 [==============================] - 73s 6ms/step - loss: 6.7243e-04 - accuracy: 1.0000 - val_loss: 0.0145 - val_accuracy: 0.9967\n",
            "Epoch 6/10\n",
            "12003/12003 [==============================] - 73s 6ms/step - loss: 4.5243e-04 - accuracy: 1.0000 - val_loss: 0.0129 - val_accuracy: 0.9977\n",
            "Epoch 7/10\n",
            "12003/12003 [==============================] - 73s 6ms/step - loss: 6.8650e-04 - accuracy: 0.9998 - val_loss: 0.0129 - val_accuracy: 0.9973\n",
            "Epoch 8/10\n",
            "12003/12003 [==============================] - 73s 6ms/step - loss: 3.3707e-04 - accuracy: 1.0000 - val_loss: 0.0134 - val_accuracy: 0.9973\n",
            "Epoch 9/10\n",
            "12003/12003 [==============================] - 72s 6ms/step - loss: 2.2791e-04 - accuracy: 1.0000 - val_loss: 0.0129 - val_accuracy: 0.9973\n",
            "Epoch 10/10\n",
            "12003/12003 [==============================] - 74s 6ms/step - loss: 2.0150e-04 - accuracy: 1.0000 - val_loss: 0.0121 - val_accuracy: 0.9970\n"
          ],
          "name": "stdout"
        }
      ]
    },
    {
      "cell_type": "code",
      "metadata": {
        "id": "BopHRA2bKGJt",
        "colab": {
          "base_uri": "https://localhost:8080/",
          "height": 51
        },
        "outputId": "7c774a1f-2534-4c27-cffd-28d2f7d80709"
      },
      "source": [
        "# evaluating the performance on validation set\n",
        "score = model.evaluate(x_valid_n1, y_valid_hot_sub, verbose=0)\n",
        "print('Test loss:', score[0])\n",
        "print('Test accuracy:', score[1])"
      ],
      "execution_count": null,
      "outputs": [
        {
          "output_type": "stream",
          "text": [
            "Test loss: 0.012061583112545234\n",
            "Test accuracy: 0.9970009922981262\n"
          ],
          "name": "stdout"
        }
      ]
    },
    {
      "cell_type": "code",
      "metadata": {
        "id": "DWXg-58DY5QX",
        "colab": {
          "base_uri": "https://localhost:8080/",
          "height": 300
        },
        "outputId": "10ec8a63-c6d1-4f35-c6c1-0e375149fbae"
      },
      "source": [
        "plt.plot(history.history['accuracy'], label='accuracy')\n",
        "plt.plot(history.history['val_accuracy'], label = 'val_accuracy')\n",
        "plt.xlabel('Epoch')\n",
        "plt.ylabel('Accuracy')\n",
        "plt.ylim([0, 1])\n",
        "plt.legend(loc='lower right')"
      ],
      "execution_count": null,
      "outputs": [
        {
          "output_type": "execute_result",
          "data": {
            "text/plain": [
              "<matplotlib.legend.Legend at 0x7f8b7f2c70f0>"
            ]
          },
          "metadata": {
            "tags": []
          },
          "execution_count": 27
        },
        {
          "output_type": "display_data",
          "data": {
            "image/png": "[encoded data removed]",
            "text/plain": [
              "<Figure size 432x288 with 1 Axes>"
            ]
          },
          "metadata": {
            "tags": [],
            "needs_background": "light"
          }
        }
      ]
    },
    {
      "cell_type": "code",
      "metadata": {
        "id": "yT7aqI26Y-Na",
        "colab": {
          "base_uri": "https://localhost:8080/",
          "height": 300
        },
        "outputId": "88508b80-c3ed-46d0-94bb-d31d3b6ccdf7"
      },
      "source": [
        "plt.plot(history.history['loss'], label='loss')\n",
        "plt.plot(history.history['val_loss'], label = 'val_loss')\n",
        "plt.xlabel('Epoch')\n",
        "plt.ylabel('Loss')\n",
        "plt.ylim([0,1])\n",
        "plt.legend(loc='upper right')"
      ],
      "execution_count": null,
      "outputs": [
        {
          "output_type": "execute_result",
          "data": {
            "text/plain": [
              "<matplotlib.legend.Legend at 0x7fb0d88b14e0>"
            ]
          },
          "metadata": {
            "tags": []
          },
          "execution_count": 25
        },
        {
          "output_type": "display_data",
          "data": {
            "image/png": "[encoded data removed]",
            "text/plain": [
              "<Figure size 432x288 with 1 Axes>"
            ]
          },
          "metadata": {
            "tags": [],
            "needs_background": "light"
          }
        }
      ]
    },
    {
      "cell_type": "code",
      "metadata": {
        "id": "wCYSh0bhKW-E",
        "colab": {
          "base_uri": "https://localhost:8080/",
          "height": 34
        },
        "outputId": "086d751c-6dce-47cf-a800-95743bce35a2"
      },
      "source": [
        "ynew = model.predict_classes(x_test_n1)\n",
        "ynew"
      ],
      "execution_count": null,
      "outputs": [
        {
          "output_type": "execute_result",
          "data": {
            "text/plain": [
              "array([12,  5,  7, ...,  6,  3,  7])"
            ]
          },
          "metadata": {
            "tags": []
          },
          "execution_count": 26
        }
      ]
    },
    {
      "cell_type": "code",
      "metadata": {
        "id": "IqeqtCyUKZBJ",
        "colab": {
          "base_uri": "https://localhost:8080/",
          "height": 34
        },
        "outputId": "91da7b2a-e748-4359-eb62-5b87670e8f35"
      },
      "source": [
        "# calculate accuracy on test set\n",
        "from sklearn import metrics\n",
        "print(metrics.accuracy_score(y_test, ynew))"
      ],
      "execution_count": null,
      "outputs": [
        {
          "output_type": "stream",
          "text": [
            "0.995752123938031\n"
          ],
          "name": "stdout"
        }
      ]
    },
    {
      "cell_type": "code",
      "metadata": {
        "id": "YJWSYDq8KgqP",
        "colab": {
          "base_uri": "https://localhost:8080/",
          "height": 306
        },
        "outputId": "b5cb0304-43fb-4690-fffb-5eb68563171e"
      },
      "source": [
        "# cnn report and analysis\n",
        "from sklearn.metrics import plot_confusion_matrix \n",
        "cnn_mod1 = metrics.f1_score(y_test, ynew, average= \"weighted\")\n",
        "cnn_mod = metrics.confusion_matrix(y_test, ynew)\n",
        "print(\"cnn\")\n",
        "print(\"F1 score: {}\".format(cnn_mod1))\n",
        "print(\"Confusion matrix: \\n\", cnn_mod)\n",
        "print('Plotting confusion matrix')"
      ],
      "execution_count": null,
      "outputs": [
        {
          "output_type": "stream",
          "text": [
            "cnn\n",
            "F1 score: 0.9957541592180081\n",
            "Confusion matrix: \n",
            " [[237   0   0   0   0   0   0   0   0   0   0   0   0]\n",
            " [  1 241   0   0   0   0   0   0   0   0   0   1   0]\n",
            " [  0   0 276   0   1   0   1   0   0   0   0   0   0]\n",
            " [  0   0   0 266   0   0   0   0   0   0   1   0   0]\n",
            " [  0   0   0   0 398   0   0   1   0   0   1   0   0]\n",
            " [  0   0   0   0   0 284   1   0   0   0   0   0   0]\n",
            " [  0   0   0   0   0   0 489   0   0   0   2   0   0]\n",
            " [  0   0   0   0   0   0   1 409   0   0   0   0   0]\n",
            " [  0   0   0   0   0   1   0   0 243   0   0   1   0]\n",
            " [  0   0   0   0   0   0   0   0   0 280   0   0   0]\n",
            " [  0   0   0   0   0   1   0   0   1   0 260   0   0]\n",
            " [  0   0   0   0   0   0   0   0   0   0   0 387   0]\n",
            " [  0   0   0   0   0   1   0   1   0   0   0   0 215]]\n",
            "Plotting confusion matrix\n"
          ],
          "name": "stdout"
        }
      ]
    },
    {
      "cell_type": "code",
      "metadata": {
        "id": "aGnFB-dAJOac",
        "colab": {
          "base_uri": "https://localhost:8080/",
          "height": 1000
        },
        "outputId": "653eddb0-7556-4f89-f77d-9be7a2400666"
      },
      "source": [
        "scores = []\n",
        "cv = KFold(n_splits=10, random_state=42, shuffle=False)\n",
        "y_origin_hot = np.eye(14)[y_origin]\n",
        "\n",
        "\n",
        "for train_index, test_index in cv.split(x_filter):\n",
        "    print(\"Train Index: \", train_index, \"\\n\")\n",
        "    print(\"Test Index: \", test_index)\n",
        "\n",
        "    #score = model.evaluate(input_test, target_test, verbose=0)\n",
        "    X_train, X_test, y_train, y_test = x_filter[train_index], x_filter[test_index], y_origin_hot[train_index],y_origin_hot[test_index]\n",
        "    model.fit(X_train, y_train)\n",
        "    scores.append(model.evaluate(X_test, y_test))"
      ],
      "execution_count": null,
      "outputs": [
        {
          "output_type": "stream",
          "text": [
            "/usr/local/lib/python3.6/dist-packages/sklearn/model_selection/_split.py:296: FutureWarning: Setting a random_state has no effect since shuffle is False. This will raise an error in 0.24. You should leave random_state to its default (None), or set shuffle=True.\n",
            "  FutureWarning\n"
          ],
          "name": "stderr"
        },
        {
          "output_type": "stream",
          "text": [
            "Train Index:  [ 2003  2004  2005 ... 20021 20022 20023] \n",
            "\n",
            "Test Index:  [   0    1    2 ... 2000 2001 2002]\n",
            "Epoch 1/1\n",
            "18021/18021 [==============================] - 108s 6ms/step - loss: 0.0103 - accuracy: 0.9969\n",
            "2003/2003 [==============================] - 4s 2ms/step\n",
            "Train Index:  [    0     1     2 ... 20021 20022 20023] \n",
            "\n",
            "Test Index:  [2003 2004 2005 ... 4003 4004 4005]\n",
            "Epoch 1/1\n",
            "18021/18021 [==============================] - 107s 6ms/step - loss: 0.0108 - accuracy: 0.9969\n",
            "2003/2003 [==============================] - 3s 2ms/step\n",
            "Train Index:  [    0     1     2 ... 20021 20022 20023] \n",
            "\n",
            "Test Index:  [4006 4007 4008 ... 6006 6007 6008]\n",
            "Epoch 1/1\n",
            "18021/18021 [==============================] - 106s 6ms/step - loss: 0.0074 - accuracy: 0.9978\n",
            "2003/2003 [==============================] - 3s 2ms/step\n",
            "Train Index:  [    0     1     2 ... 20021 20022 20023] \n",
            "\n",
            "Test Index:  [6009 6010 6011 ... 8009 8010 8011]\n",
            "Epoch 1/1\n",
            "18021/18021 [==============================] - 108s 6ms/step - loss: 0.0083 - accuracy: 0.9983\n",
            "2003/2003 [==============================] - 3s 2ms/step\n",
            "Train Index:  [    0     1     2 ... 20021 20022 20023] \n",
            "\n",
            "Test Index:  [ 8012  8013  8014 ... 10011 10012 10013]\n",
            "Epoch 1/1\n",
            "18022/18022 [==============================] - 109s 6ms/step - loss: 0.0086 - accuracy: 0.9978\n",
            "2002/2002 [==============================] - 3s 2ms/step\n",
            "Train Index:  [    0     1     2 ... 20021 20022 20023] \n",
            "\n",
            "Test Index:  [10014 10015 10016 ... 12013 12014 12015]\n",
            "Epoch 1/1\n",
            "18022/18022 [==============================] - 109s 6ms/step - loss: 0.0057 - accuracy: 0.9988\n",
            "2002/2002 [==============================] - 3s 2ms/step\n",
            "Train Index:  [    0     1     2 ... 20021 20022 20023] \n",
            "\n",
            "Test Index:  [12016 12017 12018 ... 14015 14016 14017]\n",
            "Epoch 1/1\n",
            "18022/18022 [==============================] - 108s 6ms/step - loss: 0.0048 - accuracy: 0.9992\n",
            "2002/2002 [==============================] - 3s 2ms/step\n",
            "Train Index:  [    0     1     2 ... 20021 20022 20023] \n",
            "\n",
            "Test Index:  [14018 14019 14020 ... 16017 16018 16019]\n",
            "Epoch 1/1\n",
            "18022/18022 [==============================] - 107s 6ms/step - loss: 0.0048 - accuracy: 0.9988\n",
            "2002/2002 [==============================] - 3s 2ms/step\n",
            "Train Index:  [    0     1     2 ... 20021 20022 20023] \n",
            "\n",
            "Test Index:  [16020 16021 16022 ... 18019 18020 18021]\n",
            "Epoch 1/1\n",
            "18022/18022 [==============================] - 106s 6ms/step - loss: 0.0050 - accuracy: 0.9988\n",
            "2002/2002 [==============================] - 3s 2ms/step\n",
            "Train Index:  [    0     1     2 ... 18019 18020 18021] \n",
            "\n",
            "Test Index:  [18022 18023 18024 ... 20021 20022 20023]\n",
            "Epoch 1/1\n",
            "18022/18022 [==============================] - 106s 6ms/step - loss: 0.0037 - accuracy: 0.9989\n",
            "2002/2002 [==============================] - 3s 2ms/step\n"
          ],
          "name": "stdout"
        }
      ]
    },
    {
      "cell_type": "code",
      "metadata": {
        "id": "Jk2sCyolSb-R"
      },
      "source": [
        "print(np.mean(scores))"
      ],
      "execution_count": null,
      "outputs": []
    },
    {
      "cell_type": "code",
      "metadata": {
        "id": "W1mn4Wu2uUaR",
        "colab": {
          "base_uri": "https://localhost:8080/",
          "height": 1000
        },
        "outputId": "9b5b2cdc-e2ea-42a2-b584-0d31a3a2ec6d"
      },
      "source": [
        "#Drop out 0.6\n",
        "opt = keras.optimizers.Adam(learning_rate=0.00002)\n",
        "model.compile(optimizer=opt,loss='categorical_crossentropy',metrics=['accuracy'])\n",
        "# summary of the model\n",
        "model.summary()\n",
        "# fitting the model\n",
        "history_1 = model.fit(x_train_n1, y_train_hot, epochs=20, validation_data=(x_valid_n1, y_valid_hot),verbose=1)"
      ],
      "execution_count": null,
      "outputs": [
        {
          "output_type": "stream",
          "text": [
            "Model: \"sequential_2\"\n",
            "_________________________________________________________________\n",
            "Layer (type)                 Output Shape              Param #   \n",
            "=================================================================\n",
            "conv2d_5 (Conv2D)            (None, 30, 62, 32)        320       \n",
            "_________________________________________________________________\n",
            "batch_normalization_5 (Batch (None, 30, 62, 32)        128       \n",
            "_________________________________________________________________\n",
            "max_pooling2d_3 (MaxPooling2 (None, 15, 31, 32)        0         \n",
            "_________________________________________________________________\n",
            "leaky_re_lu_5 (LeakyReLU)    (None, 15, 31, 32)        0         \n",
            "_________________________________________________________________\n",
            "conv2d_6 (Conv2D)            (None, 13, 29, 64)        18496     \n",
            "_________________________________________________________________\n",
            "batch_normalization_6 (Batch (None, 13, 29, 64)        256       \n",
            "_________________________________________________________________\n",
            "max_pooling2d_4 (MaxPooling2 (None, 6, 14, 64)         0         \n",
            "_________________________________________________________________\n",
            "leaky_re_lu_6 (LeakyReLU)    (None, 6, 14, 64)         0         \n",
            "_________________________________________________________________\n",
            "conv2d_7 (Conv2D)            (None, 4, 12, 128)        73856     \n",
            "_________________________________________________________________\n",
            "batch_normalization_7 (Batch (None, 4, 12, 128)        512       \n",
            "_________________________________________________________________\n",
            "leaky_re_lu_7 (LeakyReLU)    (None, 4, 12, 128)        0         \n",
            "_________________________________________________________________\n",
            "conv2d_8 (Conv2D)            (None, 2, 10, 256)        295168    \n",
            "_________________________________________________________________\n",
            "batch_normalization_8 (Batch (None, 2, 10, 256)        1024      \n",
            "_________________________________________________________________\n",
            "leaky_re_lu_8 (LeakyReLU)    (None, 2, 10, 256)        0         \n",
            "_________________________________________________________________\n",
            "flatten_2 (Flatten)          (None, 5120)              0         \n",
            "_________________________________________________________________\n",
            "dense_4 (Dense)              (None, 256)               1310976   \n",
            "_________________________________________________________________\n",
            "dropout_3 (Dropout)          (None, 256)               0         \n",
            "_________________________________________________________________\n",
            "dense_5 (Dense)              (None, 256)               65792     \n",
            "_________________________________________________________________\n",
            "dropout_4 (Dropout)          (None, 256)               0         \n",
            "_________________________________________________________________\n",
            "dense_6 (Dense)              (None, 14)                3598      \n",
            "=================================================================\n",
            "Total params: 1,770,126\n",
            "Trainable params: 1,769,166\n",
            "Non-trainable params: 960\n",
            "_________________________________________________________________\n",
            "Train on 12815 samples, validate on 3204 samples\n",
            "Epoch 1/20\n",
            "12815/12815 [==============================] - 76s 6ms/step - loss: 2.5552 - accuracy: 0.3433 - val_loss: 3.4308 - val_accuracy: 0.1021\n",
            "Epoch 2/20\n",
            "12815/12815 [==============================] - 75s 6ms/step - loss: 0.9941 - accuracy: 0.6905 - val_loss: 0.4029 - val_accuracy: 0.9538\n",
            "Epoch 3/20\n",
            "12815/12815 [==============================] - 75s 6ms/step - loss: 0.5127 - accuracy: 0.8567 - val_loss: 0.1126 - val_accuracy: 0.9891\n",
            "Epoch 4/20\n",
            "12815/12815 [==============================] - 75s 6ms/step - loss: 0.2989 - accuracy: 0.9256 - val_loss: 0.0631 - val_accuracy: 0.9903\n",
            "Epoch 5/20\n",
            "12815/12815 [==============================] - 75s 6ms/step - loss: 0.1847 - accuracy: 0.9573 - val_loss: 0.0430 - val_accuracy: 0.9919\n",
            "Epoch 6/20\n",
            "12815/12815 [==============================] - 76s 6ms/step - loss: 0.1319 - accuracy: 0.9710 - val_loss: 0.0340 - val_accuracy: 0.9931\n",
            "Epoch 7/20\n",
            "12815/12815 [==============================] - 75s 6ms/step - loss: 0.1020 - accuracy: 0.9771 - val_loss: 0.0290 - val_accuracy: 0.9934\n",
            "Epoch 8/20\n",
            "12815/12815 [==============================] - 75s 6ms/step - loss: 0.0835 - accuracy: 0.9823 - val_loss: 0.0274 - val_accuracy: 0.9938\n",
            "Epoch 9/20\n",
            "12815/12815 [==============================] - 75s 6ms/step - loss: 0.0617 - accuracy: 0.9863 - val_loss: 0.0240 - val_accuracy: 0.9950\n",
            "Epoch 10/20\n",
            "12815/12815 [==============================] - 75s 6ms/step - loss: 0.0529 - accuracy: 0.9881 - val_loss: 0.0242 - val_accuracy: 0.9944\n",
            "Epoch 11/20\n",
            "12815/12815 [==============================] - 75s 6ms/step - loss: 0.0416 - accuracy: 0.9901 - val_loss: 0.0233 - val_accuracy: 0.9953\n",
            "Epoch 12/20\n",
            "12815/12815 [==============================] - 75s 6ms/step - loss: 0.0338 - accuracy: 0.9917 - val_loss: 0.0223 - val_accuracy: 0.9963\n",
            "Epoch 13/20\n",
            "12815/12815 [==============================] - 75s 6ms/step - loss: 0.0296 - accuracy: 0.9938 - val_loss: 0.0220 - val_accuracy: 0.9959\n",
            "Epoch 14/20\n",
            "12815/12815 [==============================] - 75s 6ms/step - loss: 0.0277 - accuracy: 0.9927 - val_loss: 0.0222 - val_accuracy: 0.9956\n",
            "Epoch 15/20\n",
            "12815/12815 [==============================] - 75s 6ms/step - loss: 0.0250 - accuracy: 0.9937 - val_loss: 0.0224 - val_accuracy: 0.9959\n",
            "Epoch 16/20\n",
            "12815/12815 [==============================] - 75s 6ms/step - loss: 0.0238 - accuracy: 0.9931 - val_loss: 0.0228 - val_accuracy: 0.9963\n",
            "Epoch 17/20\n",
            "12815/12815 [==============================] - 75s 6ms/step - loss: 0.0160 - accuracy: 0.9954 - val_loss: 0.0223 - val_accuracy: 0.9966\n",
            "Epoch 18/20\n",
            "12815/12815 [==============================] - 76s 6ms/step - loss: 0.0228 - accuracy: 0.9947 - val_loss: 0.0225 - val_accuracy: 0.9956\n",
            "Epoch 19/20\n",
            "12815/12815 [==============================] - 75s 6ms/step - loss: 0.0155 - accuracy: 0.9958 - val_loss: 0.0227 - val_accuracy: 0.9959\n",
            "Epoch 20/20\n",
            "12815/12815 [==============================] - 75s 6ms/step - loss: 0.0109 - accuracy: 0.9974 - val_loss: 0.0239 - val_accuracy: 0.9959\n"
          ],
          "name": "stdout"
        }
      ]
    },
    {
      "cell_type": "code",
      "metadata": {
        "id": "61pce_yR0uzx",
        "colab": {
          "base_uri": "https://localhost:8080/",
          "height": 296
        },
        "outputId": "0e939f8b-0113-4db1-d65e-ec613a62f048"
      },
      "source": [
        "plt.plot(history_1.history['accuracy'], label='accuracy')\n",
        "plt.plot(history_1.history['val_accuracy'], label = 'val_accuracy')\n",
        "plt.xlabel('Epoch')\n",
        "plt.ylabel('Accuracy')\n",
        "plt.ylim([0.5, 1.5])\n",
        "plt.legend(loc='lower right')"
      ],
      "execution_count": null,
      "outputs": [
        {
          "output_type": "execute_result",
          "data": {
            "text/plain": [
              "<matplotlib.legend.Legend at 0x7f040444dd68>"
            ]
          },
          "metadata": {
            "tags": []
          },
          "execution_count": 46
        },
        {
          "output_type": "display_data",
          "data": {
            "image/png": "[encoded data removed]",
            "text/plain": [
              "<Figure size 432x288 with 1 Axes>"
            ]
          },
          "metadata": {
            "tags": [],
            "needs_background": "light"
          }
        }
      ]
    },
    {
      "cell_type": "code",
      "metadata": {
        "id": "Uj1ORRc902Rw",
        "colab": {
          "base_uri": "https://localhost:8080/",
          "height": 301
        },
        "outputId": "92a1f00a-8d9c-45a0-8896-e68776230e78"
      },
      "source": [
        "plt.plot(history_1.history['loss'], label='loss')\n",
        "plt.plot(history_1.history['val_loss'], label = 'val_loss')\n",
        "plt.xlabel('Epoch')\n",
        "plt.ylabel('Loss')\n",
        "plt.ylim([0.01, 0.1])\n",
        "plt.legend(loc='upper right')"
      ],
      "execution_count": null,
      "outputs": [
        {
          "output_type": "execute_result",
          "data": {
            "text/plain": [
              "<matplotlib.legend.Legend at 0x7f04043baef0>"
            ]
          },
          "metadata": {
            "tags": []
          },
          "execution_count": 47
        },
        {
          "output_type": "display_data",
          "data": {
            "image/png": "[encoded data removed]",
            "text/plain": [
              "<Figure size 432x288 with 1 Axes>"
            ]
          },
          "metadata": {
            "tags": [],
            "needs_background": "light"
          }
        }
      ]
    },
    {
      "cell_type": "markdown",
      "metadata": {
        "id": "zanO18YH6mMj"
      },
      "source": [
        "# position Classification\n"
      ]
    },
    {
      "cell_type": "code",
      "metadata": {
        "id": "6iMb4ibQ64ZS"
      },
      "source": [
        "x_origin= np.array(x_origin).astype(np.int)\n",
        "y_origin= np.array(P).astype(np.int)"
      ],
      "execution_count": null,
      "outputs": []
    },
    {
      "cell_type": "code",
      "metadata": {
        "id": "aLK_wixe648c"
      },
      "source": [
        "x_reshape = x_origin.reshape(x_origin.shape[0],32,64,1)\n",
        "\n",
        "def filter(X):\n",
        "  result = ndimage.median_filter(X, size=(3,3,3,1))\n",
        "  return result\n",
        "x_filter = filter(x_reshape)"
      ],
      "execution_count": null,
      "outputs": []
    },
    {
      "cell_type": "code",
      "metadata": {
        "id": "QN8GtOm77ESG"
      },
      "source": [
        "x_filter_origin = x_filter.reshape((20024, 2048))"
      ],
      "execution_count": null,
      "outputs": []
    },
    {
      "cell_type": "code",
      "metadata": {
        "id": "YgKHuCV07G_7",
        "colab": {
          "base_uri": "https://localhost:8080/",
          "height": 119
        },
        "outputId": "ebd12551-0add-401d-9e91-6c6627443763"
      },
      "source": [
        "# train test val sets\n",
        "\n",
        "\n",
        "X_train, X_test, y_train, y_test = train_test_split(x_filter_origin,y_origin, test_size=0.2, random_state=42)\n",
        "X_train, X_val, y_train, y_val  = train_test_split(X_train, y_train, test_size=0.2, random_state=42)\n",
        "\n",
        "\n",
        "x_train=np.array(X_train).astype(np.int)\n",
        "x_valid=np.array(X_val).astype(np.int)\n",
        "x_test=np.array(X_test).astype(np.int)\n",
        "\n",
        "y_train=np.array(y_train).astype(np.int)\n",
        "y_valid=np.array(y_val).astype(np.int)\n",
        "y_test=np.array(y_test).astype(np.int)\n",
        "\n",
        "print (\"x_train shape: \" + str(x_train.shape))\n",
        "print (\"x_test shape: \" + str(x_test.shape))\n",
        "print(\"x_valid shape: \" + str(x_valid.shape))\n",
        "print (\"y_train shape: \" + str(y_train.shape))\n",
        "print (\"y_test shape: \" + str(y_test.shape))\n",
        "print(\"y_valid shape: \" + str(y_valid.shape))"
      ],
      "execution_count": null,
      "outputs": [
        {
          "output_type": "stream",
          "text": [
            "x_train shape: (12815, 2048)\n",
            "x_test shape: (4005, 2048)\n",
            "x_valid shape: (3204, 2048)\n",
            "y_train shape: (12815,)\n",
            "y_test shape: (4005,)\n",
            "y_valid shape: (3204,)\n"
          ],
          "name": "stdout"
        }
      ]
    },
    {
      "cell_type": "code",
      "metadata": {
        "id": "3vQdJsCE9FL8",
        "colab": {
          "base_uri": "https://localhost:8080/",
          "height": 68
        },
        "outputId": "97c7b762-e17f-4151-82e2-d27cc3c167a0"
      },
      "source": [
        "# Normalization of the input\n",
        "\n",
        "x_train_n = x_train/10000\n",
        "x_test_n = x_test/10000\n",
        "x_valid_n = x_valid/10000\n",
        "\n",
        "x_train_n1 = x_train_n.reshape(x_train_n.shape[0],32,64,1)\n",
        "x_test_n1 = x_test_n.reshape(x_test_n.shape[0],32,64,1)\n",
        "x_valid_n1 = x_valid_n.reshape(x_valid_n.shape[0],32,64,1)\n",
        "print(\"x_train_n1\",x_train_n1.shape)\n",
        "print(\"x_test_n1\",x_test_n1.shape)\n",
        "print(\"x_valid_n1\",x_valid_n1.shape)"
      ],
      "execution_count": null,
      "outputs": [
        {
          "output_type": "stream",
          "text": [
            "x_train_n1 (12815, 32, 64, 1)\n",
            "x_test_n1 (4005, 32, 64, 1)\n",
            "x_valid_n1 (3204, 32, 64, 1)\n"
          ],
          "name": "stdout"
        }
      ]
    },
    {
      "cell_type": "code",
      "metadata": {
        "id": "ZsiOybZ27JML",
        "colab": {
          "base_uri": "https://localhost:8080/",
          "height": 68
        },
        "outputId": "d2b06542-0a7c-45d1-f422-6557572d99bc"
      },
      "source": [
        "# one hot encoding for labels to then use cnn layers\n",
        "y_train_hot=np.eye(4)[y_train]\n",
        "print(y_train_hot.shape)\n",
        "y_test_hot=np.eye(4)[y_test]\n",
        "print(y_test_hot.shape)\n",
        "y_valid_hot=np.eye(4)[y_valid]\n",
        "print(y_valid_hot.shape)"
      ],
      "execution_count": null,
      "outputs": [
        {
          "output_type": "stream",
          "text": [
            "(12815, 4)\n",
            "(4005, 4)\n",
            "(3204, 4)\n"
          ],
          "name": "stdout"
        }
      ]
    },
    {
      "cell_type": "code",
      "metadata": {
        "id": "mSMTcpqa9S9V",
        "colab": {
          "base_uri": "https://localhost:8080/",
          "height": 141
        },
        "outputId": "e10a4e7c-8331-4972-e4d0-e7ff3ae4a79a"
      },
      "source": [
        "print(y_valid_hot)"
      ],
      "execution_count": null,
      "outputs": [
        {
          "output_type": "stream",
          "text": [
            "[[0. 1. 0. 0.]\n",
            " [0. 1. 0. 0.]\n",
            " [0. 1. 0. 0.]\n",
            " ...\n",
            " [0. 1. 0. 0.]\n",
            " [0. 1. 0. 0.]\n",
            " [0. 1. 0. 0.]]\n"
          ],
          "name": "stdout"
        }
      ]
    },
    {
      "cell_type": "code",
      "metadata": {
        "id": "zIyG96Iv-HAb",
        "colab": {
          "base_uri": "https://localhost:8080/",
          "height": 34
        },
        "outputId": "ebd3e79c-63eb-45d1-d839-9dd01f9b66ca"
      },
      "source": [
        "import keras\n",
        "# layers used\n",
        "from keras.models import Sequential,Input,Model\n",
        "from keras.layers import Dense, Dropout, Flatten\n",
        "from keras.layers import Conv2D, MaxPooling2D\n",
        "from keras.layers.normalization import BatchNormalization\n",
        "from keras.layers.advanced_activations import LeakyReLU\n",
        "from tensorflow.keras.optimizers import SGD\n",
        "from sklearn.model_selection import KFold"
      ],
      "execution_count": null,
      "outputs": [
        {
          "output_type": "stream",
          "text": [
            "Using TensorFlow backend.\n"
          ],
          "name": "stderr"
        }
      ]
    },
    {
      "cell_type": "code",
      "metadata": {
        "id": "gzwKMRiQ-Myj"
      },
      "source": [
        "# model architecture\n",
        "model = Sequential()\n",
        "\n",
        "model.add(Conv2D(filters=32, kernel_size=(3,3),strides=(1, 1),input_shape=(32,64,1))) # convolutional, activation layer\n",
        "model.add(BatchNormalization())\n",
        "model.add(MaxPooling2D(pool_size=(2,2)))\n",
        "model.add(LeakyReLU(alpha=0.2))\n",
        "\n",
        "\n",
        "model.add(Conv2D(filters=64, kernel_size=(3,3),strides=(1, 1))) # convolutional, activation layer\n",
        "model.add(BatchNormalization())\n",
        "model.add(MaxPooling2D(pool_size=(2,2)))\n",
        "model.add(LeakyReLU(alpha=0.2))\n",
        "\n",
        "model.add(Conv2D(filters=128, kernel_size=(3,3),strides=(1, 1))) # convolutional, activation layer\n",
        "model.add(BatchNormalization())\n",
        "model.add(LeakyReLU(alpha=0.2))\n",
        "\n",
        "model.add(Conv2D(filters=256, kernel_size=(3,3),strides=(1, 1))) # convolutional, activation layer\n",
        "model.add(BatchNormalization())\n",
        "model.add(LeakyReLU(alpha=0.2))\n",
        "# pooling layer\n",
        "\n",
        "model.add(Flatten())\n",
        "model.add(Dense(units=256))\n",
        "model.add(Dropout(0.5))\n",
        "model.add(Dense(units=4, activation='softmax'))"
      ],
      "execution_count": null,
      "outputs": []
    },
    {
      "cell_type": "code",
      "metadata": {
        "id": "MpkBJZiX-ZSH"
      },
      "source": [
        "opt = keras.optimizers.Adam(learning_rate=0.00002)\n",
        "model.compile(optimizer=opt,loss='categorical_crossentropy',metrics=['accuracy'])"
      ],
      "execution_count": null,
      "outputs": []
    },
    {
      "cell_type": "code",
      "metadata": {
        "id": "GsL4fBVc-kyq",
        "colab": {
          "base_uri": "https://localhost:8080/",
          "height": 734
        },
        "outputId": "0ae7d9e6-3631-43ca-db0a-7cff28331c3f"
      },
      "source": [
        "# fitting the model drop out =0.5\n",
        "history_p = model.fit(x_train_n1, y_train_hot_sub, epochs=20, validation_data=(x_valid_n1, y_valid_hot_sub),verbose=1)"
      ],
      "execution_count": null,
      "outputs": [
        {
          "output_type": "stream",
          "text": [
            "Train on 12003 samples, validate on 3001 samples\n",
            "Epoch 1/20\n",
            "12003/12003 [==============================] - 73s 6ms/step - loss: 1.2069 - accuracy: 0.6598 - val_loss: 3.5232 - val_accuracy: 0.0613\n",
            "Epoch 2/20\n",
            "12003/12003 [==============================] - 72s 6ms/step - loss: 0.2218 - accuracy: 0.9711 - val_loss: 0.2838 - val_accuracy: 0.9700\n",
            "Epoch 3/20\n",
            "12003/12003 [==============================] - 72s 6ms/step - loss: 0.0947 - accuracy: 0.9903 - val_loss: 0.0587 - val_accuracy: 0.9913\n",
            "Epoch 4/20\n",
            "12003/12003 [==============================] - 72s 6ms/step - loss: 0.0586 - accuracy: 0.9930 - val_loss: 0.0410 - val_accuracy: 0.9930\n",
            "Epoch 5/20\n",
            "12003/12003 [==============================] - 73s 6ms/step - loss: 0.0389 - accuracy: 0.9944 - val_loss: 0.0305 - val_accuracy: 0.9933\n",
            "Epoch 6/20\n",
            "12003/12003 [==============================] - 72s 6ms/step - loss: 0.0261 - accuracy: 0.9967 - val_loss: 0.0271 - val_accuracy: 0.9937\n",
            "Epoch 7/20\n",
            "12003/12003 [==============================] - 73s 6ms/step - loss: 0.0210 - accuracy: 0.9969 - val_loss: 0.0248 - val_accuracy: 0.9950\n",
            "Epoch 8/20\n",
            "12003/12003 [==============================] - 76s 6ms/step - loss: 0.0148 - accuracy: 0.9983 - val_loss: 0.0197 - val_accuracy: 0.9953\n",
            "Epoch 9/20\n",
            "12003/12003 [==============================] - 73s 6ms/step - loss: 0.0126 - accuracy: 0.9989 - val_loss: 0.0183 - val_accuracy: 0.9963\n",
            "Epoch 10/20\n",
            "12003/12003 [==============================] - 72s 6ms/step - loss: 0.0085 - accuracy: 0.9990 - val_loss: 0.0180 - val_accuracy: 0.9960\n",
            "Epoch 11/20\n",
            "12003/12003 [==============================] - 72s 6ms/step - loss: 0.0067 - accuracy: 0.9995 - val_loss: 0.0168 - val_accuracy: 0.9957\n",
            "Epoch 12/20\n",
            "12003/12003 [==============================] - 73s 6ms/step - loss: 0.0058 - accuracy: 0.9993 - val_loss: 0.0156 - val_accuracy: 0.9967\n",
            "Epoch 13/20\n",
            "12003/12003 [==============================] - 72s 6ms/step - loss: 0.0041 - accuracy: 0.9996 - val_loss: 0.0151 - val_accuracy: 0.9960\n",
            "Epoch 14/20\n",
            "12003/12003 [==============================] - 72s 6ms/step - loss: 0.0027 - accuracy: 0.9999 - val_loss: 0.0149 - val_accuracy: 0.9960\n",
            "Epoch 15/20\n",
            "12003/12003 [==============================] - 72s 6ms/step - loss: 0.0034 - accuracy: 0.9995 - val_loss: 0.0165 - val_accuracy: 0.9953\n",
            "Epoch 16/20\n",
            "12003/12003 [==============================] - 75s 6ms/step - loss: 0.0022 - accuracy: 1.0000 - val_loss: 0.0142 - val_accuracy: 0.9967\n",
            "Epoch 17/20\n",
            "12003/12003 [==============================] - 72s 6ms/step - loss: 0.0026 - accuracy: 0.9997 - val_loss: 0.0145 - val_accuracy: 0.9967\n",
            "Epoch 18/20\n",
            "12003/12003 [==============================] - 72s 6ms/step - loss: 0.0016 - accuracy: 0.9999 - val_loss: 0.0135 - val_accuracy: 0.9970\n",
            "Epoch 19/20\n",
            "12003/12003 [==============================] - 72s 6ms/step - loss: 0.0012 - accuracy: 0.9999 - val_loss: 0.0161 - val_accuracy: 0.9960\n",
            "Epoch 20/20\n",
            "12003/12003 [==============================] - 72s 6ms/step - loss: 0.0018 - accuracy: 0.9997 - val_loss: 0.0143 - val_accuracy: 0.9963\n"
          ],
          "name": "stdout"
        }
      ]
    },
    {
      "cell_type": "code",
      "metadata": {
        "id": "92InoRcABvx8",
        "colab": {
          "base_uri": "https://localhost:8080/",
          "height": 51
        },
        "outputId": "de9f35a9-c642-4ee6-bd17-92f9aba50133"
      },
      "source": [
        "# evaluating the performance on validation set\n",
        "score = model.evaluate(x_valid_n1, y_valid_hot_sub, verbose=0)\n",
        "print('Test loss:', score[0])\n",
        "print('Test accuracy:', score[1])"
      ],
      "execution_count": null,
      "outputs": [
        {
          "output_type": "stream",
          "text": [
            "Test loss: 0.014347058665598158\n",
            "Test accuracy: 0.9963345527648926\n"
          ],
          "name": "stdout"
        }
      ]
    },
    {
      "cell_type": "code",
      "metadata": {
        "id": "57sV0fcBBj3d",
        "colab": {
          "base_uri": "https://localhost:8080/",
          "height": 300
        },
        "outputId": "f3503d63-7931-42e7-b834-0c7dd4d2a388"
      },
      "source": [
        "plt.plot(history_p.history['accuracy'], label='accuracy')\n",
        "plt.plot(history_p.history['val_accuracy'], label = 'val_accuracy')\n",
        "plt.xlabel('Epoch')\n",
        "plt.ylabel('Accuracy')\n",
        "plt.ylim([0, 1])\n",
        "plt.legend(loc='lower right')"
      ],
      "execution_count": null,
      "outputs": [
        {
          "output_type": "execute_result",
          "data": {
            "text/plain": [
              "<matplotlib.legend.Legend at 0x7fda58ecc550>"
            ]
          },
          "metadata": {
            "tags": []
          },
          "execution_count": 25
        },
        {
          "output_type": "display_data",
          "data": {
            "image/png": "[encoded data removed]",
            "text/plain": [
              "<Figure size 432x288 with 1 Axes>"
            ]
          },
          "metadata": {
            "tags": [],
            "needs_background": "light"
          }
        }
      ]
    },
    {
      "cell_type": "code",
      "metadata": {
        "id": "Tih_1ysLBnW3",
        "colab": {
          "base_uri": "https://localhost:8080/",
          "height": 300
        },
        "outputId": "ce7e25b1-7669-4661-8707-d5c68ca99e4e"
      },
      "source": [
        "plt.plot(history_p.history['loss'], label='loss')\n",
        "plt.plot(history_p.history['val_loss'], label = 'val_loss')\n",
        "plt.xlabel('Epoch')\n",
        "plt.ylabel('Loss')\n",
        "plt.ylim([0, 1])\n",
        "plt.legend(loc='upper right')"
      ],
      "execution_count": null,
      "outputs": [
        {
          "output_type": "execute_result",
          "data": {
            "text/plain": [
              "<matplotlib.legend.Legend at 0x7fda58e473c8>"
            ]
          },
          "metadata": {
            "tags": []
          },
          "execution_count": 26
        },
        {
          "output_type": "display_data",
          "data": {
            "image/png": "[encoded data removed]",
            "text/plain": [
              "<Figure size 432x288 with 1 Axes>"
            ]
          },
          "metadata": {
            "tags": [],
            "needs_background": "light"
          }
        }
      ]
    },
    {
      "cell_type": "code",
      "metadata": {
        "id": "jFQ-_WriCpgc",
        "colab": {
          "base_uri": "https://localhost:8080/",
          "height": 34
        },
        "outputId": "fa6f00d7-e1f3-4ad8-8549-34e71a058f2b"
      },
      "source": [
        "ynew = model.predict_classes(x_test_n1)\n",
        "ynew"
      ],
      "execution_count": null,
      "outputs": [
        {
          "output_type": "execute_result",
          "data": {
            "text/plain": [
              "array([1, 3, 1, ..., 1, 1, 1])"
            ]
          },
          "metadata": {
            "tags": []
          },
          "execution_count": 27
        }
      ]
    },
    {
      "cell_type": "code",
      "metadata": {
        "id": "51LapyYACx46",
        "colab": {
          "base_uri": "https://localhost:8080/",
          "height": 34
        },
        "outputId": "3e146d85-7897-474e-ab9b-dbb7be534b15"
      },
      "source": [
        "# calculate accuracy on test set\n",
        "from sklearn import metrics\n",
        "print(metrics.accuracy_score(y_test, ynew))"
      ],
      "execution_count": null,
      "outputs": [
        {
          "output_type": "stream",
          "text": [
            "0.9930087390761548\n"
          ],
          "name": "stdout"
        }
      ]
    },
    {
      "cell_type": "code",
      "metadata": {
        "id": "KMW5RUyzDWcd",
        "colab": {
          "base_uri": "https://localhost:8080/",
          "height": 136
        },
        "outputId": "def9acf6-e779-419c-8459-9d2739ad82aa"
      },
      "source": [
        "# cnn report and analysis\n",
        "from sklearn.metrics import plot_confusion_matrix \n",
        "cnn_mod1 = metrics.f1_score(y_test, ynew, average= \"weighted\")\n",
        "cnn_mod = metrics.confusion_matrix(y_test, ynew)\n",
        "print(\"cnn\")\n",
        "print(\"F1 score: {}\".format(cnn_mod1))\n",
        "print(\"Confusion matrix: \\n\", cnn_mod)\n",
        "print('Plotting confusion matrix')"
      ],
      "execution_count": null,
      "outputs": [
        {
          "output_type": "stream",
          "text": [
            "cnn\n",
            "F1 score: 0.9929984463626547\n",
            "Confusion matrix: \n",
            " [[2111    0    2]\n",
            " [   7  925    3]\n",
            " [   6   10  941]]\n",
            "Plotting confusion matrix\n"
          ],
          "name": "stdout"
        }
      ]
    },
    {
      "cell_type": "code",
      "metadata": {
        "id": "fgejOmgIpVfI",
        "colab": {
          "base_uri": "https://localhost:8080/",
          "height": 1000
        },
        "outputId": "36750623-3cfc-4daf-943b-f6998ea72e81"
      },
      "source": [
        "\n",
        "y_origin= np.array(P).astype(np.int)\n",
        "scores = []\n",
        "cv = KFold(n_splits=10, random_state=42, shuffle=False)\n",
        "y_origin_hot = np.eye(4)[y_origin]\n",
        "for train_index, test_index in cv.split(x_filter):\n",
        "    print(\"Train Index: \", train_index, \"\\n\")\n",
        "    print(\"Test Index: \", test_index)\n",
        "\n",
        "    #score = model.evaluate(input_test, target_test, verbose=0)\n",
        "    X_train, X_test, y_train, y_test = x_filter[train_index], x_filter[test_index], y_origin_hot[train_index],y_origin_hot[test_index]\n",
        "    model.fit(X_train, y_train)\n",
        "    scores.append(model.evaluate(X_test, y_test))"
      ],
      "execution_count": null,
      "outputs": [
        {
          "output_type": "stream",
          "text": [
            "/usr/local/lib/python3.6/dist-packages/sklearn/model_selection/_split.py:296: FutureWarning: Setting a random_state has no effect since shuffle is False. This will raise an error in 0.24. You should leave random_state to its default (None), or set shuffle=True.\n",
            "  FutureWarning\n"
          ],
          "name": "stderr"
        },
        {
          "output_type": "stream",
          "text": [
            "Train Index:  [ 2003  2004  2005 ... 20021 20022 20023] \n",
            "\n",
            "Test Index:  [   0    1    2 ... 2000 2001 2002]\n",
            "Epoch 1/1\n",
            "18021/18021 [==============================] - 103s 6ms/step - loss: 0.0302 - accuracy: 0.9942\n",
            "2003/2003 [==============================] - 3s 2ms/step\n",
            "Train Index:  [    0     1     2 ... 20021 20022 20023] \n",
            "\n",
            "Test Index:  [2003 2004 2005 ... 4003 4004 4005]\n",
            "Epoch 1/1\n",
            "18021/18021 [==============================] - 101s 6ms/step - loss: 0.0122 - accuracy: 0.9971\n",
            "2003/2003 [==============================] - 3s 2ms/step\n",
            "Train Index:  [    0     1     2 ... 20021 20022 20023] \n",
            "\n",
            "Test Index:  [4006 4007 4008 ... 6006 6007 6008]\n",
            "Epoch 1/1\n",
            "18021/18021 [==============================] - 102s 6ms/step - loss: 0.0085 - accuracy: 0.9978\n",
            "2003/2003 [==============================] - 3s 2ms/step\n",
            "Train Index:  [    0     1     2 ... 20021 20022 20023] \n",
            "\n",
            "Test Index:  [6009 6010 6011 ... 8009 8010 8011]\n",
            "Epoch 1/1\n",
            "18021/18021 [==============================] - 102s 6ms/step - loss: 0.0050 - accuracy: 0.9986\n",
            "2003/2003 [==============================] - 3s 2ms/step\n",
            "Train Index:  [    0     1     2 ... 20021 20022 20023] \n",
            "\n",
            "Test Index:  [ 8012  8013  8014 ... 10011 10012 10013]\n",
            "Epoch 1/1\n",
            "18022/18022 [==============================] - 101s 6ms/step - loss: 0.0040 - accuracy: 0.9987\n",
            "2002/2002 [==============================] - 3s 2ms/step\n",
            "Train Index:  [    0     1     2 ... 20021 20022 20023] \n",
            "\n",
            "Test Index:  [10014 10015 10016 ... 12013 12014 12015]\n",
            "Epoch 1/1\n",
            "18022/18022 [==============================] - 101s 6ms/step - loss: 0.0025 - accuracy: 0.9992\n",
            "2002/2002 [==============================] - 5s 2ms/step\n",
            "Train Index:  [    0     1     2 ... 20021 20022 20023] \n",
            "\n",
            "Test Index:  [12016 12017 12018 ... 14015 14016 14017]\n",
            "Epoch 1/1\n",
            "18022/18022 [==============================] - 103s 6ms/step - loss: 0.0043 - accuracy: 0.9986\n",
            "2002/2002 [==============================] - 3s 2ms/step\n",
            "Train Index:  [    0     1     2 ... 20021 20022 20023] \n",
            "\n",
            "Test Index:  [14018 14019 14020 ... 16017 16018 16019]\n",
            "Epoch 1/1\n",
            "18022/18022 [==============================] - 101s 6ms/step - loss: 0.0018 - accuracy: 0.9995\n",
            "2002/2002 [==============================] - 3s 2ms/step\n",
            "Train Index:  [    0     1     2 ... 20021 20022 20023] \n",
            "\n",
            "Test Index:  [16020 16021 16022 ... 18019 18020 18021]\n",
            "Epoch 1/1\n",
            "18022/18022 [==============================] - 101s 6ms/step - loss: 0.0012 - accuracy: 0.9998\n",
            "2002/2002 [==============================] - 3s 2ms/step\n",
            "Train Index:  [    0     1     2 ... 18019 18020 18021] \n",
            "\n",
            "Test Index:  [18022 18023 18024 ... 20021 20022 20023]\n",
            "Epoch 1/1\n",
            "18022/18022 [==============================] - 101s 6ms/step - loss: 4.2619e-04 - accuracy: 1.0000\n",
            "2002/2002 [==============================] - 3s 2ms/step\n"
          ],
          "name": "stdout"
        }
      ]
    },
    {
      "cell_type": "code",
      "metadata": {
        "id": "tH0Tccfdun-4",
        "colab": {
          "base_uri": "https://localhost:8080/",
          "height": 34
        },
        "outputId": "6a8a7ce3-472f-4561-9479-02cee043cf90"
      },
      "source": [
        "sc = []\n",
        "for i in scores:\n",
        "  sc.append(i[1])\n",
        "sc = np.array(sc)\n",
        "print(np.average(sc))"
      ],
      "execution_count": null,
      "outputs": [
        {
          "output_type": "stream",
          "text": [
            "0.9987018585205079\n"
          ],
          "name": "stdout"
        }
      ]
    },
    {
      "cell_type": "markdown",
      "metadata": {
        "id": "6AS8ty2rVnj8"
      },
      "source": [
        "# Subject + Posture"
      ]
    },
    {
      "cell_type": "code",
      "metadata": {
        "id": "lGS1CV3eVrZm"
      },
      "source": [
        "x_origin = np.array(Fr).astype(np.int)\n",
        "y_subject = np.array(S).astype(np.int)\n",
        "y_position = np.array(P).astype(np.int)\n",
        "\n",
        "\n",
        "x_reshape = x_origin.reshape(x_origin.shape[0],32,64,1)\n",
        "\n",
        "def filter(X):\n",
        "  result = ndimage.median_filter(X, size=(3,3,3,1))\n",
        "  return result\n",
        "\n",
        "x_filter = filter(x_reshape)\n",
        "\n"
      ],
      "execution_count": null,
      "outputs": []
    },
    {
      "cell_type": "code",
      "metadata": {
        "id": "1SnimuUKZlDh",
        "colab": {
          "base_uri": "https://localhost:8080/",
          "height": 34
        },
        "outputId": "88d14560-8431-4529-9bd5-aa0cd3caa577"
      },
      "source": [
        "print(x_filter.shape)"
      ],
      "execution_count": null,
      "outputs": [
        {
          "output_type": "stream",
          "text": [
            "(20024, 32, 64, 1)\n"
          ],
          "name": "stdout"
        }
      ]
    },
    {
      "cell_type": "code",
      "metadata": {
        "id": "i6i_P7qvZwPL"
      },
      "source": [
        "x_filter_origin = x_filter.reshape((20024, 2048))\n",
        "#Devo capire per ogni frame quanti valori sono diversi da zero\n",
        "delete = []\n",
        "for i in range(20024):\n",
        "  num =0 \n",
        "  for j in range(2048):\n",
        "    if (x_filter_origin[i][j]!=0): \n",
        "      num = num+1\n",
        "  if(num < 500):\n",
        "    delete.append(i)\n",
        "\n",
        "for i in delete:\n",
        "    x_filter_origin= np.delete(x_filter_origin,i,axis = 0)\n",
        "    y_subject = np.delete(y_subject,i,axis = 0)\n",
        "    y_position = np.delete(y_position,i,axis = 0)\n"
      ],
      "execution_count": null,
      "outputs": []
    },
    {
      "cell_type": "code",
      "metadata": {
        "id": "tI-vF3SFbHtY"
      },
      "source": [
        "X_train, X_test, y_train_sub, y_test_sub, y_train_pos, y_test_pos  = train_test_split(x_filter_origin,y_subject,y_position, random_state=42)\n",
        "\n",
        "X_train, X_val, y_train_sub, y_val_sub, y_train_pos, y_val_pos = train_test_split(X_train, y_train_sub, y_train_pos,test_size=0.2, random_state=42)"
      ],
      "execution_count": null,
      "outputs": []
    },
    {
      "cell_type": "code",
      "metadata": {
        "id": "3lqYfH_MZX8m",
        "colab": {
          "base_uri": "https://localhost:8080/",
          "height": 170
        },
        "outputId": "131e017f-4b6f-4931-d5f6-91da55f9c52c"
      },
      "source": [
        "\n",
        "\n",
        "x_train=np.array(X_train).astype(np.int)\n",
        "x_valid=np.array(X_val).astype(np.int)\n",
        "x_test=np.array(X_test).astype(np.int)\n",
        "\n",
        "y_train_sub = np.array(y_train_sub).astype(np.int)\n",
        "y_valid_sub = np.array(y_val_sub).astype(np.int)\n",
        "y_test_sub = np.array(y_test_sub).astype(np.int)\n",
        "\n",
        "y_train_pos = np.array(y_train_pos).astype(np.int)\n",
        "y_valid_pos = np.array(y_val_pos).astype(np.int)\n",
        "y_test_pos = np.array(y_test_pos).astype(np.int)\n",
        "\n",
        "print (\"x_train shape: \" + str(x_train.shape))\n",
        "print (\"x_test shape: \" + str(x_test.shape))\n",
        "print(\"x_valid shape: \" + str(x_valid.shape))\n",
        "\n",
        "print (\"y_train_sub shape: \" + str(y_train_sub.shape))\n",
        "print (\"y_test_sub shape: \" + str(y_test_sub.shape))\n",
        "print(\"y_valid _subshape: \" + str(y_valid_sub.shape))\n",
        "\n",
        "print (\"y_train_pos shape: \" + str(y_train_pos.shape))\n",
        "print (\"y_test_pos shape: \" + str(y_test_pos.shape))\n",
        "print(\"y_valid _pos shape: \" + str(y_valid_pos.shape))"
      ],
      "execution_count": null,
      "outputs": [
        {
          "output_type": "stream",
          "text": [
            "x_train shape: (12003, 2048)\n",
            "x_test shape: (5002, 2048)\n",
            "x_valid shape: (3001, 2048)\n",
            "y_train_sub shape: (12003,)\n",
            "y_test_sub shape: (5002,)\n",
            "y_valid _subshape: (3001,)\n",
            "y_train_pos shape: (12003,)\n",
            "y_test_pos shape: (5002,)\n",
            "y_valid _pos shape: (3001,)\n"
          ],
          "name": "stdout"
        }
      ]
    },
    {
      "cell_type": "code",
      "metadata": {
        "id": "s-fJcfKdcAGD"
      },
      "source": [
        "# Normalization of the input\n",
        "\n",
        "x_train_n = x_train/10000\n",
        "x_test_n = x_test/10000\n",
        "x_valid_n = x_valid/10000\n"
      ],
      "execution_count": null,
      "outputs": []
    },
    {
      "cell_type": "code",
      "metadata": {
        "id": "26YqrYuscC-v",
        "colab": {
          "base_uri": "https://localhost:8080/",
          "height": 68
        },
        "outputId": "176b9727-3db6-480e-889a-b355dc189359"
      },
      "source": [
        "x_train_n1 = x_train_n.reshape(x_train_n.shape[0],32,64,1)\n",
        "x_test_n1 = x_test_n.reshape(x_test_n.shape[0],32,64,1)\n",
        "x_valid_n1 = x_valid_n.reshape(x_valid_n.shape[0],32,64,1)\n",
        "print(\"x_train_n1\",x_train_n1.shape)\n",
        "print(\"x_test_n1\",x_test_n1.shape)\n",
        "print(\"x_valid_n1\",x_valid_n1.shape)"
      ],
      "execution_count": null,
      "outputs": [
        {
          "output_type": "stream",
          "text": [
            "x_train_n1 (12003, 32, 64, 1)\n",
            "x_test_n1 (5002, 32, 64, 1)\n",
            "x_valid_n1 (3001, 32, 64, 1)\n"
          ],
          "name": "stdout"
        }
      ]
    },
    {
      "cell_type": "code",
      "metadata": {
        "id": "6I7wBQoCcIcy",
        "colab": {
          "base_uri": "https://localhost:8080/",
          "height": 119
        },
        "outputId": "2ca6a2b7-6e62-4592-ad45-9b02aebbcd13"
      },
      "source": [
        "# one hot encoding for labels to then use cnn layers\n",
        "y_train_hot_sub=np.eye(14)[y_train_sub]\n",
        "print(y_train_hot_sub.shape)\n",
        "y_test_hot_sub=np.eye(14)[y_test_sub]\n",
        "print(y_test_hot_sub.shape)\n",
        "y_valid_hot_sub=np.eye(14)[y_valid_sub]\n",
        "print(y_valid_hot_sub.shape)\n",
        "\n",
        "\n",
        "y_train_hot_pos=np.eye(4)[y_train_pos]\n",
        "print(y_train_hot_pos.shape)\n",
        "y_test_hot_pos=np.eye(4)[y_test_pos]\n",
        "print(y_test_hot_pos.shape)\n",
        "y_valid_hot_pos=np.eye(4)[y_valid_pos]\n",
        "print(y_valid_hot_pos.shape)"
      ],
      "execution_count": null,
      "outputs": [
        {
          "output_type": "stream",
          "text": [
            "(12003, 14)\n",
            "(5002, 14)\n",
            "(3001, 14)\n",
            "(12003, 4)\n",
            "(5002, 4)\n",
            "(3001, 4)\n"
          ],
          "name": "stdout"
        }
      ]
    },
    {
      "cell_type": "code",
      "metadata": {
        "id": "73rZkzBKc1_c"
      },
      "source": [
        "import keras\n",
        "# layers used\n",
        "from keras.models import Sequential,Input,Model\n",
        "from keras.layers import Dense, Dropout, Flatten\n",
        "from keras.layers import Conv2D, MaxPooling2D\n",
        "from keras.layers.normalization import BatchNormalization\n",
        "from keras.layers.advanced_activations import LeakyReLU\n",
        "from tensorflow.keras.optimizers import SGD\n",
        "from sklearn.model_selection import KFold"
      ],
      "execution_count": null,
      "outputs": []
    },
    {
      "cell_type": "code",
      "metadata": {
        "id": "vZSoOLJDdUSF"
      },
      "source": [
        "\n",
        "x_input = Input(shape=(32,64,1))\n",
        "x = Conv2D(32, kernel_size=(3,3),strides = 1, padding='same')(x_input)\n",
        "x = BatchNormalization()(x)\n",
        "x = MaxPooling2D(pool_size=(2, 2))(x)\n",
        "x= LeakyReLU(alpha=0.2)(x)\n",
        "\n",
        "x = Conv2D(64, kernel_size=(3,3),strides = 1, padding='same')(x)\n",
        "x = BatchNormalization()(x)\n",
        "x = MaxPooling2D(pool_size=(2, 2))(x)\n",
        "x= LeakyReLU(alpha=0.2)(x)\n",
        "\n",
        "\n",
        "x = Conv2D(128, kernel_size=(3,3),strides = 1, padding='same')(x)\n",
        "x = BatchNormalization()(x)\n",
        "x = LeakyReLU(alpha=0.2)(x)\n",
        "\n",
        "x = Conv2D(256, kernel_size=(3,3),strides = 1, padding='same')(x)\n",
        "x = BatchNormalization()(x)\n",
        "x = LeakyReLU(alpha=0.2)(x)\n",
        "\n",
        "x = Flatten()(x)\n",
        "x = Dense(units=256)(x)\n",
        "x= Dropout(0.5)(x)\n",
        "\n",
        "x = Dense(units=256)(x)\n",
        "x= Dropout(0.5)(x)\n",
        "\n",
        "output1 = Dense(units=14, activation='softmax', name = 'subject')(x)\n",
        "output2 = Dense(units=4, activation='softmax', name = 'position')(x)\n",
        "\n",
        "model= Model(inputs=x_input,outputs=[output1,output2])"
      ],
      "execution_count": null,
      "outputs": []
    },
    {
      "cell_type": "code",
      "metadata": {
        "id": "wQ4GnachkWTv"
      },
      "source": [
        "opt = keras.optimizers.Adam(learning_rate=0.00002)\n",
        "model.compile(optimizer=opt,loss='categorical_crossentropy',metrics=['accuracy'])"
      ],
      "execution_count": null,
      "outputs": []
    },
    {
      "cell_type": "code",
      "metadata": {
        "id": "qsVGLApXkaj5",
        "colab": {
          "base_uri": "https://localhost:8080/",
          "height": 734
        },
        "outputId": "3d1f1b5d-a29d-4b79-f0d9-3a40a52d8b2c"
      },
      "source": [
        "# fitting the model drop out =0.5\n",
        "history_p = model.fit(x_train_n1, [y_train_hot_sub,y_train_hot_pos], epochs=3, validation_data=(x_valid_n1, [y_valid_hot_sub,y_valid_hot_pos]),verbose=1)"
      ],
      "execution_count": null,
      "outputs": [
        {
          "output_type": "stream",
          "text": [
            "Train on 12003 samples, validate on 3001 samples\n",
            "Epoch 1/20\n",
            "12003/12003 [==============================] - 186s 15ms/step - loss: 1.5140 - subject_loss: 1.3007 - position_loss: 0.2107 - subject_accuracy: 0.6439 - position_accuracy: 0.9423 - val_loss: 5.2173 - val_subject_loss: 3.7593 - val_position_loss: 1.4581 - val_subject_accuracy: 0.1116 - val_position_accuracy: 0.4508\n",
            "Epoch 2/20\n",
            "12003/12003 [==============================] - 185s 15ms/step - loss: 0.3216 - subject_loss: 0.2392 - position_loss: 0.0816 - subject_accuracy: 0.9374 - position_accuracy: 0.9823 - val_loss: 0.1480 - val_subject_loss: 0.1129 - val_position_loss: 0.0349 - val_subject_accuracy: 0.9877 - val_position_accuracy: 0.9947\n",
            "Epoch 3/20\n",
            "12003/12003 [==============================] - 185s 15ms/step - loss: 0.1925 - subject_loss: 0.1263 - position_loss: 0.0658 - subject_accuracy: 0.9701 - position_accuracy: 0.9859 - val_loss: 0.0569 - val_subject_loss: 0.0293 - val_position_loss: 0.0275 - val_subject_accuracy: 0.9947 - val_position_accuracy: 0.9960\n",
            "Epoch 4/20\n",
            "12003/12003 [==============================] - 186s 16ms/step - loss: 0.1427 - subject_loss: 0.0851 - position_loss: 0.0572 - subject_accuracy: 0.9780 - position_accuracy: 0.9881 - val_loss: 0.0477 - val_subject_loss: 0.0212 - val_position_loss: 0.0264 - val_subject_accuracy: 0.9950 - val_position_accuracy: 0.9953\n",
            "Epoch 5/20\n",
            "12003/12003 [==============================] - 186s 15ms/step - loss: 0.1221 - subject_loss: 0.0636 - position_loss: 0.0583 - subject_accuracy: 0.9832 - position_accuracy: 0.9890 - val_loss: 0.0525 - val_subject_loss: 0.0225 - val_position_loss: 0.0299 - val_subject_accuracy: 0.9953 - val_position_accuracy: 0.9957\n",
            "Epoch 6/20\n",
            "12003/12003 [==============================] - 184s 15ms/step - loss: 0.1091 - subject_loss: 0.0572 - position_loss: 0.0517 - subject_accuracy: 0.9844 - position_accuracy: 0.9901 - val_loss: 0.0485 - val_subject_loss: 0.0187 - val_position_loss: 0.0297 - val_subject_accuracy: 0.9967 - val_position_accuracy: 0.9960\n",
            "Epoch 7/20\n",
            "12003/12003 [==============================] - 186s 15ms/step - loss: 0.0942 - subject_loss: 0.0462 - position_loss: 0.0478 - subject_accuracy: 0.9883 - position_accuracy: 0.9910 - val_loss: 0.0528 - val_subject_loss: 0.0249 - val_position_loss: 0.0278 - val_subject_accuracy: 0.9950 - val_position_accuracy: 0.9963\n",
            "Epoch 8/20\n",
            "12003/12003 [==============================] - 184s 15ms/step - loss: 0.0940 - subject_loss: 0.0493 - position_loss: 0.0447 - subject_accuracy: 0.9872 - position_accuracy: 0.9903 - val_loss: 0.0596 - val_subject_loss: 0.0251 - val_position_loss: 0.0343 - val_subject_accuracy: 0.9953 - val_position_accuracy: 0.9960\n",
            "Epoch 9/20\n",
            "12003/12003 [==============================] - 187s 16ms/step - loss: 0.0828 - subject_loss: 0.0417 - position_loss: 0.0410 - subject_accuracy: 0.9886 - position_accuracy: 0.9918 - val_loss: 0.0624 - val_subject_loss: 0.0238 - val_position_loss: 0.0384 - val_subject_accuracy: 0.9953 - val_position_accuracy: 0.9960\n",
            "Epoch 10/20\n",
            "12003/12003 [==============================] - 188s 16ms/step - loss: 0.0899 - subject_loss: 0.0436 - position_loss: 0.0461 - subject_accuracy: 0.9888 - position_accuracy: 0.9917 - val_loss: 0.0515 - val_subject_loss: 0.0203 - val_position_loss: 0.0310 - val_subject_accuracy: 0.9967 - val_position_accuracy: 0.9963\n",
            "Epoch 11/20\n",
            "12003/12003 [==============================] - 187s 16ms/step - loss: 0.0617 - subject_loss: 0.0309 - position_loss: 0.0307 - subject_accuracy: 0.9926 - position_accuracy: 0.9934 - val_loss: 0.0509 - val_subject_loss: 0.0170 - val_position_loss: 0.0339 - val_subject_accuracy: 0.9960 - val_position_accuracy: 0.9963\n",
            "Epoch 12/20\n",
            "12003/12003 [==============================] - 188s 16ms/step - loss: 0.0626 - subject_loss: 0.0301 - position_loss: 0.0323 - subject_accuracy: 0.9917 - position_accuracy: 0.9933 - val_loss: 0.0614 - val_subject_loss: 0.0239 - val_position_loss: 0.0374 - val_subject_accuracy: 0.9960 - val_position_accuracy: 0.9960\n",
            "Epoch 13/20\n",
            "12003/12003 [==============================] - 186s 16ms/step - loss: 0.0563 - subject_loss: 0.0280 - position_loss: 0.0282 - subject_accuracy: 0.9921 - position_accuracy: 0.9938 - val_loss: 0.0593 - val_subject_loss: 0.0225 - val_position_loss: 0.0366 - val_subject_accuracy: 0.9963 - val_position_accuracy: 0.9960\n",
            "Epoch 14/20\n",
            "12003/12003 [==============================] - 188s 16ms/step - loss: 0.0477 - subject_loss: 0.0210 - position_loss: 0.0266 - subject_accuracy: 0.9938 - position_accuracy: 0.9941 - val_loss: 0.0600 - val_subject_loss: 0.0183 - val_position_loss: 0.0415 - val_subject_accuracy: 0.9970 - val_position_accuracy: 0.9950\n",
            "Epoch 15/20\n",
            "12003/12003 [==============================] - 188s 16ms/step - loss: 0.0446 - subject_loss: 0.0207 - position_loss: 0.0239 - subject_accuracy: 0.9955 - position_accuracy: 0.9949 - val_loss: 0.0686 - val_subject_loss: 0.0200 - val_position_loss: 0.0484 - val_subject_accuracy: 0.9973 - val_position_accuracy: 0.9943\n",
            "Epoch 16/20\n",
            "12003/12003 [==============================] - 187s 16ms/step - loss: 0.0418 - subject_loss: 0.0254 - position_loss: 0.0167 - subject_accuracy: 0.9929 - position_accuracy: 0.9960 - val_loss: 0.0666 - val_subject_loss: 0.0203 - val_position_loss: 0.0462 - val_subject_accuracy: 0.9973 - val_position_accuracy: 0.9947\n",
            "Epoch 17/20\n",
            "12003/12003 [==============================] - 188s 16ms/step - loss: 0.0377 - subject_loss: 0.0185 - position_loss: 0.0191 - subject_accuracy: 0.9953 - position_accuracy: 0.9950 - val_loss: 0.0628 - val_subject_loss: 0.0215 - val_position_loss: 0.0412 - val_subject_accuracy: 0.9963 - val_position_accuracy: 0.9960\n",
            "Epoch 18/20\n",
            "12003/12003 [==============================] - 185s 15ms/step - loss: 0.0473 - subject_loss: 0.0251 - position_loss: 0.0221 - subject_accuracy: 0.9934 - position_accuracy: 0.9952 - val_loss: 0.0594 - val_subject_loss: 0.0238 - val_position_loss: 0.0355 - val_subject_accuracy: 0.9970 - val_position_accuracy: 0.9963\n",
            "Epoch 19/20\n",
            "12003/12003 [==============================] - 187s 16ms/step - loss: 0.0427 - subject_loss: 0.0250 - position_loss: 0.0176 - subject_accuracy: 0.9935 - position_accuracy: 0.9958 - val_loss: 0.0573 - val_subject_loss: 0.0179 - val_position_loss: 0.0393 - val_subject_accuracy: 0.9973 - val_position_accuracy: 0.9950\n",
            "Epoch 20/20\n",
            "12003/12003 [==============================] - 186s 16ms/step - loss: 0.0377 - subject_loss: 0.0201 - position_loss: 0.0175 - subject_accuracy: 0.9946 - position_accuracy: 0.9962 - val_loss: 0.0630 - val_subject_loss: 0.0266 - val_position_loss: 0.0362 - val_subject_accuracy: 0.9967 - val_position_accuracy: 0.9967\n"
          ],
          "name": "stdout"
        }
      ]
    },
    {
      "cell_type": "code",
      "metadata": {
        "id": "XwIPgaxRoCFp",
        "colab": {
          "base_uri": "https://localhost:8080/",
          "height": 51
        },
        "outputId": "15e4b77a-2409-46b6-9d39-f826587e64a6"
      },
      "source": [
        "score = model.evaluate(x_valid_n1, [y_valid_hot_sub, y_valid_hot_pos], verbose=0)\n",
        "print('Test loss:', score[0])\n",
        "print('Test accuracy:', score[2])"
      ],
      "execution_count": null,
      "outputs": [
        {
          "output_type": "stream",
          "text": [
            "Test loss: 0.06300457948483747\n",
            "Test accuracy: 0.03620878607034683\n"
          ],
          "name": "stdout"
        }
      ]
    },
    {
      "cell_type": "code",
      "metadata": {
        "id": "AfJbtamR36aU",
        "colab": {
          "base_uri": "https://localhost:8080/",
          "height": 54
        },
        "outputId": "385d6e08-010e-4abf-8cde-1d3f649bfec7"
      },
      "source": [
        "print(score)"
      ],
      "execution_count": null,
      "outputs": [
        {
          "output_type": "stream",
          "text": [
            "[0.06300457948483747, 0.026649154722690582, 0.03620878607034683, 0.9966678023338318, 0.9966678023338318]\n"
          ],
          "name": "stdout"
        }
      ]
    },
    {
      "cell_type": "code",
      "metadata": {
        "id": "HQ0b0MYSpCDf",
        "colab": {
          "base_uri": "https://localhost:8080/",
          "height": 300
        },
        "outputId": "6a6d3395-aa4b-4584-bedf-4cc15cc97c97"
      },
      "source": [
        "plt.plot(history_p.history['subject_accuracy'], label='subject_accuracy')\n",
        "plt.plot(history_p.history['val_subject_accuracy'], label = 'val_subject_accuracy')\n",
        "plt.xlabel('Epoch')\n",
        "plt.ylabel('Accuracy')\n",
        "plt.ylim([0, 1])\n",
        "plt.legend(loc='lower right')"
      ],
      "execution_count": null,
      "outputs": [
        {
          "output_type": "execute_result",
          "data": {
            "text/plain": [
              "<matplotlib.legend.Legend at 0x7f5bed3152e8>"
            ]
          },
          "metadata": {
            "tags": []
          },
          "execution_count": 66
        },
        {
          "output_type": "display_data",
          "data": {
            "image/png": "[encoded data removed]",
            "text/plain": [
              "<Figure size 432x288 with 1 Axes>"
            ]
          },
          "metadata": {
            "tags": [],
            "needs_background": "light"
          }
        }
      ]
    },
    {
      "cell_type": "code",
      "metadata": {
        "id": "wldfYy1w4NMh",
        "colab": {
          "base_uri": "https://localhost:8080/",
          "height": 300
        },
        "outputId": "f60188cb-2a47-4df5-ad96-827a02ac2774"
      },
      "source": [
        "plt.plot(history_p.history['subject_loss'], label='subject_loss')\n",
        "plt.plot(history_p.history['val_subject_loss'], label = 'val_subject_loss')\n",
        "\n",
        "plt.xlabel('Epoch')\n",
        "plt.ylabel('Loss')\n",
        "plt.ylim([0, 1])\n",
        "plt.legend(loc='upper right')"
      ],
      "execution_count": null,
      "outputs": [
        {
          "output_type": "execute_result",
          "data": {
            "text/plain": [
              "<matplotlib.legend.Legend at 0x7f5becc73748>"
            ]
          },
          "metadata": {
            "tags": []
          },
          "execution_count": 70
        },
        {
          "output_type": "display_data",
          "data": {
            "image/png": "[encoded data removed]",
            "text/plain": [
              "<Figure size 432x288 with 1 Axes>"
            ]
          },
          "metadata": {
            "tags": [],
            "needs_background": "light"
          }
        }
      ]
    },
    {
      "cell_type": "code",
      "metadata": {
        "id": "yCbeGIzP7EyC",
        "colab": {
          "base_uri": "https://localhost:8080/",
          "height": 357
        },
        "outputId": "3aaba876-ff1f-4512-b0d0-75a009666d8b"
      },
      "source": [
        "from sklearn.metrics import classification_report\n",
        "\n",
        "pred = model.predict(x_test_n1)[0]\n",
        "y_pred = [np.argmax(p) for p in pred]\n",
        "y_true = [np.argmax(p) for p in y_test_hot_sub]\n",
        "\n",
        "print(classification_report(y_true, y_pred))"
      ],
      "execution_count": null,
      "outputs": [
        {
          "output_type": "stream",
          "text": [
            "              precision    recall  f1-score   support\n",
            "\n",
            "           1       1.00      0.99      1.00       322\n",
            "           2       1.00      0.99      1.00       304\n",
            "           3       1.00      1.00      1.00       338\n",
            "           4       1.00      1.00      1.00       328\n",
            "           5       1.00      1.00      1.00       499\n",
            "           6       0.99      1.00      1.00       348\n",
            "           7       1.00      1.00      1.00       605\n",
            "           8       1.00      1.00      1.00       517\n",
            "           9       1.00      1.00      1.00       317\n",
            "          10       1.00      1.00      1.00       347\n",
            "          11       1.00      0.99      1.00       316\n",
            "          12       1.00      1.00      1.00       484\n",
            "          13       1.00      1.00      1.00       277\n",
            "\n",
            "    accuracy                           1.00      5002\n",
            "   macro avg       1.00      1.00      1.00      5002\n",
            "weighted avg       1.00      1.00      1.00      5002\n",
            "\n"
          ],
          "name": "stdout"
        }
      ]
    },
    {
      "cell_type": "code",
      "metadata": {
        "id": "xlaLT4AZEsiA"
      },
      "source": [
        "from sklearn.metrics import classification_report\n",
        "\n",
        "pred = model.predict(x_test_n1)[0]\n",
        "y_pred = [np.argmax(p) for p in pred]\n",
        "y_true = [np.argmax(p) for p in y_test_hot_sub]\n",
        "\n",
        "print(classification_report(y_true, y_pred))"
      ],
      "execution_count": null,
      "outputs": []
    },
    {
      "cell_type": "code",
      "metadata": {
        "id": "2wkqTqgF_0C3"
      },
      "source": [
        "# cnn report and analysis\n",
        "from sklearn.metrics import plot_confusion_matrix \n",
        "cnn_mod1 = metrics.f1_score(y_test_hot_sub, pred[0], average= \"weighted\")\n",
        "cnn_mod = metrics.confusion_matrix(y_test_hot_sub, pred[0])\n",
        "print(\"cnn\")\n",
        "print(\"F1 score: {}\".format(cnn_mod1))\n",
        "print(\"Confusion matrix: \\n\", cnn_mod)\n",
        "print('Plotting confusion matrix')"
      ],
      "execution_count": null,
      "outputs": []
    }
  ]
}